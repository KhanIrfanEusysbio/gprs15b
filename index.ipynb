{
 "metadata": {
  "name": "",
  "signature": "sha256:e66efb54938ea1707ff1bc4910e333f2fcd7848564f77a1890130c101af29c59"
 },
 "nbformat": 3,
 "nbformat_minor": 0,
 "worksheets": [
  {
   "cells": [
    {
     "cell_type": "markdown",
     "metadata": {},
     "source": [
      "# Gaussian Process Winter School, Genova, Italy\n",
      "\n",
      "### 19th-22nd January 2015\n",
      "\n",
      "### Neil D. Lawrence\n",
      "\n",
      "## Introduction\n",
      "\n",
      "Welcome to the Gaussian process winter school in Genova in Italy. \n",
      "\n",
      "This notebook provides you with the guide to your lab classes for the entire road show. The lab classes are intended to help get you familiar with modeling with Gaussian processes as well as the principles of probabilistic inference.\n",
      "\n",
      "The lab classes are based on our GPy software, the most recent release was on 21st November 2014. You can install the GPy framework with\n",
      "\n",
      "```sh\n",
      "pip install GPy\n",
      "```\n",
      "\n",
      "As well as these lab classes there are a range of tutorials on how to use `GPy`, many of which are written by members of my research group. `GPy` is under active development and is released under a BSD license, you'd also be very welcome to contribute!\n",
      "\n",
      "As well as the GPy software we use our `pods` software for ['open data science'](http://inverseprobability.com/2014/07/01/open-data-science/) for access to data sets and other resources.\n",
      "\n",
      "```sh\n",
      "pip install -pre pods\n",
      "```\n",
      "\n",
      "## Day 1\n",
      "\n",
      "The first day will review probabilistic inference and introduce Gaussian processes. The lab session will allow you to become familiar with the Jupyter (the ipython notebook) and start to work with Gaussian processes.\n",
      "\n",
      "* [Welcome to Jupyter](./jupyter introduction.ipynb)\n",
      "* [Introduction to Probabilistic Regression](./probabilistic interpretations of regression.ipynb)\n",
      "* [Introduction to Bayesian Regression](./bayesian approach to regression.ipynb)\n",
      "* [Introduction to Gaussian Processes](./gaussian process introduction.ipynb)\n",
      "\n",
      "## Day 2\n",
      "\n",
      "The second day will focus on Gaussian process models and developing covariance functions. \n",
      "\n",
      "* [Introduction to GPy](./GPy_intro.ipynb) `GPy` is a Python Gaussian process framework that implements many of the ideas we'll see in the course.\n",
      "* [Optimizing Gaussian Processes](./GP_optimize.ipynb)\n",
      "\n",
      "## Day 3\n",
      "\n",
      "The third day reviews multiple output Gaussian processes for learning vector valued functions and approximations for Gaussian processes.\n",
      "\n",
      "* [Multiple Output GPs](./multiple outputs.ipynb)\n",
      "* [Differential Equations and Gaussian Processes](./GP_differential_equation.ipynb)\n",
      "\n",
      "\n",
      "## Day 4\n",
      "\n",
      "On the fourth day we'll look at latent variable models and latent force models.\n",
      "\n",
      "* [Low Rank Approximations for Gaussian Processes](./low_rank_approximations.ipynb)\n",
      "* [Non Gaussian Likelihoods](./non_gaussian_likelihoods.ipynb)\n",
      "* [Dimensionality Reduction with Gaussian Processes](./dimensionality_reduction_with_gaussian_processes.ipynb)"
     ]
    },
    {
     "cell_type": "code",
     "collapsed": false,
     "input": [],
     "language": "python",
     "metadata": {},
     "outputs": []
    }
   ],
   "metadata": {}
  }
 ]
}