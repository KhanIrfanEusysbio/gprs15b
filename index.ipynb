{
 "metadata": {
  "name": "",
  "signature": "sha256:db1bdd83cfd6847bf058626936e1a86ee8c6264d9bea05640a5bdaac57bb1c0a"
 },
 "nbformat": 3,
 "nbformat_minor": 0,
 "worksheets": [
  {
   "cells": [
    {
     "cell_type": "markdown",
     "metadata": {},
     "source": [
      "# Gaussian Process Road Show\n",
      "\n",
      "### Neil D. Lawrence 23rd December 2014\n",
      "\n",
      "## Introduciton\n",
      "\n",
      "Welcome to the Gaussian process road show. \n",
      "\n",
      "This notebook provides you with the guide to your lab classes for the entire road show. The lab classes are intended to help get you familiar with modeling with Gaussian processes as well as the principles of probabilistic inference.\n",
      "\n",
      "The lab classes are based on our GPy software, the most recent release was on 21st November 2014. You can install the GPy framework with\n",
      "\n",
      "```sh\n",
      "pip install GPy\n",
      "```\n",
      "\n",
      "As well as these lab classes there are a range of tutorials on how to use `GPy`, many of which are written by members of my research group. `GPy` is under active development and is released under a BSD license, you'd also be very welcome to contribute!\n",
      "\n",
      "## Day 1\n",
      "\n",
      "The first day will review probabilistic inference and introduce Gaussian processes. The lab session will allow you to become familiar with the Jupyter (the ipython notebook) and start to work with Gaussian processes.\n",
      "\n",
      "* [Welcome to Jupyter](./notebook_intro.ipynb)\n",
      "* [Introduction to Probabilistic Regression](./prob_intro.ipynb)\n",
      "* [Introduction to Bayesian Regression](./bayes_intro.ipynb)\n",
      "* [Introduction to Gaussian Processes](./gp_intro.ipynb)\n",
      "\n",
      "## Day 2\n",
      "\n",
      "The second day will focus on Gaussian process models and developing covariance functions. \n",
      "\n",
      "## Day 3\n",
      "\n",
      "The third day reviews multiple output Gaussian processes for learning vector valued functions and approximations for Gaussian processes.\n",
      "\n",
      "## Day 4\n",
      "\n",
      "On the fourth day we'll look at latent variable models and latent force models.\n"
     ]
    },
    {
     "cell_type": "code",
     "collapsed": false,
     "input": [],
     "language": "python",
     "metadata": {},
     "outputs": []
    }
   ],
   "metadata": {}
  }
 ]
}