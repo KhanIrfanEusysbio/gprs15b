{
 "metadata": {
  "name": "",
  "signature": "sha256:113ca436222d4ae4802c71c7c3847aaf746b57c67c995a9fbd96a2cf340bdee0"
 },
 "nbformat": 3,
 "nbformat_minor": 0,
 "worksheets": [
  {
   "cells": [
    {
     "cell_type": "markdown",
     "metadata": {},
     "source": [
      "# Gaussian Process Regression in GPy\n",
      "\n",
      "## Gaussian Process Winter School, Genova, Italy\n",
      "\n",
      "### 20th January 2014\n",
      "\n",
      "### Neil D. Lawrence and Nicolas Durrande\n",
      "\n",
      "In the introduction to `GPy` you saw how it was possible to build covariance functions with the GPy software. The covariance function contains the assumptions about the data in it. In the Gaussian process, the covariance funciton *encodes* the model. However, to make predictions, you need to combine the model with data. \n",
      "\n",
      "If the data we are given, $\\mathbf{y}$ is *real* valued, then the problem is known as a regression problem. If a Gaussian noise model is used, then this is known as Gaussian process regression.\n"
     ]
    },
    {
     "cell_type": "code",
     "collapsed": false,
     "input": [
      "%matplotlib inline\n",
      "import numpy as np\n",
      "import pods\n",
      "import pylab as plt\n",
      "import GPy\n",
      "from IPython.display import display"
     ],
     "language": "python",
     "metadata": {},
     "outputs": [
      {
       "output_type": "stream",
       "stream": "stderr",
       "text": [
        "/Users/neil/Library/Enthought/Canopy_64bit/User/lib/python2.7/site-packages/pytz/__init__.py:29: UserWarning: Module pods was already imported from /Users/neil/sods/ods/pods/__init__.pyc, but /Users/neil/Library/Enthought/Canopy_64bit/User/lib/python2.7/site-packages is being added to sys.path\n",
        "  from pkg_resources import resource_stream\n"
       ]
      }
     ],
     "prompt_number": 5
    },
    {
     "cell_type": "markdown",
     "metadata": {},
     "source": [
      "We will now combine the Gaussian process prior with some data to form a GP regression model with GPy. We will generate data from the function \n",
      "$$\n",
      "f(x) = \u2212 \\cos(\\pi x ) + \\sin(4\\pi x )\n",
      "$$ \n",
      "over $[0, 1]$, adding some noise to give $y(x) = f(x) + \\epsilon$, with the noise being Gaussian distributed, $\\epsilon \\sim \\mathcal{N}(0, 0.01)$. "
     ]
    },
    {
     "cell_type": "code",
     "collapsed": false,
     "input": [
      "X = np.linspace(0.05,0.95,10)[:,None]\n",
      "Y = -np.cos(np.pi*X) + np.sin(4*np.pi*X) + np.random.normal(loc=0.0, scale=0.1, size=(10,1)) \n",
      "plt.figure()\n",
      "plt.plot(X,Y,'kx',mew=1.5)"
     ],
     "language": "python",
     "metadata": {},
     "outputs": [
      {
       "metadata": {},
       "output_type": "pyout",
       "prompt_number": 6,
       "text": [
        "[<matplotlib.lines.Line2D at 0x10ee24150>]"
       ]
      },
      {
       "metadata": {},
       "output_type": "display_data",
       "png": "[encoded data removed]",
       "text": [
        "<matplotlib.figure.Figure at 0x10ee00250>"
       ]
      }
     ],
     "prompt_number": 6
    },
    {
     "cell_type": "markdown",
     "metadata": {},
     "source": [
      "A GP regression model based on an exponentiated quadratic covariance function can be defined by first defining a covariance function, "
     ]
    },
    {
     "cell_type": "code",
     "collapsed": false,
     "input": [
      "k = GPy.kern.RBF(input_dim=1, variance=1., lengthscale=0.2)"
     ],
     "language": "python",
     "metadata": {},
     "outputs": [],
     "prompt_number": 7
    },
    {
     "cell_type": "markdown",
     "metadata": {},
     "source": [
      "And then combining it with the data to form a Gaussian process model,"
     ]
    },
    {
     "cell_type": "code",
     "collapsed": false,
     "input": [
      "model = GPy.models.GPRegression(X,Y,k)"
     ],
     "language": "python",
     "metadata": {},
     "outputs": [],
     "prompt_number": 8
    },
    {
     "cell_type": "markdown",
     "metadata": {},
     "source": [
      "Just as for the covariance function object, we can find out about the model using the command `display(m)`. "
     ]
    },
    {
     "cell_type": "code",
     "collapsed": false,
     "input": [
      "display(model)"
     ],
     "language": "python",
     "metadata": {},
     "outputs": [
      {
       "html": [
        "<style type=\"text/css\">\n",
        ".pd{\n",
        "    font-family:\"Courier New\", Courier, monospace !important;\n",
        "}\n",
        "</style>\n",
        "\n",
        "<p class=pd>\n",
        "<b>Model</b>: GP regression<br>\n",
        "<b>Log-likelihood</b>: -13.3414898005<br>\n",
        "<b>Number of Parameters</b>: 3<br>\n",
        "</p>\n",
        "<style type=\"text/css\">\n",
        ".tg  {border-collapse:collapse;border-spacing:0;border-color:#999;}\n",
        ".tg td{font-family:Arial, sans-serif;font-size:14px;padding:2px 3px;border-style:solid;border-width:1px;overflow:hidden;word-break:normal;border-color:#999;color:#444;background-color:#F7FDFA;}\n",
        ".tg th{font-family:Arial, sans-serif;font-size:14px;font-weight:normal;padding:2px 3px;border-style:solid;border-width:1px;overflow:hidden;word-break:normal;border-color:#999;color:#fff;background-color:#26ADE4;}\n",
        ".tg .tg-left{font-family:\"Courier New\", Courier, monospace !important;;text-align:left}\n",
        ".tg .tg-right{font-family:\"Courier New\", Courier, monospace !important;;text-align:right}\n",
        "</style>\n",
        "<table class=\"tg\">\n",
        "<tr>\n",
        "  <th><b>GP_regression.</b></th>\n",
        "  <th><b>Value</b></th>\n",
        "  <th><b>Constraint</b></th>\n",
        "  <th><b>Prior</b></th>\n",
        "  <th><b>Tied to</b></th>\n",
        "</tr>\n",
        "<tr><td class=tg-left>rbf.variance           </td><td class=tg-right>  1.0</td><td class=tg-left>   +ve    </td><td class=tg-left>     </td><td class=tg-left>       </td></tr>\n",
        "<tr><td class=tg-left>rbf.lengthscale        </td><td class=tg-right>  0.2</td><td class=tg-left>   +ve    </td><td class=tg-left>     </td><td class=tg-left>       </td></tr>\n",
        "<tr><td class=tg-left>Gaussian_noise.variance</td><td class=tg-right>  1.0</td><td class=tg-left>   +ve    </td><td class=tg-left>     </td><td class=tg-left>       </td></tr>\n",
        "</table>"
       ],
       "metadata": {},
       "output_type": "display_data",
       "text": [
        "<GPy.models.gp_regression.GPRegression at 0x10461f750>"
       ]
      }
     ],
     "prompt_number": 9
    },
    {
     "cell_type": "markdown",
     "metadata": {},
     "source": [
      "Note that by default the model includes some observation noise\n",
      "with variance 1. We can see the posterior mean prediction and visualize the marginal posterior variances using \n",
      "```python\n",
      "model.plot()\n",
      "```"
     ]
    },
    {
     "cell_type": "code",
     "collapsed": false,
     "input": [
      "_ = model.plot()"
     ],
     "language": "python",
     "metadata": {},
     "outputs": [
      {
       "metadata": {},
       "output_type": "display_data",
       "png": "[encoded data removed]",
       "text": [
        "<matplotlib.figure.Figure at 0x10f1a6f90>"
       ]
      }
     ],
     "prompt_number": 11
    },
    {
     "cell_type": "markdown",
     "metadata": {},
     "source": [
      "The actual predictions of the model for a set of points `Xstar`\n",
      "(an $m \\times p$ array) can be computed using \n",
      "\n",
      "```python\n",
      "Ystar, Vstar, up95, lo95 = model.predict(Xstar)`\n",
      "```\n",
      "\n",
      "## Exercise 1\n",
      "\n",
      "What do you think about this first fit? Does the prior given by the GP seem to be\n",
      "appropriate?"
     ]
    },
    {
     "cell_type": "raw",
     "metadata": {},
     "source": [
      "# Exercise 1 answer"
     ]
    },
    {
     "cell_type": "markdown",
     "metadata": {},
     "source": [
      "### Exercise 2\n",
      "\n",
      "The parameters of the models can be modified using the parameter name, for example \n",
      "```python\n",
      "model.Gaussian_noise.variance = 0.001\n",
      "```\n",
      "Change the values of the parameters to obtain a better fit."
     ]
    },
    {
     "cell_type": "code",
     "collapsed": false,
     "input": [
      "# Exercise 2 answer here"
     ],
     "language": "python",
     "metadata": {},
     "outputs": [],
     "prompt_number": 12
    },
    {
     "cell_type": "markdown",
     "metadata": {},
     "source": [
      "As we saw when we introduced GPy and covariance functions, random sample paths from the conditional GP can be obtained using\n",
      "```python\n",
      "np.random.multivariate_normal(mu[:,0],C)\n",
      "``` \n",
      "Now you can sample paths from the *posterior* process by first obtaining the mean and covariance of the posterior, `mu` and `C`. These can be obtained from the `predict` method, \n",
      "```python\n",
      "mu, C, up95, lo95 = model.predict(Xp,full_cov=True)\n",
      "```\n"
     ]
    },
    {
     "cell_type": "markdown",
     "metadata": {},
     "source": [
      "### Exercise 3\n",
      "\n",
      "Obtain 10 samples from the posterior sample and plot them alongside the data below."
     ]
    },
    {
     "cell_type": "code",
     "collapsed": false,
     "input": [
      "# Exercise 3"
     ],
     "language": "python",
     "metadata": {},
     "outputs": [],
     "prompt_number": 13
    },
    {
     "cell_type": "markdown",
     "metadata": {},
     "source": [
      "## More Advanced: Uncertainty Propagation\n",
      "\n",
      "Let $x$ be a random variable defined over the real numbers, $\\Re$, and $f(\\cdot)$ be a function mapping between the real numbers $\\Re \\rightarrow \\Re$. Uncertainty\n",
      "propagation is the study of the distribution of the random variable $f ( x )$.\n",
      "\n",
      "We will see in this section the advantage of using a model when only a few observations of $f$ are available. We consider here the 2-dimensional Branin test function\n",
      "defined over [\u22125, 10] \u00d7 [0, 15] and a set of 25 observations as seen in Figure 3."
     ]
    },
    {
     "cell_type": "code",
     "collapsed": false,
     "input": [
      "# Definition of the Branin test function\n",
      "def branin(X):\n",
      "    y = (X[:,1]-5.1/(4*np.pi**2)*X[:,0]**2+5*X[:,0]/np.pi-6)**2\n",
      "    y += 10*(1-1/(8*np.pi))*np.cos(X[:,0])+10\n",
      "    return(y)\n",
      "\n",
      "# Training set defined as a 5*5 grid:\n",
      "xg1 = np.linspace(-5,10,5)\n",
      "xg2 = np.linspace(0,15,5)\n",
      "X = np.zeros((xg1.size * xg2.size,2))\n",
      "for i,x1 in enumerate(xg1):\n",
      "    for j,x2 in enumerate(xg2):\n",
      "        X[i+xg1.size*j,:] = [x1,x2]\n",
      "\n",
      "Y = branin(X)[:,None]"
     ],
     "language": "python",
     "metadata": {},
     "outputs": [],
     "prompt_number": 14
    },
    {
     "cell_type": "markdown",
     "metadata": {},
     "source": [
      "We assume here that we are interested in the distribution of $f (U )$ where $U$ is a\n",
      "random variable with uniform distribution over the input space of $f$. We will focus on\n",
      "the computation of two quantities: $E[ f (U )]$ and $P( f (U ) > 200)$.\n",
      "\n",
      "## Computation of $E[f(U)]$\n",
      "\n",
      "The expectation of $f (U )$ is given by $\\int_x f ( x )\\text{d}x$. A basic approach to approximate this\n",
      "integral is to compute the mean of the 25 observations: `np.mean(Y)`. Since the points\n",
      "are distributed on a grid, this can be seen as the approximation of the integral by a\n",
      "rough Riemann sum. The result can be compared with the actual mean of the Branin\n",
      "function which is 54.31.\n",
      "\n",
      "Alternatively, we can fit a GP model and compute the integral of the best predictor\n",
      "by Monte Carlo sampling:"
     ]
    },
    {
     "cell_type": "code",
     "collapsed": false,
     "input": [
      "# Fit a GP\n",
      "# Create an exponentiated quadratic plus bias covariance function\n",
      "kg = GPy.kern.RBF(input_dim=2, ARD = True)\n",
      "kb = GPy.kern.Bias(input_dim=2)\n",
      "k = kg + kb\n",
      "\n",
      "# Build a GP model\n",
      "model = GPy.models.GPRegression(X,Y,k)\n",
      "model.Gaussian_noise.variance = 1e-5\n",
      "display(model)\n",
      "\n",
      "# fix the variance of the noise\n",
      "model.Gaussian_noise.variance.fix()\n",
      "display(model)\n",
      "\n",
      "# constrain parameters to be bounded\n",
      "#m.constrain_bounded('.*rbf_var',1e-3,1e5)\n",
      "#m.constrain_bounded('.*bias_var',1e-3,1e5)\n",
      "#m.constrain_bounded('.*rbf_len',.1,200.)\n",
      "\n",
      "# fix the noise variance\n",
      "\n",
      "#m.constrain_fixed('.*noise',1e-5)\n",
      "# Randomize the model and optimize\n",
      "model.randomize()\n",
      "model.optimize()\n",
      "\n",
      "# Plot the resulting approximation to Brainin\n",
      "# Here you get a two-d plot becaue the function is two dimensional.\n",
      "model.plot()\n",
      "display(model.add.rbf.lengthscale)\n",
      "\n",
      "# Compute the mean of model prediction on 1e5 Monte Carlo samples\n",
      "Xp = np.random.uniform(size=(1e5,2))\n",
      "Xp[:,0] = Xp[:,0]*15-5\n",
      "Xp[:,1] = Xp[:,1]*15\n",
      "Yp = model.predict(Xp)[0]\n",
      "np.mean(Yp)"
     ],
     "language": "python",
     "metadata": {},
     "outputs": [
      {
       "html": [
        "<style type=\"text/css\">\n",
        ".pd{\n",
        "    font-family:\"Courier New\", Courier, monospace !important;\n",
        "}\n",
        "</style>\n",
        "\n",
        "<p class=pd>\n",
        "<b>Model</b>: GP regression<br>\n",
        "<b>Log-likelihood</b>: -74285.8774977<br>\n",
        "<b>Number of Parameters</b>: 5<br>\n",
        "</p>\n",
        "<style type=\"text/css\">\n",
        ".tg  {border-collapse:collapse;border-spacing:0;border-color:#999;}\n",
        ".tg td{font-family:Arial, sans-serif;font-size:14px;padding:2px 3px;border-style:solid;border-width:1px;overflow:hidden;word-break:normal;border-color:#999;color:#444;background-color:#F7FDFA;}\n",
        ".tg th{font-family:Arial, sans-serif;font-size:14px;font-weight:normal;padding:2px 3px;border-style:solid;border-width:1px;overflow:hidden;word-break:normal;border-color:#999;color:#fff;background-color:#26ADE4;}\n",
        ".tg .tg-left{font-family:\"Courier New\", Courier, monospace !important;;text-align:left}\n",
        ".tg .tg-right{font-family:\"Courier New\", Courier, monospace !important;;text-align:right}\n",
        "</style>\n",
        "<table class=\"tg\">\n",
        "<tr>\n",
        "  <th><b>GP_regression.</b></th>\n",
        "  <th><b>Value</b></th>\n",
        "  <th><b>Constraint</b></th>\n",
        "  <th><b>Prior</b></th>\n",
        "  <th><b>Tied to</b></th>\n",
        "</tr>\n",
        "<tr><td class=tg-left>add.rbf.variance       </td><td class=tg-right>  1.0</td><td class=tg-left>   +ve    </td><td class=tg-left>     </td><td class=tg-left>       </td></tr>\n",
        "<tr><td class=tg-left>add.rbf.lengthscale    </td><td class=tg-right> (2,)</td><td class=tg-left>   +ve    </td><td class=tg-left>     </td><td class=tg-left>       </td></tr>\n",
        "<tr><td class=tg-left>add.bias.variance      </td><td class=tg-right>  1.0</td><td class=tg-left>   +ve    </td><td class=tg-left>     </td><td class=tg-left>       </td></tr>\n",
        "<tr><td class=tg-left>Gaussian_noise.variance</td><td class=tg-right>1e-05</td><td class=tg-left>   +ve    </td><td class=tg-left>     </td><td class=tg-left>       </td></tr>\n",
        "</table>"
       ],
       "metadata": {},
       "output_type": "display_data",
       "text": [
        "<GPy.models.gp_regression.GPRegression at 0x10f62c2d0>"
       ]
      },
      {
       "output_type": "stream",
       "stream": "stdout",
       "text": [
        "WARNING: reconstraining parameters GP_regression.Gaussian_noise.variance\n"
       ]
      },
      {
       "html": [
        "<style type=\"text/css\">\n",
        ".pd{\n",
        "    font-family:\"Courier New\", Courier, monospace !important;\n",
        "}\n",
        "</style>\n",
        "\n",
        "<p class=pd>\n",
        "<b>Model</b>: GP regression<br>\n",
        "<b>Log-likelihood</b>: -74285.8774977<br>\n",
        "<b>Number of Parameters</b>: 5<br>\n",
        "</p>\n",
        "<style type=\"text/css\">\n",
        ".tg  {border-collapse:collapse;border-spacing:0;border-color:#999;}\n",
        ".tg td{font-family:Arial, sans-serif;font-size:14px;padding:2px 3px;border-style:solid;border-width:1px;overflow:hidden;word-break:normal;border-color:#999;color:#444;background-color:#F7FDFA;}\n",
        ".tg th{font-family:Arial, sans-serif;font-size:14px;font-weight:normal;padding:2px 3px;border-style:solid;border-width:1px;overflow:hidden;word-break:normal;border-color:#999;color:#fff;background-color:#26ADE4;}\n",
        ".tg .tg-left{font-family:\"Courier New\", Courier, monospace !important;;text-align:left}\n",
        ".tg .tg-right{font-family:\"Courier New\", Courier, monospace !important;;text-align:right}\n",
        "</style>\n",
        "<table class=\"tg\">\n",
        "<tr>\n",
        "  <th><b>GP_regression.</b></th>\n",
        "  <th><b>Value</b></th>\n",
        "  <th><b>Constraint</b></th>\n",
        "  <th><b>Prior</b></th>\n",
        "  <th><b>Tied to</b></th>\n",
        "</tr>\n",
        "<tr><td class=tg-left>add.rbf.variance       </td><td class=tg-right>  1.0</td><td class=tg-left>   +ve    </td><td class=tg-left>     </td><td class=tg-left>       </td></tr>\n",
        "<tr><td class=tg-left>add.rbf.lengthscale    </td><td class=tg-right> (2,)</td><td class=tg-left>   +ve    </td><td class=tg-left>     </td><td class=tg-left>       </td></tr>\n",
        "<tr><td class=tg-left>add.bias.variance      </td><td class=tg-right>  1.0</td><td class=tg-left>   +ve    </td><td class=tg-left>     </td><td class=tg-left>       </td></tr>\n",
        "<tr><td class=tg-left>Gaussian_noise.variance</td><td class=tg-right>1e-05</td><td class=tg-left>  fixed   </td><td class=tg-left>     </td><td class=tg-left>       </td></tr>\n",
        "</table>"
       ],
       "metadata": {},
       "output_type": "display_data",
       "text": [
        "<GPy.models.gp_regression.GPRegression at 0x10f62c2d0>"
       ]
      },
      {
       "html": [
        "<style type=\"text/css\">\n",
        ".tg  {border-collapse:collapse;border-spacing:0;border-color:#999;}\n",
        ".tg td{font-family:Arial, sans-serif;font-size:14px;padding:2px 3px;border-style:solid;border-width:1px;overflow:hidden;word-break:normal;border-color:#999;color:#444;background-color:#F7FDFA;}\n",
        ".tg th{font-family:Arial, sans-serif;font-size:14px;font-weight:normal;padding:2px 3px;border-style:solid;border-width:1px;overflow:hidden;word-break:normal;border-color:#999;color:#fff;background-color:#26ADE4;}\n",
        ".tg .tg-left{font-family:\"Courier New\", Courier, monospace !important;;text-align:left}\n",
        ".tg .tg-right{font-family:\"Courier New\", Courier, monospace !important;;text-align:right}\n",
        "</style>\n",
        "<table class=\"tg\">\n",
        "\n",
        "<tr>\n",
        "  <th><b>Index</b></th>\n",
        "  <th><b>GP_regression.add.rbf.lengthscale</b></th>\n",
        "  <th><b>Constraint</b></th>\n",
        "  <th><b>Prior</b></th>\n",
        "  <th><b>Tied to</b></th>\n",
        "</tr>\n",
        "<tr><td class=tg-left>[0]</td><td  class=tg-right>27.2378440487</td><td class=tg-left>+ve</td><td class=tg-left></td><td class=tg-left>N/A</td></tr>\n",
        "<tr><td class=tg-left>[1]</td><td  class=tg-right>195.186902863</td><td class=tg-left>+ve</td><td class=tg-left></td><td class=tg-left>N/A</td></tr>\n",
        "</table>"
       ],
       "metadata": {},
       "output_type": "display_data",
       "text": [
        "\u001b[1mGP_regression.add.rbf.lengthscale\u001b[0;0m:\n",
        "Param([  27.23784405,  195.18690286])"
       ]
      },
      {
       "metadata": {},
       "output_type": "pyout",
       "prompt_number": 16,
       "text": [
        "58.393060659179689"
       ]
      },
      {
       "metadata": {},
       "output_type": "display_data",
       "png": "[encoded data removed]",
       "text": [
        "<matplotlib.figure.Figure at 0x10ee2c310>"
       ]
      }
     ],
     "prompt_number": 16
    },
    {
     "cell_type": "markdown",
     "metadata": {},
     "source": [
      "### Exercise 4\n",
      "\n",
      "Has the approximation of the mean been improved by using the GP model?"
     ]
    },
    {
     "cell_type": "raw",
     "metadata": {},
     "source": [
      "# Exercise 4 answer "
     ]
    },
    {
     "cell_type": "markdown",
     "metadata": {},
     "source": [
      "### Exercise 5\n",
      "\n",
      "One particular feature of GPs we have not use for now is their prediction variance. Can you use it to define some confidence intervals around the previous result?"
     ]
    },
    {
     "cell_type": "code",
     "collapsed": false,
     "input": [
      "# Exercise 5"
     ],
     "language": "python",
     "metadata": {},
     "outputs": [],
     "prompt_number": 17
    },
    {
     "cell_type": "markdown",
     "metadata": {},
     "source": [
      "## Computation of $P( f (U ) > 200)$\n",
      "\n",
      "In various cases it is interesting to look at the probability that $f$ is greater than a given\n",
      "threshold. For example, assume that $f$ is the response of a physical model representing\n",
      "the maximum constraint in a structure depending on some parameters of the system\n",
      "such as Young\u2019s modulus of the material (say $Y$) and the force applied on the structure\n",
      "(say $F$). If the later are uncertain, the probability of failure of the structure is given by\n",
      "$P( f (Y, F ) > \\text{f_max} )$ where $f_\\text{max}$ is the maximum acceptable constraint.\n",
      "\n",
      "### Exercise 6\n",
      "\n",
      "As previously, use the 25 observations to compute a rough estimate of the probability that $f (U ) > 200$."
     ]
    },
    {
     "cell_type": "code",
     "collapsed": false,
     "input": [
      "# Exercise 6 answer"
     ],
     "language": "python",
     "metadata": {},
     "outputs": [],
     "prompt_number": 18
    },
    {
     "cell_type": "markdown",
     "metadata": {},
     "source": [
      "### Exercise 7\n",
      "\n",
      "Compute the probability that the best predictor is greater than the threshold and compute some confidence intervals for the result."
     ]
    },
    {
     "cell_type": "code",
     "collapsed": false,
     "input": [
      "# Exercise 7 answer"
     ],
     "language": "python",
     "metadata": {},
     "outputs": [],
     "prompt_number": 19
    },
    {
     "cell_type": "markdown",
     "metadata": {},
     "source": [
      "These two values can be compared with the actual value {$P( f (U ) > 200) = 1.23\\times 10^{\u22122}$ .\n",
      "\n",
      "We now assume that we have an extra budget of 10 evaluations of f and we want to\n",
      "use these new evaluations to improve the accuracy of the previous result."
     ]
    },
    {
     "cell_type": "markdown",
     "metadata": {},
     "source": [
      "### Exercise 8\n",
      "\n",
      "a) Given the previous GP model, where is it interesting to add the new observations if we want to improve the accuracy of the estimator and reduce its variance? Can you think about (and implement!) a procedure that updates sequentially the model with new points in order to improve the estimation of $P( f (U ) > 200)$?"
     ]
    },
    {
     "cell_type": "raw",
     "metadata": {},
     "source": [
      "# Exercise 8 answer "
     ]
    }
   ],
   "metadata": {}
  }
 ]
}