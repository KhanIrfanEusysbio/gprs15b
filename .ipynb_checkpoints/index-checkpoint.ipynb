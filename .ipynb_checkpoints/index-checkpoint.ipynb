{
 "metadata": {
  "name": "",
  "signature": "sha256:a0aef9dc4a456a615430693313456afb5f26088be58efbd00c9ed8a02fb09fcc"
 },
 "nbformat": 3,
 "nbformat_minor": 0,
 "worksheets": []
}