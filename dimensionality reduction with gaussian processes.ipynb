{
 "metadata": {
  "name": "",
  "signature": "sha256:e9c5728007334ce322017747ab05e291152cbcfde7698a858153af66badc4ff4"
 },
 "nbformat": 3,
 "nbformat_minor": 0,
 "worksheets": [
  {
   "cells": [
    {
     "cell_type": "markdown",
     "metadata": {},
     "source": [
      "# Dimensionality Reduction with Gaussian Processes\n",
      "\n",
      "## Gaussian Process Winter School, Genova, Italy\n",
      "\n",
      "## 22nd January 2015\n",
      "\n",
      "### written by Max Zwiessele, Neil D. Lawrence\n"
     ]
    },
    {
     "cell_type": "code",
     "collapsed": false,
     "input": [
      "%matplotlib inline\n",
      "import numpy as np\n",
      "import matplotlib.pyplot as plt\n",
      "from IPython.display import display\n",
      "import pods\n",
      "import GPy\n",
      "import string"
     ],
     "language": "python",
     "metadata": {},
     "outputs": [],
     "prompt_number": 29
    },
    {
     "cell_type": "markdown",
     "metadata": {},
     "source": [
      "For this lab, we've created a dataset `digits.npy` containing all handwritten digits from $0 \\cdots 9$ handwritten, provided by deCampos et al. [2009]. All digits were cropped and scaled down to an appropriate format.\n",
      "You can retrieve the dataset as follows:"
     ]
    },
    {
     "cell_type": "code",
     "collapsed": false,
     "input": [
      "import urllib\n",
      "#urllib.urlretrieve('http://staffwww.dcs.sheffield.ac.uk/people/J.Hensman/gpsummer/Lab3.zip', 'Lab3.zip')\n",
      "#import zipfile\n",
      "#zip = zipfile.ZipFile('Lab3.zip', 'r')\n",
      "#for name in zip.namelist():\n",
      "#    zip.extract(name, '.')\n",
      "from load_plotting import * # for plotting"
     ],
     "language": "python",
     "metadata": {},
     "outputs": [],
     "prompt_number": 30
    },
    {
     "cell_type": "markdown",
     "metadata": {},
     "source": [
      "We will only use some of the digits for the demonstrations in this lab class, but you can edit the code below to select different subsets of the digit data as you wish."
     ]
    },
    {
     "cell_type": "code",
     "collapsed": false,
     "input": [
      "digits = np.load('digits.npy')\n",
      "which = [0,1,2,6,7,9] # which digits to work on\n",
      "digits = digits[which,:,:,:]\n",
      "num_classes, num_samples, height, width = digits.shape\n",
      "labels = np.array([[str(l)]*num_samples for l in which])"
     ],
     "language": "python",
     "metadata": {},
     "outputs": [],
     "prompt_number": 31
    },
    {
     "cell_type": "markdown",
     "metadata": {},
     "source": [
      "You can try to plot some sample using `plt.matshow`.\n",
      "\n",
      "## Principal Component Analysis\n",
      "\n",
      "Principal component analysis (PCA) finds a rotation of the observed outputs, such that the rotated principal component (PC) space maximizes the variance of the data observed, sorted from most to least important (most to least variable in the corresponding PC).\n",
      "\n",
      "In order to apply PCA in an easy way, we have included a PCA module in pca.py. You can import the module by \n",
      "import <path.to.pca> (without the ending .py!). \n",
      "To run PCA on the digits we have to reshape (Hint: np.reshape ) digits . \n",
      "\n",
      "* What is the right shape $n \\times d$ to use?\n",
      "\n",
      "We will call the reshaped observed outputs $\\mathbf{Y}$ in the following."
     ]
    },
    {
     "cell_type": "code",
     "collapsed": false,
     "input": [
      "Y = digits.reshape((digits.shape[0]*digits.shape[1],digits.shape[2]*digits.shape[3]))\n",
      "Yn = Y-Y.mean()"
     ],
     "language": "python",
     "metadata": {},
     "outputs": [],
     "prompt_number": 32
    },
    {
     "cell_type": "markdown",
     "metadata": {},
     "source": [
      "Now let\u2019s run PCA on the reshaped dataset $\\mathbf{Y}$:"
     ]
    },
    {
     "cell_type": "code",
     "collapsed": false,
     "input": [
      "import pca\n",
      "p = pca.PCA(Y) # create PCA class with digits dataset"
     ],
     "language": "python",
     "metadata": {},
     "outputs": [],
     "prompt_number": 33
    },
    {
     "cell_type": "markdown",
     "metadata": {},
     "source": [
      "The resulting plot will show the lower dimensional representation of the digits in 2 dimensions."
     ]
    },
    {
     "cell_type": "code",
     "collapsed": false,
     "input": [
      "p.plot_fracs(20) # plot first 20 eigenvalue fractions\n",
      "p.plot_2d(Y,labels=labels.flatten(), colors=colors)\n",
      "plt.legend()"
     ],
     "language": "python",
     "metadata": {},
     "outputs": [
      {
       "metadata": {},
       "output_type": "pyout",
       "prompt_number": 34,
       "text": [
        "<matplotlib.legend.Legend at 0x11110c990>"
       ]
      },
      {
       "metadata": {},
       "output_type": "display_data",
       "png": "[encoded data removed]",
       "text": [
        "<matplotlib.figure.Figure at 0x10f6bf050>"
       ]
      },
      {
       "metadata": {},
       "output_type": "display_data",
       "png": "[encoded data removed]",
       "text": [
        "<matplotlib.figure.Figure at 0x10f6bf2d0>"
       ]
      }
     ],
     "prompt_number": 34
    },
    {
     "cell_type": "markdown",
     "metadata": {},
     "source": [
      "## Gaussian Process Latent Variable Model\n",
      "\n",
      "The Gaussian Process Latent Variable Model (GP-LVM) embeds of PCA into a Gaussian process framework, where the latent inputs $\\mathbf{X}$ are learnt as hyperparameters and the mapping variables $\\mathbf{W}$ are integrated out. The advantage of this interpretation is it allows PCA to be generalized in a non linear way by replacing the resulting *linear* covariance witha  non linear covariance. But first, let's see how GPLVM is equivalent to PCA using an automatic relevance determination (ARD, see e.g. Bishop et al. [2006]) linear kernel:"
     ]
    },
    {
     "cell_type": "code",
     "collapsed": false,
     "input": [
      "colors = [\"#3FCC94\", \"#DD4F23\", \"#C6D63B\", \"#D44271\", \n",
      "          \"#E4A42C\", \"#4F9139\", \"#6DDA4C\", \"#85831F\", \n",
      "          \"#B36A29\", \"#CF4E4A\"]\n",
      "def plot_model(m, which_dims, labels):\n",
      "    fig = plt.figure(); ax = fig.add_subplot(111)\n",
      "    X = m.X[:,which_dims]\n",
      "    ulabs = []\n",
      "    for lab in labels:\n",
      "        if not lab in ulabs:\n",
      "            ulabs.append(lab)\n",
      "            pass\n",
      "        pass\n",
      "    for i, lab in enumerate(ulabs):\n",
      "        ax.scatter(*X[labels==lab].T,marker='o',color=colors[i],label=lab)\n",
      "        pass\n",
      "    pass\n"
     ],
     "language": "python",
     "metadata": {},
     "outputs": [],
     "prompt_number": 63
    },
    {
     "cell_type": "code",
     "collapsed": false,
     "input": [
      "input_dim = 4 # How many latent dimensions to use\n",
      "kernel = GPy.kern.Linear(input_dim, ARD=True) # ARD kernel\n",
      "#kernel += GPy.kern.white(input_dim) + GPy.kern.bias(input_dim)\n",
      "model = GPy.models.GPLVM(Yn, input_dim=input_dim, kernel=kernel)\n",
      "model.Gaussian_noise.variance = model.Y.var()/20. # start noise is 5% of datanoise"
     ],
     "language": "python",
     "metadata": {},
     "outputs": [],
     "prompt_number": 65
    },
    {
     "cell_type": "code",
     "collapsed": false,
     "input": [
      "model.optimize(messages=1, max_iters=1000) # optimize for 1000 iterations"
     ],
     "language": "python",
     "metadata": {},
     "outputs": [
      {
       "output_type": "stream",
       "stream": "stdout",
       "text": [
        "KeyboardInterrupt caught, calling on_optimization_end() to round things up\n"
       ]
      },
      {
       "ename": "KeyboardInterrupt",
       "evalue": "",
       "output_type": "pyerr",
       "traceback": [
        "\u001b[0;31m---------------------------------------------------------------------------\u001b[0m\n\u001b[0;31mKeyboardInterrupt\u001b[0m                         Traceback (most recent call last)",
        "\u001b[0;32m<ipython-input-64-a23b65fda55b>\u001b[0m in \u001b[0;36m<module>\u001b[0;34m()\u001b[0m\n\u001b[0;32m----> 1\u001b[0;31m \u001b[0mmodel\u001b[0m\u001b[0;34m.\u001b[0m\u001b[0moptimize\u001b[0m\u001b[0;34m(\u001b[0m\u001b[0mmessages\u001b[0m\u001b[0;34m=\u001b[0m\u001b[0;36m1\u001b[0m\u001b[0;34m,\u001b[0m \u001b[0mmax_iters\u001b[0m\u001b[0;34m=\u001b[0m\u001b[0;36m1000\u001b[0m\u001b[0;34m)\u001b[0m \u001b[0;31m# optimize for 1000 iterations\u001b[0m\u001b[0;34m\u001b[0m\u001b[0m\n\u001b[0m",
        "\u001b[0;32m/Users/neil/SheffieldML/GPy/GPy/core/gp.pyc\u001b[0m in \u001b[0;36moptimize\u001b[0;34m(self, optimizer, start, **kwargs)\u001b[0m\n\u001b[1;32m    439\u001b[0m         \u001b[0mself\u001b[0m\u001b[0;34m.\u001b[0m\u001b[0minference_method\u001b[0m\u001b[0;34m.\u001b[0m\u001b[0mon_optimization_start\u001b[0m\u001b[0;34m(\u001b[0m\u001b[0;34m)\u001b[0m\u001b[0;34m\u001b[0m\u001b[0m\n\u001b[1;32m    440\u001b[0m         \u001b[0;32mtry\u001b[0m\u001b[0;34m:\u001b[0m\u001b[0;34m\u001b[0m\u001b[0m\n\u001b[0;32m--> 441\u001b[0;31m             \u001b[0msuper\u001b[0m\u001b[0;34m(\u001b[0m\u001b[0mGP\u001b[0m\u001b[0;34m,\u001b[0m \u001b[0mself\u001b[0m\u001b[0;34m)\u001b[0m\u001b[0;34m.\u001b[0m\u001b[0moptimize\u001b[0m\u001b[0;34m(\u001b[0m\u001b[0moptimizer\u001b[0m\u001b[0;34m,\u001b[0m \u001b[0mstart\u001b[0m\u001b[0;34m,\u001b[0m \u001b[0;34m**\u001b[0m\u001b[0mkwargs\u001b[0m\u001b[0;34m)\u001b[0m\u001b[0;34m\u001b[0m\u001b[0m\n\u001b[0m\u001b[1;32m    442\u001b[0m         \u001b[0;32mexcept\u001b[0m \u001b[0mKeyboardInterrupt\u001b[0m\u001b[0;34m:\u001b[0m\u001b[0;34m\u001b[0m\u001b[0m\n\u001b[1;32m    443\u001b[0m             \u001b[0;32mprint\u001b[0m \u001b[0;34m\"KeyboardInterrupt caught, calling on_optimization_end() to round things up\"\u001b[0m\u001b[0;34m\u001b[0m\u001b[0m\n",
        "\u001b[0;32m/Users/neil/SheffieldML/GPy/GPy/core/model.pyc\u001b[0m in \u001b[0;36moptimize\u001b[0;34m(self, optimizer, start, **kwargs)\u001b[0m\n\u001b[1;32m    256\u001b[0m             \u001b[0mopt\u001b[0m \u001b[0;34m=\u001b[0m \u001b[0moptimizer\u001b[0m\u001b[0;34m(\u001b[0m\u001b[0mstart\u001b[0m\u001b[0;34m,\u001b[0m \u001b[0mmodel\u001b[0m\u001b[0;34m=\u001b[0m\u001b[0mself\u001b[0m\u001b[0;34m,\u001b[0m \u001b[0;34m**\u001b[0m\u001b[0mkwargs\u001b[0m\u001b[0;34m)\u001b[0m\u001b[0;34m\u001b[0m\u001b[0m\n\u001b[1;32m    257\u001b[0m \u001b[0;34m\u001b[0m\u001b[0m\n\u001b[0;32m--> 258\u001b[0;31m         \u001b[0mopt\u001b[0m\u001b[0;34m.\u001b[0m\u001b[0mrun\u001b[0m\u001b[0;34m(\u001b[0m\u001b[0mf_fp\u001b[0m\u001b[0;34m=\u001b[0m\u001b[0mself\u001b[0m\u001b[0;34m.\u001b[0m\u001b[0m_objective_grads\u001b[0m\u001b[0;34m,\u001b[0m \u001b[0mf\u001b[0m\u001b[0;34m=\u001b[0m\u001b[0mself\u001b[0m\u001b[0;34m.\u001b[0m\u001b[0m_objective\u001b[0m\u001b[0;34m,\u001b[0m \u001b[0mfp\u001b[0m\u001b[0;34m=\u001b[0m\u001b[0mself\u001b[0m\u001b[0;34m.\u001b[0m\u001b[0m_grads\u001b[0m\u001b[0;34m)\u001b[0m\u001b[0;34m\u001b[0m\u001b[0m\n\u001b[0m\u001b[1;32m    259\u001b[0m \u001b[0;34m\u001b[0m\u001b[0m\n\u001b[1;32m    260\u001b[0m         \u001b[0mself\u001b[0m\u001b[0;34m.\u001b[0m\u001b[0moptimization_runs\u001b[0m\u001b[0;34m.\u001b[0m\u001b[0mappend\u001b[0m\u001b[0;34m(\u001b[0m\u001b[0mopt\u001b[0m\u001b[0;34m)\u001b[0m\u001b[0;34m\u001b[0m\u001b[0m\n",
        "\u001b[0;32m/Users/neil/SheffieldML/GPy/GPy/inference/optimization/optimization.pyc\u001b[0m in \u001b[0;36mrun\u001b[0;34m(self, **kwargs)\u001b[0m\n\u001b[1;32m     49\u001b[0m     \u001b[0;32mdef\u001b[0m \u001b[0mrun\u001b[0m\u001b[0;34m(\u001b[0m\u001b[0mself\u001b[0m\u001b[0;34m,\u001b[0m \u001b[0;34m**\u001b[0m\u001b[0mkwargs\u001b[0m\u001b[0;34m)\u001b[0m\u001b[0;34m:\u001b[0m\u001b[0;34m\u001b[0m\u001b[0m\n\u001b[1;32m     50\u001b[0m         \u001b[0mstart\u001b[0m \u001b[0;34m=\u001b[0m \u001b[0mdt\u001b[0m\u001b[0;34m.\u001b[0m\u001b[0mdatetime\u001b[0m\u001b[0;34m.\u001b[0m\u001b[0mnow\u001b[0m\u001b[0;34m(\u001b[0m\u001b[0;34m)\u001b[0m\u001b[0;34m\u001b[0m\u001b[0m\n\u001b[0;32m---> 51\u001b[0;31m         \u001b[0mself\u001b[0m\u001b[0;34m.\u001b[0m\u001b[0mopt\u001b[0m\u001b[0;34m(\u001b[0m\u001b[0;34m**\u001b[0m\u001b[0mkwargs\u001b[0m\u001b[0;34m)\u001b[0m\u001b[0;34m\u001b[0m\u001b[0m\n\u001b[0m\u001b[1;32m     52\u001b[0m         \u001b[0mend\u001b[0m \u001b[0;34m=\u001b[0m \u001b[0mdt\u001b[0m\u001b[0;34m.\u001b[0m\u001b[0mdatetime\u001b[0m\u001b[0;34m.\u001b[0m\u001b[0mnow\u001b[0m\u001b[0;34m(\u001b[0m\u001b[0;34m)\u001b[0m\u001b[0;34m\u001b[0m\u001b[0m\n\u001b[1;32m     53\u001b[0m         \u001b[0mself\u001b[0m\u001b[0;34m.\u001b[0m\u001b[0mtime\u001b[0m \u001b[0;34m=\u001b[0m \u001b[0mstr\u001b[0m\u001b[0;34m(\u001b[0m\u001b[0mend\u001b[0m \u001b[0;34m-\u001b[0m \u001b[0mstart\u001b[0m\u001b[0;34m)\u001b[0m\u001b[0;34m\u001b[0m\u001b[0m\n",
        "\u001b[0;32m/Users/neil/SheffieldML/GPy/GPy/inference/optimization/optimization.pyc\u001b[0m in \u001b[0;36mopt\u001b[0;34m(self, f_fp, f, fp)\u001b[0m\n\u001b[1;32m    134\u001b[0m \u001b[0;34m\u001b[0m\u001b[0m\n\u001b[1;32m    135\u001b[0m         opt_result = optimize.fmin_l_bfgs_b(f_fp, self.x_init, iprint=iprint,\n\u001b[0;32m--> 136\u001b[0;31m                                             maxfun=self.max_iters, **opt_dict)\n\u001b[0m\u001b[1;32m    137\u001b[0m         \u001b[0mself\u001b[0m\u001b[0;34m.\u001b[0m\u001b[0mx_opt\u001b[0m \u001b[0;34m=\u001b[0m \u001b[0mopt_result\u001b[0m\u001b[0;34m[\u001b[0m\u001b[0;36m0\u001b[0m\u001b[0;34m]\u001b[0m\u001b[0;34m\u001b[0m\u001b[0m\n\u001b[1;32m    138\u001b[0m         \u001b[0mself\u001b[0m\u001b[0;34m.\u001b[0m\u001b[0mf_opt\u001b[0m \u001b[0;34m=\u001b[0m \u001b[0mf_fp\u001b[0m\u001b[0;34m(\u001b[0m\u001b[0mself\u001b[0m\u001b[0;34m.\u001b[0m\u001b[0mx_opt\u001b[0m\u001b[0;34m)\u001b[0m\u001b[0;34m[\u001b[0m\u001b[0;36m0\u001b[0m\u001b[0;34m]\u001b[0m\u001b[0;34m\u001b[0m\u001b[0m\n",
        "\u001b[0;32m/Users/neil/Library/Enthought/Canopy_64bit/User/lib/python2.7/site-packages/scipy/optimize/lbfgsb.pyc\u001b[0m in \u001b[0;36mfmin_l_bfgs_b\u001b[0;34m(func, x0, fprime, args, approx_grad, bounds, m, factr, pgtol, epsilon, iprint, maxfun, maxiter, disp, callback)\u001b[0m\n\u001b[1;32m    184\u001b[0m \u001b[0;34m\u001b[0m\u001b[0m\n\u001b[1;32m    185\u001b[0m     res = _minimize_lbfgsb(fun, x0, args=args, jac=jac, bounds=bounds,\n\u001b[0;32m--> 186\u001b[0;31m                            **opts)\n\u001b[0m\u001b[1;32m    187\u001b[0m     d = {'grad': res['jac'],\n\u001b[1;32m    188\u001b[0m          \u001b[0;34m'task'\u001b[0m\u001b[0;34m:\u001b[0m \u001b[0mres\u001b[0m\u001b[0;34m[\u001b[0m\u001b[0;34m'message'\u001b[0m\u001b[0;34m]\u001b[0m\u001b[0;34m,\u001b[0m\u001b[0;34m\u001b[0m\u001b[0m\n",
        "\u001b[0;32m/Users/neil/Library/Enthought/Canopy_64bit/User/lib/python2.7/site-packages/scipy/optimize/lbfgsb.pyc\u001b[0m in \u001b[0;36m_minimize_lbfgsb\u001b[0;34m(fun, x0, args, jac, bounds, disp, maxcor, ftol, gtol, eps, maxfun, maxiter, iprint, callback, **unknown_options)\u001b[0m\n\u001b[1;32m    312\u001b[0m                 \u001b[0;31m# minimization routine wants f and g at the current x\u001b[0m\u001b[0;34m\u001b[0m\u001b[0;34m\u001b[0m\u001b[0m\n\u001b[1;32m    313\u001b[0m                 \u001b[0;31m# Overwrite f and g:\u001b[0m\u001b[0;34m\u001b[0m\u001b[0;34m\u001b[0m\u001b[0m\n\u001b[0;32m--> 314\u001b[0;31m                 \u001b[0mf\u001b[0m\u001b[0;34m,\u001b[0m \u001b[0mg\u001b[0m \u001b[0;34m=\u001b[0m \u001b[0mfunc_and_grad\u001b[0m\u001b[0;34m(\u001b[0m\u001b[0mx\u001b[0m\u001b[0;34m)\u001b[0m\u001b[0;34m\u001b[0m\u001b[0m\n\u001b[0m\u001b[1;32m    315\u001b[0m         \u001b[0;32melif\u001b[0m \u001b[0mtask_str\u001b[0m\u001b[0;34m.\u001b[0m\u001b[0mstartswith\u001b[0m\u001b[0;34m(\u001b[0m\u001b[0;34mb'NEW_X'\u001b[0m\u001b[0;34m)\u001b[0m\u001b[0;34m:\u001b[0m\u001b[0;34m\u001b[0m\u001b[0m\n\u001b[1;32m    316\u001b[0m             \u001b[0;31m# new iteration\u001b[0m\u001b[0;34m\u001b[0m\u001b[0;34m\u001b[0m\u001b[0m\n",
        "\u001b[0;32m/Users/neil/Library/Enthought/Canopy_64bit/User/lib/python2.7/site-packages/scipy/optimize/lbfgsb.pyc\u001b[0m in \u001b[0;36mfunc_and_grad\u001b[0;34m(x)\u001b[0m\n\u001b[1;32m    263\u001b[0m     \u001b[0;32melse\u001b[0m\u001b[0;34m:\u001b[0m\u001b[0;34m\u001b[0m\u001b[0m\n\u001b[1;32m    264\u001b[0m         \u001b[0;32mdef\u001b[0m \u001b[0mfunc_and_grad\u001b[0m\u001b[0;34m(\u001b[0m\u001b[0mx\u001b[0m\u001b[0;34m)\u001b[0m\u001b[0;34m:\u001b[0m\u001b[0;34m\u001b[0m\u001b[0m\n\u001b[0;32m--> 265\u001b[0;31m             \u001b[0mf\u001b[0m \u001b[0;34m=\u001b[0m \u001b[0mfun\u001b[0m\u001b[0;34m(\u001b[0m\u001b[0mx\u001b[0m\u001b[0;34m,\u001b[0m \u001b[0;34m*\u001b[0m\u001b[0margs\u001b[0m\u001b[0;34m)\u001b[0m\u001b[0;34m\u001b[0m\u001b[0m\n\u001b[0m\u001b[1;32m    266\u001b[0m             \u001b[0mg\u001b[0m \u001b[0;34m=\u001b[0m \u001b[0mjac\u001b[0m\u001b[0;34m(\u001b[0m\u001b[0mx\u001b[0m\u001b[0;34m,\u001b[0m \u001b[0;34m*\u001b[0m\u001b[0margs\u001b[0m\u001b[0;34m)\u001b[0m\u001b[0;34m\u001b[0m\u001b[0m\n\u001b[1;32m    267\u001b[0m             \u001b[0;32mreturn\u001b[0m \u001b[0mf\u001b[0m\u001b[0;34m,\u001b[0m \u001b[0mg\u001b[0m\u001b[0;34m\u001b[0m\u001b[0m\n",
        "\u001b[0;32m/Users/neil/Library/Enthought/Canopy_64bit/User/lib/python2.7/site-packages/scipy/optimize/optimize.pyc\u001b[0m in \u001b[0;36mfunction_wrapper\u001b[0;34m(*wrapper_args)\u001b[0m\n\u001b[1;32m    279\u001b[0m     \u001b[0;32mdef\u001b[0m \u001b[0mfunction_wrapper\u001b[0m\u001b[0;34m(\u001b[0m\u001b[0;34m*\u001b[0m\u001b[0mwrapper_args\u001b[0m\u001b[0;34m)\u001b[0m\u001b[0;34m:\u001b[0m\u001b[0;34m\u001b[0m\u001b[0m\n\u001b[1;32m    280\u001b[0m         \u001b[0mncalls\u001b[0m\u001b[0;34m[\u001b[0m\u001b[0;36m0\u001b[0m\u001b[0;34m]\u001b[0m \u001b[0;34m+=\u001b[0m \u001b[0;36m1\u001b[0m\u001b[0;34m\u001b[0m\u001b[0m\n\u001b[0;32m--> 281\u001b[0;31m         \u001b[0;32mreturn\u001b[0m \u001b[0mfunction\u001b[0m\u001b[0;34m(\u001b[0m\u001b[0;34m*\u001b[0m\u001b[0;34m(\u001b[0m\u001b[0mwrapper_args\u001b[0m \u001b[0;34m+\u001b[0m \u001b[0margs\u001b[0m\u001b[0;34m)\u001b[0m\u001b[0;34m)\u001b[0m\u001b[0;34m\u001b[0m\u001b[0m\n\u001b[0m\u001b[1;32m    282\u001b[0m \u001b[0;34m\u001b[0m\u001b[0m\n\u001b[1;32m    283\u001b[0m     \u001b[0;32mreturn\u001b[0m \u001b[0mncalls\u001b[0m\u001b[0;34m,\u001b[0m \u001b[0mfunction_wrapper\u001b[0m\u001b[0;34m\u001b[0m\u001b[0m\n",
        "\u001b[0;32m/Users/neil/Library/Enthought/Canopy_64bit/User/lib/python2.7/site-packages/scipy/optimize/optimize.pyc\u001b[0m in \u001b[0;36m__call__\u001b[0;34m(self, x, *args)\u001b[0m\n\u001b[1;32m     57\u001b[0m     \u001b[0;32mdef\u001b[0m \u001b[0m__call__\u001b[0m\u001b[0;34m(\u001b[0m\u001b[0mself\u001b[0m\u001b[0;34m,\u001b[0m \u001b[0mx\u001b[0m\u001b[0;34m,\u001b[0m \u001b[0;34m*\u001b[0m\u001b[0margs\u001b[0m\u001b[0;34m)\u001b[0m\u001b[0;34m:\u001b[0m\u001b[0;34m\u001b[0m\u001b[0m\n\u001b[1;32m     58\u001b[0m         \u001b[0mself\u001b[0m\u001b[0;34m.\u001b[0m\u001b[0mx\u001b[0m \u001b[0;34m=\u001b[0m \u001b[0mnumpy\u001b[0m\u001b[0;34m.\u001b[0m\u001b[0masarray\u001b[0m\u001b[0;34m(\u001b[0m\u001b[0mx\u001b[0m\u001b[0;34m)\u001b[0m\u001b[0;34m.\u001b[0m\u001b[0mcopy\u001b[0m\u001b[0;34m(\u001b[0m\u001b[0;34m)\u001b[0m\u001b[0;34m\u001b[0m\u001b[0m\n\u001b[0;32m---> 59\u001b[0;31m         \u001b[0mfg\u001b[0m \u001b[0;34m=\u001b[0m \u001b[0mself\u001b[0m\u001b[0;34m.\u001b[0m\u001b[0mfun\u001b[0m\u001b[0;34m(\u001b[0m\u001b[0mx\u001b[0m\u001b[0;34m,\u001b[0m \u001b[0;34m*\u001b[0m\u001b[0margs\u001b[0m\u001b[0;34m)\u001b[0m\u001b[0;34m\u001b[0m\u001b[0m\n\u001b[0m\u001b[1;32m     60\u001b[0m         \u001b[0mself\u001b[0m\u001b[0;34m.\u001b[0m\u001b[0mjac\u001b[0m \u001b[0;34m=\u001b[0m \u001b[0mfg\u001b[0m\u001b[0;34m[\u001b[0m\u001b[0;36m1\u001b[0m\u001b[0;34m]\u001b[0m\u001b[0;34m\u001b[0m\u001b[0m\n\u001b[1;32m     61\u001b[0m         \u001b[0;32mreturn\u001b[0m \u001b[0mfg\u001b[0m\u001b[0;34m[\u001b[0m\u001b[0;36m0\u001b[0m\u001b[0;34m]\u001b[0m\u001b[0;34m\u001b[0m\u001b[0m\n",
        "\u001b[0;32m/Users/neil/SheffieldML/GPy/GPy/core/model.pyc\u001b[0m in \u001b[0;36m_objective_grads\u001b[0;34m(self, x)\u001b[0m\n\u001b[1;32m    200\u001b[0m     \u001b[0;32mdef\u001b[0m \u001b[0m_objective_grads\u001b[0m\u001b[0;34m(\u001b[0m\u001b[0mself\u001b[0m\u001b[0;34m,\u001b[0m \u001b[0mx\u001b[0m\u001b[0;34m)\u001b[0m\u001b[0;34m:\u001b[0m\u001b[0;34m\u001b[0m\u001b[0m\n\u001b[1;32m    201\u001b[0m         \u001b[0;32mtry\u001b[0m\u001b[0;34m:\u001b[0m\u001b[0;34m\u001b[0m\u001b[0m\n\u001b[0;32m--> 202\u001b[0;31m             \u001b[0mself\u001b[0m\u001b[0;34m.\u001b[0m\u001b[0moptimizer_array\u001b[0m \u001b[0;34m=\u001b[0m \u001b[0mx\u001b[0m\u001b[0;34m\u001b[0m\u001b[0m\n\u001b[0m\u001b[1;32m    203\u001b[0m             \u001b[0mobj_f\u001b[0m\u001b[0;34m,\u001b[0m \u001b[0mobj_grads\u001b[0m \u001b[0;34m=\u001b[0m \u001b[0mself\u001b[0m\u001b[0;34m.\u001b[0m\u001b[0mobjective_function\u001b[0m\u001b[0;34m(\u001b[0m\u001b[0;34m)\u001b[0m\u001b[0;34m,\u001b[0m \u001b[0mself\u001b[0m\u001b[0;34m.\u001b[0m\u001b[0m_transform_gradients\u001b[0m\u001b[0;34m(\u001b[0m\u001b[0mself\u001b[0m\u001b[0;34m.\u001b[0m\u001b[0mobjective_function_gradients\u001b[0m\u001b[0;34m(\u001b[0m\u001b[0;34m)\u001b[0m\u001b[0;34m)\u001b[0m\u001b[0;34m\u001b[0m\u001b[0m\n\u001b[1;32m    204\u001b[0m             \u001b[0mself\u001b[0m\u001b[0;34m.\u001b[0m\u001b[0m_fail_count\u001b[0m \u001b[0;34m=\u001b[0m \u001b[0;36m0\u001b[0m\u001b[0;34m\u001b[0m\u001b[0m\n",
        "\u001b[0;32m/Users/neil/SheffieldML/GPy/GPy/core/parameterization/parameterized.pyc\u001b[0m in \u001b[0;36m__setattr__\u001b[0;34m(self, name, val)\u001b[0m\n\u001b[1;32m    313\u001b[0m             \u001b[0;32mexcept\u001b[0m \u001b[0mAttributeError\u001b[0m\u001b[0;34m:\u001b[0m\u001b[0;34m\u001b[0m\u001b[0m\n\u001b[1;32m    314\u001b[0m                 \u001b[0;32mpass\u001b[0m\u001b[0;34m\u001b[0m\u001b[0m\n\u001b[0;32m--> 315\u001b[0;31m         \u001b[0mobject\u001b[0m\u001b[0;34m.\u001b[0m\u001b[0m__setattr__\u001b[0m\u001b[0;34m(\u001b[0m\u001b[0mself\u001b[0m\u001b[0;34m,\u001b[0m \u001b[0mname\u001b[0m\u001b[0;34m,\u001b[0m \u001b[0mval\u001b[0m\u001b[0;34m)\u001b[0m\u001b[0;34m;\u001b[0m\u001b[0;34m\u001b[0m\u001b[0m\n\u001b[0m\u001b[1;32m    316\u001b[0m \u001b[0;34m\u001b[0m\u001b[0m\n\u001b[1;32m    317\u001b[0m     \u001b[0;31m#===========================================================================\u001b[0m\u001b[0;34m\u001b[0m\u001b[0;34m\u001b[0m\u001b[0m\n",
        "\u001b[0;32m/Users/neil/SheffieldML/GPy/GPy/core/parameterization/parameter_core.pyc\u001b[0m in \u001b[0;36moptimizer_array\u001b[0;34m(self, p)\u001b[0m\n\u001b[1;32m    650\u001b[0m \u001b[0;34m\u001b[0m\u001b[0m\n\u001b[1;32m    651\u001b[0m         \u001b[0mself\u001b[0m\u001b[0;34m.\u001b[0m\u001b[0m_optimizer_copy_transformed\u001b[0m \u001b[0;34m=\u001b[0m \u001b[0mFalse\u001b[0m\u001b[0;34m\u001b[0m\u001b[0m\n\u001b[0;32m--> 652\u001b[0;31m         \u001b[0mself\u001b[0m\u001b[0;34m.\u001b[0m\u001b[0mtrigger_update\u001b[0m\u001b[0;34m(\u001b[0m\u001b[0;34m)\u001b[0m\u001b[0;34m\u001b[0m\u001b[0m\n\u001b[0m\u001b[1;32m    653\u001b[0m \u001b[0;34m\u001b[0m\u001b[0m\n\u001b[1;32m    654\u001b[0m     \u001b[0;32mdef\u001b[0m \u001b[0m_get_params_transformed\u001b[0m\u001b[0;34m(\u001b[0m\u001b[0mself\u001b[0m\u001b[0;34m)\u001b[0m\u001b[0;34m:\u001b[0m\u001b[0;34m\u001b[0m\u001b[0m\n",
        "\u001b[0;32m/Users/neil/SheffieldML/GPy/GPy/core/parameterization/updateable.pyc\u001b[0m in \u001b[0;36mtrigger_update\u001b[0;34m(self, trigger_parent)\u001b[0m\n\u001b[1;32m     53\u001b[0m             \u001b[0;31m#print \"Warning: updates are off, updating the model will do nothing\"\u001b[0m\u001b[0;34m\u001b[0m\u001b[0;34m\u001b[0m\u001b[0m\n\u001b[1;32m     54\u001b[0m             \u001b[0;32mreturn\u001b[0m\u001b[0;34m\u001b[0m\u001b[0m\n\u001b[0;32m---> 55\u001b[0;31m         \u001b[0mself\u001b[0m\u001b[0;34m.\u001b[0m\u001b[0m_trigger_params_changed\u001b[0m\u001b[0;34m(\u001b[0m\u001b[0mtrigger_parent\u001b[0m\u001b[0;34m)\u001b[0m\u001b[0;34m\u001b[0m\u001b[0m\n\u001b[0m",
        "\u001b[0;32m/Users/neil/SheffieldML/GPy/GPy/core/parameterization/parameter_core.pyc\u001b[0m in \u001b[0;36m_trigger_params_changed\u001b[0;34m(self, trigger_parent)\u001b[0m\n\u001b[1;32m    666\u001b[0m         \"\"\"\n\u001b[1;32m    667\u001b[0m         \u001b[0;34m[\u001b[0m\u001b[0mp\u001b[0m\u001b[0;34m.\u001b[0m\u001b[0m_trigger_params_changed\u001b[0m\u001b[0;34m(\u001b[0m\u001b[0mtrigger_parent\u001b[0m\u001b[0;34m=\u001b[0m\u001b[0mFalse\u001b[0m\u001b[0;34m)\u001b[0m \u001b[0;32mfor\u001b[0m \u001b[0mp\u001b[0m \u001b[0;32min\u001b[0m \u001b[0mself\u001b[0m\u001b[0;34m.\u001b[0m\u001b[0mparameters\u001b[0m \u001b[0;32mif\u001b[0m \u001b[0;32mnot\u001b[0m \u001b[0mp\u001b[0m\u001b[0;34m.\u001b[0m\u001b[0mis_fixed\u001b[0m\u001b[0;34m]\u001b[0m\u001b[0;34m\u001b[0m\u001b[0m\n\u001b[0;32m--> 668\u001b[0;31m         \u001b[0mself\u001b[0m\u001b[0;34m.\u001b[0m\u001b[0mnotify_observers\u001b[0m\u001b[0;34m(\u001b[0m\u001b[0mNone\u001b[0m\u001b[0;34m,\u001b[0m \u001b[0mNone\u001b[0m \u001b[0;32mif\u001b[0m \u001b[0mtrigger_parent\u001b[0m \u001b[0;32melse\u001b[0m \u001b[0;34m-\u001b[0m\u001b[0mnp\u001b[0m\u001b[0;34m.\u001b[0m\u001b[0minf\u001b[0m\u001b[0;34m)\u001b[0m\u001b[0;34m\u001b[0m\u001b[0m\n\u001b[0m\u001b[1;32m    669\u001b[0m \u001b[0;34m\u001b[0m\u001b[0m\n\u001b[1;32m    670\u001b[0m     \u001b[0;32mdef\u001b[0m \u001b[0m_size_transformed\u001b[0m\u001b[0;34m(\u001b[0m\u001b[0mself\u001b[0m\u001b[0;34m)\u001b[0m\u001b[0;34m:\u001b[0m\u001b[0;34m\u001b[0m\u001b[0m\n",
        "\u001b[0;32m/Users/neil/SheffieldML/GPy/GPy/core/parameterization/observable.pyc\u001b[0m in \u001b[0;36mnotify_observers\u001b[0;34m(self, which, min_priority)\u001b[0m\n\u001b[1;32m     55\u001b[0m             \u001b[0mwhich\u001b[0m \u001b[0;34m=\u001b[0m \u001b[0mself\u001b[0m\u001b[0;34m\u001b[0m\u001b[0m\n\u001b[1;32m     56\u001b[0m         \u001b[0;32mif\u001b[0m \u001b[0mmin_priority\u001b[0m \u001b[0;32mis\u001b[0m \u001b[0mNone\u001b[0m\u001b[0;34m:\u001b[0m\u001b[0;34m\u001b[0m\u001b[0m\n\u001b[0;32m---> 57\u001b[0;31m             \u001b[0;34m[\u001b[0m\u001b[0mcallble\u001b[0m\u001b[0;34m(\u001b[0m\u001b[0mself\u001b[0m\u001b[0;34m,\u001b[0m \u001b[0mwhich\u001b[0m\u001b[0;34m=\u001b[0m\u001b[0mwhich\u001b[0m\u001b[0;34m)\u001b[0m \u001b[0;32mfor\u001b[0m \u001b[0m_\u001b[0m\u001b[0;34m,\u001b[0m \u001b[0m_\u001b[0m\u001b[0;34m,\u001b[0m \u001b[0mcallble\u001b[0m \u001b[0;32min\u001b[0m \u001b[0mself\u001b[0m\u001b[0;34m.\u001b[0m\u001b[0mobservers\u001b[0m\u001b[0;34m]\u001b[0m\u001b[0;34m\u001b[0m\u001b[0m\n\u001b[0m\u001b[1;32m     58\u001b[0m         \u001b[0;32melse\u001b[0m\u001b[0;34m:\u001b[0m\u001b[0;34m\u001b[0m\u001b[0m\n\u001b[1;32m     59\u001b[0m             \u001b[0;32mfor\u001b[0m \u001b[0mp\u001b[0m\u001b[0;34m,\u001b[0m \u001b[0m_\u001b[0m\u001b[0;34m,\u001b[0m \u001b[0mcallble\u001b[0m \u001b[0;32min\u001b[0m \u001b[0mself\u001b[0m\u001b[0;34m.\u001b[0m\u001b[0mobservers\u001b[0m\u001b[0;34m:\u001b[0m\u001b[0;34m\u001b[0m\u001b[0m\n",
        "\u001b[0;32m/Users/neil/SheffieldML/GPy/GPy/core/parameterization/parameter_core.pyc\u001b[0m in \u001b[0;36m_parameters_changed_notification\u001b[0;34m(self, me, which)\u001b[0m\n\u001b[1;32m    979\u001b[0m         \"\"\"\n\u001b[1;32m    980\u001b[0m         \u001b[0mself\u001b[0m\u001b[0;34m.\u001b[0m\u001b[0m_optimizer_copy_transformed\u001b[0m \u001b[0;34m=\u001b[0m \u001b[0mFalse\u001b[0m \u001b[0;31m# tells the optimizer array to update on next request\u001b[0m\u001b[0;34m\u001b[0m\u001b[0m\n\u001b[0;32m--> 981\u001b[0;31m         \u001b[0mself\u001b[0m\u001b[0;34m.\u001b[0m\u001b[0mparameters_changed\u001b[0m\u001b[0;34m(\u001b[0m\u001b[0;34m)\u001b[0m\u001b[0;34m\u001b[0m\u001b[0m\n\u001b[0m\u001b[1;32m    982\u001b[0m     \u001b[0;32mdef\u001b[0m \u001b[0m_pass_through_notify_observers\u001b[0m\u001b[0;34m(\u001b[0m\u001b[0mself\u001b[0m\u001b[0;34m,\u001b[0m \u001b[0mme\u001b[0m\u001b[0;34m,\u001b[0m \u001b[0mwhich\u001b[0m\u001b[0;34m=\u001b[0m\u001b[0mNone\u001b[0m\u001b[0;34m)\u001b[0m\u001b[0;34m:\u001b[0m\u001b[0;34m\u001b[0m\u001b[0m\n\u001b[1;32m    983\u001b[0m         \u001b[0mself\u001b[0m\u001b[0;34m.\u001b[0m\u001b[0mnotify_observers\u001b[0m\u001b[0;34m(\u001b[0m\u001b[0mwhich\u001b[0m\u001b[0;34m=\u001b[0m\u001b[0mwhich\u001b[0m\u001b[0;34m)\u001b[0m\u001b[0;34m\u001b[0m\u001b[0m\n",
        "\u001b[0;32m/Users/neil/SheffieldML/GPy/GPy/models/gplvm.pyc\u001b[0m in \u001b[0;36mparameters_changed\u001b[0;34m(self)\u001b[0m\n\u001b[1;32m     41\u001b[0m \u001b[0;34m\u001b[0m\u001b[0m\n\u001b[1;32m     42\u001b[0m     \u001b[0;32mdef\u001b[0m \u001b[0mparameters_changed\u001b[0m\u001b[0;34m(\u001b[0m\u001b[0mself\u001b[0m\u001b[0;34m)\u001b[0m\u001b[0;34m:\u001b[0m\u001b[0;34m\u001b[0m\u001b[0m\n\u001b[0;32m---> 43\u001b[0;31m         \u001b[0msuper\u001b[0m\u001b[0;34m(\u001b[0m\u001b[0mGPLVM\u001b[0m\u001b[0;34m,\u001b[0m \u001b[0mself\u001b[0m\u001b[0;34m)\u001b[0m\u001b[0;34m.\u001b[0m\u001b[0mparameters_changed\u001b[0m\u001b[0;34m(\u001b[0m\u001b[0;34m)\u001b[0m\u001b[0;34m\u001b[0m\u001b[0m\n\u001b[0m\u001b[1;32m     44\u001b[0m         \u001b[0mself\u001b[0m\u001b[0;34m.\u001b[0m\u001b[0mX\u001b[0m\u001b[0;34m.\u001b[0m\u001b[0mgradient\u001b[0m \u001b[0;34m=\u001b[0m \u001b[0mself\u001b[0m\u001b[0;34m.\u001b[0m\u001b[0mkern\u001b[0m\u001b[0;34m.\u001b[0m\u001b[0mgradients_X\u001b[0m\u001b[0;34m(\u001b[0m\u001b[0mself\u001b[0m\u001b[0;34m.\u001b[0m\u001b[0mgrad_dict\u001b[0m\u001b[0;34m[\u001b[0m\u001b[0;34m'dL_dK'\u001b[0m\u001b[0;34m]\u001b[0m\u001b[0;34m,\u001b[0m \u001b[0mself\u001b[0m\u001b[0;34m.\u001b[0m\u001b[0mX\u001b[0m\u001b[0;34m,\u001b[0m \u001b[0mNone\u001b[0m\u001b[0;34m)\u001b[0m\u001b[0;34m\u001b[0m\u001b[0m\n\u001b[1;32m     45\u001b[0m \u001b[0;34m\u001b[0m\u001b[0m\n",
        "\u001b[0;32m/Users/neil/SheffieldML/GPy/GPy/core/gp.pyc\u001b[0m in \u001b[0;36mparameters_changed\u001b[0;34m(self)\u001b[0m\n\u001b[1;32m    153\u001b[0m             \u001b[0mthis\u001b[0m \u001b[0mmethod\u001b[0m \u001b[0myourself\u001b[0m\u001b[0;34m,\u001b[0m \u001b[0mthere\u001b[0m \u001b[0mmay\u001b[0m \u001b[0mbe\u001b[0m \u001b[0munexpected\u001b[0m \u001b[0mconsequences\u001b[0m\u001b[0;34m.\u001b[0m\u001b[0;34m\u001b[0m\u001b[0m\n\u001b[1;32m    154\u001b[0m         \"\"\"\n\u001b[0;32m--> 155\u001b[0;31m         \u001b[0mself\u001b[0m\u001b[0;34m.\u001b[0m\u001b[0mposterior\u001b[0m\u001b[0;34m,\u001b[0m \u001b[0mself\u001b[0m\u001b[0;34m.\u001b[0m\u001b[0m_log_marginal_likelihood\u001b[0m\u001b[0;34m,\u001b[0m \u001b[0mself\u001b[0m\u001b[0;34m.\u001b[0m\u001b[0mgrad_dict\u001b[0m \u001b[0;34m=\u001b[0m \u001b[0mself\u001b[0m\u001b[0;34m.\u001b[0m\u001b[0minference_method\u001b[0m\u001b[0;34m.\u001b[0m\u001b[0minference\u001b[0m\u001b[0;34m(\u001b[0m\u001b[0mself\u001b[0m\u001b[0;34m.\u001b[0m\u001b[0mkern\u001b[0m\u001b[0;34m,\u001b[0m \u001b[0mself\u001b[0m\u001b[0;34m.\u001b[0m\u001b[0mX\u001b[0m\u001b[0;34m,\u001b[0m \u001b[0mself\u001b[0m\u001b[0;34m.\u001b[0m\u001b[0mlikelihood\u001b[0m\u001b[0;34m,\u001b[0m \u001b[0mself\u001b[0m\u001b[0;34m.\u001b[0m\u001b[0mY_normalized\u001b[0m\u001b[0;34m,\u001b[0m \u001b[0mself\u001b[0m\u001b[0;34m.\u001b[0m\u001b[0mY_metadata\u001b[0m\u001b[0;34m)\u001b[0m\u001b[0;34m\u001b[0m\u001b[0m\n\u001b[0m\u001b[1;32m    156\u001b[0m         \u001b[0mself\u001b[0m\u001b[0;34m.\u001b[0m\u001b[0mlikelihood\u001b[0m\u001b[0;34m.\u001b[0m\u001b[0mupdate_gradients\u001b[0m\u001b[0;34m(\u001b[0m\u001b[0mself\u001b[0m\u001b[0;34m.\u001b[0m\u001b[0mgrad_dict\u001b[0m\u001b[0;34m[\u001b[0m\u001b[0;34m'dL_dthetaL'\u001b[0m\u001b[0;34m]\u001b[0m\u001b[0;34m)\u001b[0m\u001b[0;34m\u001b[0m\u001b[0m\n\u001b[1;32m    157\u001b[0m         \u001b[0mself\u001b[0m\u001b[0;34m.\u001b[0m\u001b[0mkern\u001b[0m\u001b[0;34m.\u001b[0m\u001b[0mupdate_gradients_full\u001b[0m\u001b[0;34m(\u001b[0m\u001b[0mself\u001b[0m\u001b[0;34m.\u001b[0m\u001b[0mgrad_dict\u001b[0m\u001b[0;34m[\u001b[0m\u001b[0;34m'dL_dK'\u001b[0m\u001b[0;34m]\u001b[0m\u001b[0;34m,\u001b[0m \u001b[0mself\u001b[0m\u001b[0;34m.\u001b[0m\u001b[0mX\u001b[0m\u001b[0;34m)\u001b[0m\u001b[0;34m\u001b[0m\u001b[0m\n",
        "\u001b[0;32m/Users/neil/SheffieldML/GPy/GPy/inference/latent_function_inference/exact_gaussian_inference.pyc\u001b[0m in \u001b[0;36minference\u001b[0;34m(self, kern, X, likelihood, Y, Y_metadata)\u001b[0m\n\u001b[1;32m     53\u001b[0m         \u001b[0mlog_marginal\u001b[0m \u001b[0;34m=\u001b[0m  \u001b[0;36m0.5\u001b[0m\u001b[0;34m*\u001b[0m\u001b[0;34m(\u001b[0m\u001b[0;34m-\u001b[0m\u001b[0mY\u001b[0m\u001b[0;34m.\u001b[0m\u001b[0msize\u001b[0m \u001b[0;34m*\u001b[0m \u001b[0mlog_2_pi\u001b[0m \u001b[0;34m-\u001b[0m \u001b[0mY\u001b[0m\u001b[0;34m.\u001b[0m\u001b[0mshape\u001b[0m\u001b[0;34m[\u001b[0m\u001b[0;36m1\u001b[0m\u001b[0;34m]\u001b[0m \u001b[0;34m*\u001b[0m \u001b[0mW_logdet\u001b[0m \u001b[0;34m-\u001b[0m \u001b[0mnp\u001b[0m\u001b[0;34m.\u001b[0m\u001b[0msum\u001b[0m\u001b[0;34m(\u001b[0m\u001b[0malpha\u001b[0m \u001b[0;34m*\u001b[0m \u001b[0mYYT_factor\u001b[0m\u001b[0;34m)\u001b[0m\u001b[0;34m)\u001b[0m\u001b[0;34m\u001b[0m\u001b[0m\n\u001b[1;32m     54\u001b[0m \u001b[0;34m\u001b[0m\u001b[0m\n\u001b[0;32m---> 55\u001b[0;31m         \u001b[0mdL_dK\u001b[0m \u001b[0;34m=\u001b[0m \u001b[0;36m0.5\u001b[0m \u001b[0;34m*\u001b[0m \u001b[0;34m(\u001b[0m\u001b[0mtdot\u001b[0m\u001b[0;34m(\u001b[0m\u001b[0malpha\u001b[0m\u001b[0;34m)\u001b[0m \u001b[0;34m-\u001b[0m \u001b[0mY\u001b[0m\u001b[0;34m.\u001b[0m\u001b[0mshape\u001b[0m\u001b[0;34m[\u001b[0m\u001b[0;36m1\u001b[0m\u001b[0;34m]\u001b[0m \u001b[0;34m*\u001b[0m \u001b[0mWi\u001b[0m\u001b[0;34m)\u001b[0m\u001b[0;34m\u001b[0m\u001b[0m\n\u001b[0m\u001b[1;32m     56\u001b[0m \u001b[0;34m\u001b[0m\u001b[0m\n\u001b[1;32m     57\u001b[0m         \u001b[0mdL_dthetaL\u001b[0m \u001b[0;34m=\u001b[0m \u001b[0mlikelihood\u001b[0m\u001b[0;34m.\u001b[0m\u001b[0mexact_inference_gradients\u001b[0m\u001b[0;34m(\u001b[0m\u001b[0mnp\u001b[0m\u001b[0;34m.\u001b[0m\u001b[0mdiag\u001b[0m\u001b[0;34m(\u001b[0m\u001b[0mdL_dK\u001b[0m\u001b[0;34m)\u001b[0m\u001b[0;34m,\u001b[0m\u001b[0mY_metadata\u001b[0m\u001b[0;34m)\u001b[0m\u001b[0;34m\u001b[0m\u001b[0m\n",
        "\u001b[0;32m/Users/neil/SheffieldML/GPy/GPy/util/linalg.pyc\u001b[0m in \u001b[0;36mtdot\u001b[0;34m(*args, **kwargs)\u001b[0m\n\u001b[1;32m    373\u001b[0m \u001b[0;32mdef\u001b[0m \u001b[0mtdot\u001b[0m\u001b[0;34m(\u001b[0m\u001b[0;34m*\u001b[0m\u001b[0margs\u001b[0m\u001b[0;34m,\u001b[0m \u001b[0;34m**\u001b[0m\u001b[0mkwargs\u001b[0m\u001b[0;34m)\u001b[0m\u001b[0;34m:\u001b[0m\u001b[0;34m\u001b[0m\u001b[0m\n\u001b[1;32m    374\u001b[0m     \u001b[0;32mif\u001b[0m \u001b[0m_blas_available\u001b[0m\u001b[0;34m:\u001b[0m\u001b[0;34m\u001b[0m\u001b[0m\n\u001b[0;32m--> 375\u001b[0;31m         \u001b[0;32mreturn\u001b[0m \u001b[0mtdot_blas\u001b[0m\u001b[0;34m(\u001b[0m\u001b[0;34m*\u001b[0m\u001b[0margs\u001b[0m\u001b[0;34m,\u001b[0m \u001b[0;34m**\u001b[0m\u001b[0mkwargs\u001b[0m\u001b[0;34m)\u001b[0m\u001b[0;34m\u001b[0m\u001b[0m\n\u001b[0m\u001b[1;32m    376\u001b[0m     \u001b[0;32melse\u001b[0m\u001b[0;34m:\u001b[0m\u001b[0;34m\u001b[0m\u001b[0m\n\u001b[1;32m    377\u001b[0m         \u001b[0;32mreturn\u001b[0m \u001b[0mtdot_numpy\u001b[0m\u001b[0;34m(\u001b[0m\u001b[0;34m*\u001b[0m\u001b[0margs\u001b[0m\u001b[0;34m,\u001b[0m \u001b[0;34m**\u001b[0m\u001b[0mkwargs\u001b[0m\u001b[0;34m)\u001b[0m\u001b[0;34m\u001b[0m\u001b[0m\n",
        "\u001b[0;32m/Users/neil/SheffieldML/GPy/GPy/util/linalg.pyc\u001b[0m in \u001b[0;36mtdot_blas\u001b[0;34m(mat, out)\u001b[0m\n\u001b[1;32m    364\u001b[0m     \u001b[0mLDC\u001b[0m \u001b[0;34m=\u001b[0m \u001b[0mc_int\u001b[0m\u001b[0;34m(\u001b[0m\u001b[0mnp\u001b[0m\u001b[0;34m.\u001b[0m\u001b[0mmax\u001b[0m\u001b[0;34m(\u001b[0m\u001b[0mout\u001b[0m\u001b[0;34m.\u001b[0m\u001b[0mstrides\u001b[0m\u001b[0;34m)\u001b[0m \u001b[0;34m/\u001b[0m \u001b[0;36m8\u001b[0m\u001b[0;34m)\u001b[0m\u001b[0;34m\u001b[0m\u001b[0m\n\u001b[1;32m    365\u001b[0m     dsyrk(byref(UPLO), byref(TRANS), byref(N), byref(K),\n\u001b[0;32m--> 366\u001b[0;31m             byref(ALPHA), A, byref(LDA), byref(BETA), C, byref(LDC))\n\u001b[0m\u001b[1;32m    367\u001b[0m \u001b[0;34m\u001b[0m\u001b[0m\n\u001b[1;32m    368\u001b[0m     \u001b[0msymmetrify\u001b[0m\u001b[0;34m(\u001b[0m\u001b[0mout\u001b[0m\u001b[0;34m,\u001b[0m \u001b[0mupper\u001b[0m\u001b[0;34m=\u001b[0m\u001b[0mTrue\u001b[0m\u001b[0;34m)\u001b[0m\u001b[0;34m\u001b[0m\u001b[0m\n",
        "\u001b[0;31mKeyboardInterrupt\u001b[0m: "
       ]
      }
     ],
     "prompt_number": 64
    },
    {
     "cell_type": "code",
     "collapsed": false,
     "input": [
      "model.kern.plot_ARD()\n",
      "plot_model(model, model.linear.variances.argsort()[-2:], labels.flatten())\n",
      "plt.legend()"
     ],
     "language": "python",
     "metadata": {},
     "outputs": [
      {
       "metadata": {},
       "output_type": "pyout",
       "prompt_number": 66,
       "text": [
        "<matplotlib.legend.Legend at 0x1156bbc50>"
       ]
      },
      {
       "metadata": {},
       "output_type": "display_data",
       "png": "[encoded data removed]",
       "text": [
        "<matplotlib.figure.Figure at 0x1148ea110>"
       ]
      },
      {
       "metadata": {},
       "output_type": "display_data",
       "png": "[encoded data removed]",
       "text": [
        "<matplotlib.figure.Figure at 0x114c58f50>"
       ]
      }
     ],
     "prompt_number": 66
    },
    {
     "cell_type": "code",
     "collapsed": false,
     "input": [
      "model.X.l"
     ],
     "language": "python",
     "metadata": {},
     "outputs": [
      {
       "html": [
        "<style type=\"text/css\">\n",
        ".pd{\n",
        "    font-family:\"Courier New\", Courier, monospace !important;\n",
        "}\n",
        "</style>\n",
        "\n",
        "<p class=pd>\n",
        "<b>Model</b>: GPLVM<br>\n",
        "<b>Log-likelihood</b>: -33271.1699363<br>\n",
        "<b>Number of Parameters</b>: 1325<br>\n",
        "</p>\n",
        "<style type=\"text/css\">\n",
        ".tg  {border-collapse:collapse;border-spacing:0;border-color:#999;}\n",
        ".tg td{font-family:Arial, sans-serif;font-size:14px;padding:2px 3px;border-style:solid;border-width:1px;overflow:hidden;word-break:normal;border-color:#999;color:#444;background-color:#F7FDFA;}\n",
        ".tg th{font-family:Arial, sans-serif;font-size:14px;font-weight:normal;padding:2px 3px;border-style:solid;border-width:1px;overflow:hidden;word-break:normal;border-color:#999;color:#fff;background-color:#26ADE4;}\n",
        ".tg .tg-left{font-family:\"Courier New\", Courier, monospace !important;;text-align:left}\n",
        ".tg .tg-right{font-family:\"Courier New\", Courier, monospace !important;;text-align:right}\n",
        "</style>\n",
        "<table class=\"tg\">\n",
        "<tr>\n",
        "  <th><b>GPLVM.</b></th>\n",
        "  <th><b>Value</b></th>\n",
        "  <th><b>Constraint</b></th>\n",
        "  <th><b>Prior</b></th>\n",
        "  <th><b>Tied to</b></th>\n",
        "</tr>\n",
        "<tr><td class=tg-left>latent_mean            </td><td class=tg-right>      (330, 4)</td><td class=tg-left>          </td><td class=tg-left>     </td><td class=tg-left>       </td></tr>\n",
        "<tr><td class=tg-left>linear.variances       </td><td class=tg-right>          (4,)</td><td class=tg-left>   +ve    </td><td class=tg-left>     </td><td class=tg-left>       </td></tr>\n",
        "<tr><td class=tg-left>Gaussian_noise.variance</td><td class=tg-right>0.122065887823</td><td class=tg-left>   +ve    </td><td class=tg-left>     </td><td class=tg-left>       </td></tr>\n",
        "</table>"
       ],
       "metadata": {},
       "output_type": "display_data",
       "text": [
        "<GPy.models.gplvm.GPLVM at 0x10b6e4cd0>"
       ]
      }
     ],
     "prompt_number": 37
    },
    {
     "cell_type": "markdown",
     "metadata": {},
     "source": [
      "As you can see the solution with a linear kernel is the same as the PCA solution with the exception of rotational changes and axis flips.\n",
      "\n",
      "For the sake of time, the solution you see was only running for 1000 iterations, thus it might not be converged fully yet. The GP-LVM proceeds by iterative optimization of the *inputs* to the covariance. As we saw in the lecture earlier, for the linear covariance, these latent points can be optimized with an eigenvalue problem, but generally, for non-linear covariance functions, we are obliged to use gradient based optimization."
     ]
    },
    {
     "cell_type": "markdown",
     "metadata": {},
     "source": [
      "### Exercise 1\n",
      "\n",
      "How do your linear solutions differ between PCA and GPLVM with a linear kernel? Look at the plots and also try and consider how the linear ARD parameters compare to the eigenvalues of the principal components."
     ]
    },
    {
     "cell_type": "raw",
     "metadata": {},
     "source": [
      "# Exercise 1 answer"
     ]
    },
    {
     "cell_type": "markdown",
     "metadata": {},
     "source": [
      "### Exercise 2 \n",
      "\n",
      "The next step is to use a non-linear mapping between inputs $\\mathbf{X}$ and ouputs $\\mathbf{Y}$ by selecting the exponentiated quadratic (`GPy.kern.RBF`) covariance function. How does the nonlinear model differe from the linear model? Are there digits that the GPLVM with an exponentiated quadratic covariance can separate, which PCA is not able to? Try modifying the covariance function and running the model again. For example you could try a combination of the linear and exponentiated quadratic covariance function or the Matern 5/2. If you run into stability problems try initializing the covariance function parameters differently."
     ]
    },
    {
     "cell_type": "code",
     "collapsed": false,
     "input": [
      "kern = GPy.kern.RBF(input_dim)"
     ],
     "language": "python",
     "metadata": {},
     "outputs": [],
     "prompt_number": 38
    },
    {
     "cell_type": "markdown",
     "metadata": {},
     "source": [
      "## Bayesian GPLVM\n",
      "\n",
      "In GP-LVM we use a point estimate of the distribution of the input $\\mathbf{X}$. This estimate is derived through maximum likelihood or through a maximum a posteriori (MAP) approach. Ideally, we would like to also estimate a distribution over the input $\\mathbf{X}$. In the Bayesian GPLVM we approximate the true distribution $p(\\mathbf{X}|\\mathbf{Y})$ by a variational approximation $q(\\mathbf{X})$ and integrate $\\mathbf{X}$ out. \n",
      "\n",
      "Approximating the posterior in this way allows us to optimize a lower bound on the marginal likelihood. Handling the uncertainty in a principled way allows the model to make an assessment of whether a particular latent dimension is required, or the variation is better explained by noise. This allows the algorithm to switch off latent dimensions. The switching off can take some time though, so below in Section 6 we provide a pre-learnt module, but to complete section 6 you'll need to be working in the IPython console instead of the notebook.\n",
      "\n",
      "For the moment we'll run a short experiment applying the Bayesian GP-LVM with an exponentiated quadratic covariance function."
     ]
    },
    {
     "cell_type": "code",
     "collapsed": false,
     "input": [
      "# Model optimization\n",
      "input_dim = 5 # How many latent dimensions to use\n",
      "kern = GPy.kern.RBF(input_dim,ARD=True) # ARD kernel\n",
      "model = GPy.models.BayesianGPLVM(Yn, input_dim=input_dim, kernel=kern, num_inducing=25)\n",
      "\n",
      "# initialize noise as 1% of variance in data\n",
      "model.Gaussian_noise.variance = model.Y.var()/100."
     ],
     "language": "python",
     "metadata": {},
     "outputs": [],
     "prompt_number": 68
    },
    {
     "cell_type": "code",
     "collapsed": false,
     "input": [
      "model.optimize('scg', messages=1, max_iters=1000)"
     ],
     "language": "python",
     "metadata": {},
     "outputs": [
      {
       "output_type": "stream",
       "stream": "stdout",
       "text": [
        "clang: warning: argument unused during compilation: '-fopenmp'\n",
        "In file included from /Users/neil/.cache/scipy/python27_compiled/sc_1790bf65208b11355ffcfd4b65a5f1093.cpp:11:\n",
        "In file included from /Users/neil/Library/Enthought/Canopy_64bit/User/lib/python2.7/site-packages/scipy/weave/blitz/blitz/array.h:26:\n",
        "In file included from /Users/neil/Library/Enthought/Canopy_64bit/User/lib/python2.7/site-packages/scipy/weave/blitz/blitz/array-impl.h:37:\n",
        "/Users/neil/Library/Enthought/Canopy_64bit/User/lib/python2.7/site-packages/scipy/weave/blitz/blitz/range.h:120:34: warning: '&&' within '||' [-Wlogical-op-parentheses]\n",
        "        return ((first_ < last_) && (stride_ == 1) || (first_ == last_));\n",
        "                ~~~~~~~~~~~~~~~~~^~~~~~~~~~~~~~~~~ ~~\n",
        "/Users/neil/Library/Enthought/Canopy_64bit/User/lib/python2.7/site-packages/scipy/weave/blitz/blitz/range.h:120:34: note: place parentheses around the '&&' expression to silence this warning\n",
        "        return ((first_ < last_) && (stride_ == 1) || (first_ == last_));\n",
        "                                 ^\n",
        "                (                                 )\n",
        "In file included from /Users/neil/.cache/scipy/python27_compiled/sc_1790bf65208b11355ffcfd4b65a5f1093.cpp:23:\n",
        "In file included from /Users/neil/Library/Enthought/Canopy_64bit/User/lib/python2.7/site-packages/numpy/core/include/numpy/arrayobject.h:4:\n",
        "In file included from /Users/neil/Library/Enthought/Canopy_64bit/User/lib/python2.7/site-packages/numpy/core/include/numpy/ndarrayobject.h:17:\n",
        "In file included from /Users/neil/Library/Enthought/Canopy_64bit/User/lib/python2.7/site-packages/numpy/core/include/numpy/ndarraytypes.h:1761:\n",
        "/Users/neil/Library/Enthought/Canopy_64bit/User/lib/python2.7/site-packages/numpy/core/include/numpy/npy_1_7_deprecated_api.h:15:2: warning: \"Using deprecated NumPy API, disable it by \"          \"#defining NPY_NO_DEPRECATED_API NPY_1_7_API_VERSION\" [-W#warnings]\n",
        "#warning \"Using deprecated NumPy API, disable it by \" \\\n",
        " ^\n",
        "/Users/neil/.cache/scipy/python27_compiled/sc_1790bf65208b11355ffcfd4b65a5f1093.cpp:24:10: fatal error: 'omp.h' file not found\n",
        "#include <omp.h>\n",
        "         ^\n",
        "2 warnings and 1 error generated.\n",
        "\n",
        " Weave compilation failed. Falling back to (slower) numpy implementation\n",
        "\n",
        " I      F              Scale          |g|        "
       ]
      },
      {
       "output_type": "stream",
       "stream": "stdout",
       "text": [
        "\n",
        "\r"
       ]
      },
      {
       "output_type": "stream",
       "stream": "stdout",
       "text": [
        "0001   4.206477e+06   1.000000e+00   1.965657e+14"
       ]
      },
      {
       "output_type": "stream",
       "stream": "stdout",
       "text": [
        " \r",
        "0002   1.487485e+06   2.500000e-01   2.597932e+13"
       ]
      },
      {
       "output_type": "stream",
       "stream": "stdout",
       "text": [
        " \r",
        "0003   5.307519e+05   6.250000e-02   3.411387e+12"
       ]
      },
      {
       "output_type": "stream",
       "stream": "stdout",
       "text": [
        " \r",
        "0004   1.947075e+05   1.562500e-02   4.488643e+11"
       ]
      },
      {
       "output_type": "stream",
       "stream": "stdout",
       "text": [
        " \r",
        "0005   8.503509e+04   3.906250e-03   5.730187e+10"
       ]
      },
      {
       "output_type": "stream",
       "stream": "stdout",
       "text": [
        " \r",
        "0006   4.864931e+04   9.765625e-04   6.843628e+09"
       ]
      },
      {
       "output_type": "stream",
       "stream": "stdout",
       "text": [
        " \r",
        "0007   4.428969e+04   2.441406e-04   6.567371e+08"
       ]
      },
      {
       "output_type": "stream",
       "stream": "stdout",
       "text": [
        " \r",
        "0008   3.543863e+04   6.103516e-05   1.711058e+08"
       ]
      },
      {
       "output_type": "stream",
       "stream": "stdout",
       "text": [
        " \r",
        "0009   3.436208e+04   1.525879e-05   6.324972e+07"
       ]
      },
      {
       "output_type": "stream",
       "stream": "stdout",
       "text": [
        " \n",
        "\r"
       ]
      },
      {
       "output_type": "stream",
       "stream": "stdout",
       "text": [
        "0010   3.190492e+04   3.814697e-06   9.397737e+06"
       ]
      },
      {
       "output_type": "stream",
       "stream": "stdout",
       "text": [
        " \r",
        "0011   3.116553e+04   9.536743e-07   2.549811e+07"
       ]
      },
      {
       "output_type": "stream",
       "stream": "stdout",
       "text": [
        " \r",
        "0012   3.011691e+04   2.384186e-07   4.995426e+06"
       ]
      },
      {
       "output_type": "stream",
       "stream": "stdout",
       "text": [
        " \r",
        "0013   2.982268e+04   5.960464e-08   8.699703e+06"
       ]
      },
      {
       "output_type": "stream",
       "stream": "stdout",
       "text": [
        " \r",
        "0014   2.955637e+04   1.490116e-08   1.470691e+06"
       ]
      },
      {
       "output_type": "stream",
       "stream": "stdout",
       "text": [
        " \r",
        "0015   2.942537e+04   3.725290e-09   2.794171e+06"
       ]
      },
      {
       "output_type": "stream",
       "stream": "stdout",
       "text": [
        " \n",
        "\r"
       ]
      },
      {
       "output_type": "stream",
       "stream": "stdout",
       "text": [
        "0016   2.921200e+04   9.313226e-10   1.532520e+06"
       ]
      },
      {
       "output_type": "stream",
       "stream": "stdout",
       "text": [
        " \r",
        "0017   2.907772e+04   2.328306e-10   2.501865e+06"
       ]
      },
      {
       "output_type": "stream",
       "stream": "stdout",
       "text": [
        " \r",
        "0018   2.894025e+04   5.820766e-11   1.261117e+06"
       ]
      },
      {
       "output_type": "stream",
       "stream": "stdout",
       "text": [
        " \r",
        "0019   2.886035e+04   1.455192e-11   1.489091e+06"
       ]
      },
      {
       "output_type": "stream",
       "stream": "stdout",
       "text": [
        " \r",
        "0020   2.882699e+04   3.637979e-12   4.805280e+05"
       ]
      },
      {
       "output_type": "stream",
       "stream": "stdout",
       "text": [
        " \r",
        "0021   2.881152e+04   9.094947e-13   4.659488e+05"
       ]
      },
      {
       "output_type": "stream",
       "stream": "stdout",
       "text": [
        " \n",
        "\r"
       ]
      },
      {
       "output_type": "stream",
       "stream": "stdout",
       "text": [
        "0022   2.877395e+04   2.273737e-13   1.370187e+05"
       ]
      },
      {
       "output_type": "stream",
       "stream": "stdout",
       "text": [
        " \r",
        "0023   2.873240e+04   5.684342e-14   1.452651e+06"
       ]
      },
      {
       "output_type": "stream",
       "stream": "stdout",
       "text": [
        " \r",
        "0024   2.872173e+04   1.421085e-14   1.927077e+05"
       ]
      },
      {
       "output_type": "stream",
       "stream": "stdout",
       "text": [
        " \r",
        "0025   2.870162e+04   3.552714e-15   6.012649e+05"
       ]
      },
      {
       "output_type": "stream",
       "stream": "stdout",
       "text": [
        " \r",
        "0026   2.869518e+04   1.000000e-15   2.925119e+05"
       ]
      },
      {
       "output_type": "stream",
       "stream": "stdout",
       "text": [
        " \r",
        "0027   2.852627e+04   1.000000e-15   1.709192e+05"
       ]
      },
      {
       "output_type": "stream",
       "stream": "stdout",
       "text": [
        " \r",
        "0028   2.851738e+04   1.000000e-15   8.562110e+05"
       ]
      },
      {
       "output_type": "stream",
       "stream": "stdout",
       "text": [
        " \r",
        "0029   2.838238e+04   1.000000e-15   1.566032e+05"
       ]
      },
      {
       "output_type": "stream",
       "stream": "stdout",
       "text": [
        " \r",
        "0030   2.836075e+04   1.000000e-15   7.001425e+05"
       ]
      },
      {
       "output_type": "stream",
       "stream": "stdout",
       "text": [
        " \r",
        "0031   2.836075e+04   1.000000e-15   3.457455e+05"
       ]
      },
      {
       "output_type": "stream",
       "stream": "stdout",
       "text": [
        " \r",
        "0032   2.836075e+04   4.000000e-15   3.457455e+05"
       ]
      },
      {
       "output_type": "stream",
       "stream": "stdout",
       "text": [
        " \r",
        "0033   2.836075e+04   1.600000e-14   3.457455e+05"
       ]
      },
      {
       "output_type": "stream",
       "stream": "stdout",
       "text": [
        " \r",
        "0034   2.836075e+04   6.400000e-14   3.457455e+05"
       ]
      },
      {
       "output_type": "stream",
       "stream": "stdout",
       "text": [
        " \r",
        "0035   2.836075e+04   2.560000e-13   3.457455e+05"
       ]
      },
      {
       "output_type": "stream",
       "stream": "stdout",
       "text": [
        " \r",
        "0036   2.836075e+04   1.024000e-12   3.457455e+05"
       ]
      },
      {
       "output_type": "stream",
       "stream": "stdout",
       "text": [
        " \r",
        "0037   2.836075e+04   4.096000e-12   3.457455e+05"
       ]
      },
      {
       "output_type": "stream",
       "stream": "stdout",
       "text": [
        " \r",
        "0038   2.836075e+04   1.638400e-11   3.457455e+05"
       ]
      },
      {
       "output_type": "stream",
       "stream": "stdout",
       "text": [
        " \r",
        "0039   2.836075e+04   6.553600e-11   3.457455e+05"
       ]
      },
      {
       "output_type": "stream",
       "stream": "stdout",
       "text": [
        " \r",
        "0040   2.836075e+04   2.621440e-10   3.457455e+05"
       ]
      },
      {
       "output_type": "stream",
       "stream": "stdout",
       "text": [
        " \r",
        "0041   2.836075e+04   1.048576e-09   3.457455e+05"
       ]
      },
      {
       "output_type": "stream",
       "stream": "stdout",
       "text": [
        " \r",
        "0042   2.836075e+04   4.194304e-09   3.457455e+05"
       ]
      },
      {
       "output_type": "stream",
       "stream": "stdout",
       "text": [
        " \r",
        "0043   2.836075e+04   1.677722e-08   3.457455e+05"
       ]
      },
      {
       "output_type": "stream",
       "stream": "stdout",
       "text": [
        " \r",
        "0044   2.836075e+04   6.710886e-08   3.457455e+05"
       ]
      },
      {
       "output_type": "stream",
       "stream": "stdout",
       "text": [
        " \r",
        "0045   2.836075e+04   2.684355e-07   3.457455e+05"
       ]
      },
      {
       "output_type": "stream",
       "stream": "stdout",
       "text": [
        " \r",
        "0046   2.836075e+04   1.073742e-06   3.457455e+05"
       ]
      },
      {
       "output_type": "stream",
       "stream": "stdout",
       "text": [
        " \r",
        "0047   2.836075e+04   4.294967e-06   3.457455e+05"
       ]
      },
      {
       "output_type": "stream",
       "stream": "stdout",
       "text": [
        " \r",
        "0048   2.836075e+04   1.717987e-05   3.457455e+05"
       ]
      },
      {
       "output_type": "stream",
       "stream": "stdout",
       "text": [
        " \r",
        "0049   2.836075e+04   6.871948e-05   3.457455e+05"
       ]
      },
      {
       "output_type": "stream",
       "stream": "stdout",
       "text": [
        " \r",
        "0050   2.836075e+04   2.748779e-04   3.457455e+05"
       ]
      },
      {
       "output_type": "stream",
       "stream": "stdout",
       "text": [
        " \r",
        "0051   2.836075e+04   1.099512e-03   3.457455e+05"
       ]
      },
      {
       "output_type": "stream",
       "stream": "stdout",
       "text": [
        " \r",
        "0052   2.836075e+04   4.398047e-03   3.457455e+05"
       ]
      },
      {
       "output_type": "stream",
       "stream": "stdout",
       "text": [
        " \r",
        "0053   2.836075e+04   1.759219e-02   3.457455e+05"
       ]
      },
      {
       "output_type": "stream",
       "stream": "stdout",
       "text": [
        " \r",
        "0054   2.836075e+04   7.036874e-02   3.457455e+05"
       ]
      },
      {
       "output_type": "stream",
       "stream": "stdout",
       "text": [
        " \r",
        "0055   2.836075e+04   2.814750e-01   3.457455e+05"
       ]
      },
      {
       "output_type": "stream",
       "stream": "stdout",
       "text": [
        " \r",
        "0056   2.836075e+04   1.125900e+00   3.457455e+05"
       ]
      },
      {
       "output_type": "stream",
       "stream": "stdout",
       "text": [
        " \r",
        "0057   2.836075e+04   4.503600e+00   3.457455e+05"
       ]
      },
      {
       "output_type": "stream",
       "stream": "stdout",
       "text": [
        " \r",
        "0058   2.830838e+04   1.801440e+01   3.457455e+05"
       ]
      },
      {
       "output_type": "stream",
       "stream": "stdout",
       "text": [
        " \r",
        "0059   2.830256e+04   4.503600e+00   1.301392e+05"
       ]
      },
      {
       "output_type": "stream",
       "stream": "stdout",
       "text": [
        " \n",
        "\r"
       ]
      },
      {
       "output_type": "stream",
       "stream": "stdout",
       "text": [
        "0060   2.809370e+04   1.125900e+00   2.695405e+05"
       ]
      },
      {
       "output_type": "stream",
       "stream": "stdout",
       "text": [
        " \r",
        "0061   2.808697e+04   2.814750e-01   1.565978e+05"
       ]
      },
      {
       "output_type": "stream",
       "stream": "stdout",
       "text": [
        " \r",
        "0062   2.762619e+04   7.036874e-02   3.154207e+05"
       ]
      },
      {
       "output_type": "stream",
       "stream": "stdout",
       "text": [
        " \r",
        "0063   2.761214e+04   1.759219e-02   6.891963e+05"
       ]
      },
      {
       "output_type": "stream",
       "stream": "stdout",
       "text": [
        " \r",
        "0064   2.748467e+04   4.398047e-03   1.169983e+05"
       ]
      },
      {
       "output_type": "stream",
       "stream": "stdout",
       "text": [
        " \r",
        "0065   2.747860e+04   4.398047e-03   3.865743e+06"
       ]
      },
      {
       "output_type": "stream",
       "stream": "stdout",
       "text": [
        " \r",
        "0066   2.740569e+04   1.099512e-03   2.304818e+06"
       ]
      },
      {
       "output_type": "stream",
       "stream": "stdout",
       "text": [
        " \r",
        "0067   2.731802e+04   2.748779e-04   2.240420e+05"
       ]
      },
      {
       "output_type": "stream",
       "stream": "stdout",
       "text": [
        " \r",
        "0068   2.720844e+04   6.871948e-05   3.303779e+06"
       ]
      },
      {
       "output_type": "stream",
       "stream": "stdout",
       "text": [
        " \r",
        "0069   2.710761e+04   1.717987e-05   5.794256e+04"
       ]
      },
      {
       "output_type": "stream",
       "stream": "stdout",
       "text": [
        " \r",
        "0070   2.701581e+04   4.294967e-06   4.645818e+06"
       ]
      },
      {
       "output_type": "stream",
       "stream": "stdout",
       "text": [
        " \r",
        "0071   2.700305e+04   1.073742e-06   5.642817e+05"
       ]
      },
      {
       "output_type": "stream",
       "stream": "stdout",
       "text": [
        " \r",
        "0072   2.698886e+04   2.684355e-07   7.800661e+04"
       ]
      },
      {
       "output_type": "stream",
       "stream": "stdout",
       "text": [
        " \n",
        "\r"
       ]
      },
      {
       "output_type": "stream",
       "stream": "stdout",
       "text": [
        "0073   2.698238e+04   6.710886e-08   2.699415e+05"
       ]
      },
      {
       "output_type": "stream",
       "stream": "stdout",
       "text": [
        " \r",
        "0074   2.697209e+04   1.677722e-08   4.847620e+04"
       ]
      },
      {
       "output_type": "stream",
       "stream": "stdout",
       "text": [
        " \r",
        "0075   2.696689e+04   4.194304e-09   2.001298e+05"
       ]
      },
      {
       "output_type": "stream",
       "stream": "stdout",
       "text": [
        " \r",
        "0076   2.695668e+04   1.048576e-09   4.647457e+04"
       ]
      },
      {
       "output_type": "stream",
       "stream": "stdout",
       "text": [
        " \r",
        "0077   2.695107e+04   2.621440e-10   1.871911e+05"
       ]
      },
      {
       "output_type": "stream",
       "stream": "stdout",
       "text": [
        " \r",
        "0078   2.693617e+04   6.553600e-11   6.494938e+04"
       ]
      },
      {
       "output_type": "stream",
       "stream": "stdout",
       "text": [
        " \r",
        "0079   2.692687e+04   1.638400e-11   3.225428e+05"
       ]
      },
      {
       "output_type": "stream",
       "stream": "stdout",
       "text": [
        " \r",
        "0080   2.689450e+04   4.096000e-12   1.009782e+05"
       ]
      },
      {
       "output_type": "stream",
       "stream": "stdout",
       "text": [
        " \r",
        "0081   2.687277e+04   1.024000e-12   8.896222e+05"
       ]
      },
      {
       "output_type": "stream",
       "stream": "stdout",
       "text": [
        " \r",
        "0082   2.687277e+04   2.560000e-13   1.994284e+05"
       ]
      },
      {
       "output_type": "stream",
       "stream": "stdout",
       "text": [
        " \r",
        "0083   2.687277e+04   1.024000e-12   1.994284e+05"
       ]
      },
      {
       "output_type": "stream",
       "stream": "stdout",
       "text": [
        " \r",
        "0084   2.687277e+04   4.096000e-12   1.994284e+05"
       ]
      },
      {
       "output_type": "stream",
       "stream": "stdout",
       "text": [
        " \r",
        "0085   2.687277e+04   1.638400e-11   1.994284e+05"
       ]
      },
      {
       "output_type": "stream",
       "stream": "stdout",
       "text": [
        " \r",
        "0086   2.687277e+04   6.553600e-11   1.994284e+05"
       ]
      },
      {
       "output_type": "stream",
       "stream": "stdout",
       "text": [
        " \r",
        "0087   2.687277e+04   2.621440e-10   1.994284e+05"
       ]
      },
      {
       "output_type": "stream",
       "stream": "stdout",
       "text": [
        " \r",
        "0088   2.687277e+04   1.048576e-09   1.994284e+05"
       ]
      },
      {
       "output_type": "stream",
       "stream": "stdout",
       "text": [
        " \r",
        "0089   2.687277e+04   4.194304e-09   1.994284e+05"
       ]
      },
      {
       "output_type": "stream",
       "stream": "stdout",
       "text": [
        " \r",
        "0090   2.687277e+04   1.677722e-08   1.994284e+05"
       ]
      },
      {
       "output_type": "stream",
       "stream": "stdout",
       "text": [
        " \r",
        "0091   2.687277e+04   6.710886e-08   1.994284e+05"
       ]
      },
      {
       "output_type": "stream",
       "stream": "stdout",
       "text": [
        " \r",
        "0092   2.687277e+04   2.684355e-07   1.994284e+05"
       ]
      },
      {
       "output_type": "stream",
       "stream": "stdout",
       "text": [
        " \r",
        "0093   2.687277e+04   1.073742e-06   1.994284e+05"
       ]
      },
      {
       "output_type": "stream",
       "stream": "stdout",
       "text": [
        " \r",
        "0094   2.687277e+04   4.294967e-06   1.994284e+05"
       ]
      },
      {
       "output_type": "stream",
       "stream": "stdout",
       "text": [
        " \r",
        "0095   2.687277e+04   1.717987e-05   1.994284e+05"
       ]
      },
      {
       "output_type": "stream",
       "stream": "stdout",
       "text": [
        " \r",
        "0096   2.687277e+04   6.871948e-05   1.994284e+05"
       ]
      },
      {
       "output_type": "stream",
       "stream": "stdout",
       "text": [
        " \r",
        "0097   2.687277e+04   2.748779e-04   1.994284e+05"
       ]
      },
      {
       "output_type": "stream",
       "stream": "stdout",
       "text": [
        " \r",
        "0098   2.687277e+04   1.099512e-03   1.994284e+05"
       ]
      },
      {
       "output_type": "stream",
       "stream": "stdout",
       "text": [
        " \r",
        "0099   2.687277e+04   4.398047e-03   1.994284e+05"
       ]
      },
      {
       "output_type": "stream",
       "stream": "stdout",
       "text": [
        " \r",
        "0100   2.687277e+04   1.759219e-02   1.994284e+05"
       ]
      },
      {
       "output_type": "stream",
       "stream": "stdout",
       "text": [
        " \r",
        "0101   2.687277e+04   7.036874e-02   1.994284e+05"
       ]
      },
      {
       "output_type": "stream",
       "stream": "stdout",
       "text": [
        " \r",
        "0102   2.687277e+04   2.814750e-01   1.994284e+05"
       ]
      },
      {
       "output_type": "stream",
       "stream": "stdout",
       "text": [
        " \r",
        "0103   2.687277e+04   1.125900e+00   1.994284e+05"
       ]
      },
      {
       "output_type": "stream",
       "stream": "stdout",
       "text": [
        " \r",
        "0104   2.687277e+04   4.503600e+00   1.994284e+05"
       ]
      },
      {
       "output_type": "stream",
       "stream": "stdout",
       "text": [
        " \r",
        "0105   2.578157e+04   1.801440e+01   1.994284e+05"
       ]
      },
      {
       "output_type": "stream",
       "stream": "stdout",
       "text": [
        " \r",
        "0106   2.574993e+04   4.503600e+00   1.381394e+06"
       ]
      },
      {
       "output_type": "stream",
       "stream": "stdout",
       "text": [
        " \r",
        "0107   2.568837e+04   1.125900e+00   1.885480e+05"
       ]
      },
      {
       "output_type": "stream",
       "stream": "stdout",
       "text": [
        " \r",
        "0108   2.568555e+04   2.814750e-01   4.143104e+05"
       ]
      },
      {
       "output_type": "stream",
       "stream": "stdout",
       "text": [
        " \r",
        "0109   2.564081e+04   7.036874e-02   1.980051e+05"
       ]
      },
      {
       "output_type": "stream",
       "stream": "stdout",
       "text": [
        " \r",
        "0110   2.562764e+04   1.759219e-02   5.483232e+05"
       ]
      },
      {
       "output_type": "stream",
       "stream": "stdout",
       "text": [
        " \r",
        "0111   2.560813e+04   4.398047e-03   1.001801e+05"
       ]
      },
      {
       "output_type": "stream",
       "stream": "stdout",
       "text": [
        " \r",
        "0112   2.560219e+04   1.099512e-03   1.444656e+05"
       ]
      },
      {
       "output_type": "stream",
       "stream": "stdout",
       "text": [
        " \r",
        "0113   2.556270e+04   2.748779e-04   2.078702e+05"
       ]
      },
      {
       "output_type": "stream",
       "stream": "stdout",
       "text": [
        " \r",
        "0114   2.554909e+04   6.871948e-05   1.525421e+05"
       ]
      },
      {
       "output_type": "stream",
       "stream": "stdout",
       "text": [
        " \r",
        "0115   2.548120e+04   1.717987e-05   6.811268e+05"
       ]
      },
      {
       "output_type": "stream",
       "stream": "stdout",
       "text": [
        " \r",
        "0116   2.547395e+04   4.294967e-06   6.573543e+04"
       ]
      },
      {
       "output_type": "stream",
       "stream": "stdout",
       "text": [
        " \r",
        "0117   2.544941e+04   1.073742e-06   3.521513e+05"
       ]
      },
      {
       "output_type": "stream",
       "stream": "stdout",
       "text": [
        " \r",
        "0118   2.544782e+04   2.684355e-07   3.349254e+04"
       ]
      },
      {
       "output_type": "stream",
       "stream": "stdout",
       "text": [
        " \r",
        "0119   2.544279e+04   6.710886e-08   5.586788e+04"
       ]
      },
      {
       "output_type": "stream",
       "stream": "stdout",
       "text": [
        " \r",
        "0120   2.544037e+04   1.677722e-08   4.516805e+04"
       ]
      },
      {
       "output_type": "stream",
       "stream": "stdout",
       "text": [
        " \r",
        "0121   2.543291e+04   4.194304e-09   7.954445e+04"
       ]
      },
      {
       "output_type": "stream",
       "stream": "stdout",
       "text": [
        " \r",
        "0122   2.542890e+04   1.048576e-09   9.148329e+04"
       ]
      },
      {
       "output_type": "stream",
       "stream": "stdout",
       "text": [
        " \r",
        "0123   2.541894e+04   2.621440e-10   1.076816e+05"
       ]
      },
      {
       "output_type": "stream",
       "stream": "stdout",
       "text": [
        " \r",
        "0124   2.541319e+04   6.553600e-11   1.787029e+05"
       ]
      },
      {
       "output_type": "stream",
       "stream": "stdout",
       "text": [
        " \r",
        "0125   2.539634e+04   1.638400e-11   1.059191e+05"
       ]
      },
      {
       "output_type": "stream",
       "stream": "stdout",
       "text": [
        " \r",
        "0126   2.538332e+04   4.096000e-12   4.653855e+05"
       ]
      },
      {
       "output_type": "stream",
       "stream": "stdout",
       "text": [
        " \r",
        "0127   2.538332e+04   1.024000e-12   1.516622e+05"
       ]
      },
      {
       "output_type": "stream",
       "stream": "stdout",
       "text": [
        " \r",
        "0128   2.538332e+04   4.096000e-12   1.516622e+05"
       ]
      },
      {
       "output_type": "stream",
       "stream": "stdout",
       "text": [
        " \r",
        "0129   2.538332e+04   1.638400e-11   1.516622e+05"
       ]
      },
      {
       "output_type": "stream",
       "stream": "stdout",
       "text": [
        " \r",
        "0130   2.538332e+04   6.553600e-11   1.516622e+05"
       ]
      },
      {
       "output_type": "stream",
       "stream": "stdout",
       "text": [
        " \r",
        "0131   2.538332e+04   2.621440e-10   1.516622e+05"
       ]
      },
      {
       "output_type": "stream",
       "stream": "stdout",
       "text": [
        " \r",
        "0132   2.538332e+04   1.048576e-09   1.516622e+05"
       ]
      },
      {
       "output_type": "stream",
       "stream": "stdout",
       "text": [
        " \r",
        "0133   2.538332e+04   4.194304e-09   1.516622e+05"
       ]
      },
      {
       "output_type": "stream",
       "stream": "stdout",
       "text": [
        " \r",
        "0134   2.538332e+04   1.677722e-08   1.516622e+05"
       ]
      },
      {
       "output_type": "stream",
       "stream": "stdout",
       "text": [
        " \r",
        "0135   2.538332e+04   6.710886e-08   1.516622e+05"
       ]
      },
      {
       "output_type": "stream",
       "stream": "stdout",
       "text": [
        " \r",
        "0136   2.538332e+04   2.684355e-07   1.516622e+05"
       ]
      },
      {
       "output_type": "stream",
       "stream": "stdout",
       "text": [
        " \r",
        "0137   2.538332e+04   1.073742e-06   1.516622e+05"
       ]
      },
      {
       "output_type": "stream",
       "stream": "stdout",
       "text": [
        " \r",
        "0138   2.538332e+04   4.294967e-06   1.516622e+05"
       ]
      },
      {
       "output_type": "stream",
       "stream": "stdout",
       "text": [
        " \r",
        "0139   2.538332e+04   1.717987e-05   1.516622e+05"
       ]
      },
      {
       "output_type": "stream",
       "stream": "stdout",
       "text": [
        " \r",
        "0140   2.538332e+04   6.871948e-05   1.516622e+05"
       ]
      },
      {
       "output_type": "stream",
       "stream": "stdout",
       "text": [
        " \r",
        "0141   2.538332e+04   2.748779e-04   1.516622e+05"
       ]
      },
      {
       "output_type": "stream",
       "stream": "stdout",
       "text": [
        " \r",
        "0142   2.538332e+04   1.099512e-03   1.516622e+05"
       ]
      },
      {
       "output_type": "stream",
       "stream": "stdout",
       "text": [
        " \r",
        "0143   2.538332e+04   4.398047e-03   1.516622e+05"
       ]
      },
      {
       "output_type": "stream",
       "stream": "stdout",
       "text": [
        " \r",
        "0144   2.538332e+04   1.759219e-02   1.516622e+05"
       ]
      },
      {
       "output_type": "stream",
       "stream": "stdout",
       "text": [
        " \r",
        "0145   2.538332e+04   7.036874e-02   1.516622e+05"
       ]
      },
      {
       "output_type": "stream",
       "stream": "stdout",
       "text": [
        " \r",
        "0146   2.538332e+04   2.814750e-01   1.516622e+05"
       ]
      },
      {
       "output_type": "stream",
       "stream": "stdout",
       "text": [
        " \r",
        "0147   2.538332e+04   1.125900e+00   1.516622e+05"
       ]
      },
      {
       "output_type": "stream",
       "stream": "stdout",
       "text": [
        " \r",
        "0148   2.530392e+04   4.503600e+00   1.516622e+05"
       ]
      },
      {
       "output_type": "stream",
       "stream": "stdout",
       "text": [
        " \r",
        "0149   2.521019e+04   4.503600e+00   6.143314e+06"
       ]
      },
      {
       "output_type": "stream",
       "stream": "stdout",
       "text": [
        " \r",
        "0150   2.506463e+04   1.125900e+00   7.362855e+05"
       ]
      },
      {
       "output_type": "stream",
       "stream": "stdout",
       "text": [
        " \r",
        "0151   2.505462e+04   2.814750e-01   2.453821e+05"
       ]
      },
      {
       "output_type": "stream",
       "stream": "stdout",
       "text": [
        " \r",
        "0152   2.483346e+04   7.036874e-02   3.955234e+05"
       ]
      },
      {
       "output_type": "stream",
       "stream": "stdout",
       "text": [
        " \r",
        "0153   2.482416e+04   1.759219e-02   3.468884e+05"
       ]
      },
      {
       "output_type": "stream",
       "stream": "stdout",
       "text": [
        " \r",
        "0154   2.480176e+04   4.398047e-03   9.932060e+04"
       ]
      },
      {
       "output_type": "stream",
       "stream": "stdout",
       "text": [
        " \r",
        "0155   2.479819e+04   1.099512e-03   5.400688e+04"
       ]
      },
      {
       "output_type": "stream",
       "stream": "stdout",
       "text": [
        " \r",
        "0156   2.475998e+04   2.748779e-04   1.707052e+05"
       ]
      },
      {
       "output_type": "stream",
       "stream": "stdout",
       "text": [
        " \r",
        "0157   2.475485e+04   6.871948e-05   1.355484e+05"
       ]
      },
      {
       "output_type": "stream",
       "stream": "stdout",
       "text": [
        " \r",
        "0158   2.473445e+04   1.717987e-05   1.667613e+05"
       ]
      },
      {
       "output_type": "stream",
       "stream": "stdout",
       "text": [
        " \r",
        "0159   2.473108e+04   4.294967e-06   8.910582e+04"
       ]
      },
      {
       "output_type": "stream",
       "stream": "stdout",
       "text": [
        " \r",
        "0160   2.471576e+04   1.073742e-06   1.013650e+05"
       ]
      },
      {
       "output_type": "stream",
       "stream": "stdout",
       "text": [
        " \r",
        "0161   2.470982e+04   2.684355e-07   1.354698e+05"
       ]
      },
      {
       "output_type": "stream",
       "stream": "stdout",
       "text": [
        " \r",
        "0162   2.468521e+04   6.710886e-08   1.909707e+05"
       ]
      },
      {
       "output_type": "stream",
       "stream": "stdout",
       "text": [
        " \r",
        "0163   2.467935e+04   1.677722e-08   2.321256e+05"
       ]
      },
      {
       "output_type": "stream",
       "stream": "stdout",
       "text": [
        " \r",
        "0164   2.466352e+04   4.194304e-09   1.252008e+05"
       ]
      },
      {
       "output_type": "stream",
       "stream": "stdout",
       "text": [
        " \r",
        "0165   2.465797e+04   1.048576e-09   2.490858e+05"
       ]
      },
      {
       "output_type": "stream",
       "stream": "stdout",
       "text": [
        " \r",
        "0166   2.460747e+04   2.621440e-10   9.264509e+04"
       ]
      },
      {
       "output_type": "stream",
       "stream": "stdout",
       "text": [
        " \r",
        "0167   2.459402e+04   6.553600e-11   1.241476e+06"
       ]
      },
      {
       "output_type": "stream",
       "stream": "stdout",
       "text": [
        " \r",
        "0168   2.457295e+04   1.638400e-11   3.118755e+05"
       ]
      },
      {
       "output_type": "stream",
       "stream": "stdout",
       "text": [
        " \r",
        "0169   2.456310e+04   4.096000e-12   2.817839e+05"
       ]
      },
      {
       "output_type": "stream",
       "stream": "stdout",
       "text": [
        " \r",
        "0170   2.455263e+04   1.024000e-12   1.449689e+05"
       ]
      },
      {
       "output_type": "stream",
       "stream": "stdout",
       "text": [
        " \r",
        "0171   2.454535e+04   2.560000e-13   1.115430e+05"
       ]
      },
      {
       "output_type": "stream",
       "stream": "stdout",
       "text": [
        " \r",
        "0172   2.452277e+04   6.400000e-14   2.476470e+05"
       ]
      },
      {
       "output_type": "stream",
       "stream": "stdout",
       "text": [
        " \r",
        "0173   2.450730e+04   1.600000e-14   1.796497e+05"
       ]
      },
      {
       "output_type": "stream",
       "stream": "stdout",
       "text": [
        " \r",
        "0174   2.448272e+04   4.000000e-15   5.378398e+05"
       ]
      },
      {
       "output_type": "stream",
       "stream": "stdout",
       "text": [
        " \r",
        "0175   2.446421e+04   1.000000e-15   5.072981e+04"
       ]
      },
      {
       "output_type": "stream",
       "stream": "stdout",
       "text": [
        " \r",
        "0176   2.444852e+04   1.000000e-15   6.161659e+05"
       ]
      },
      {
       "output_type": "stream",
       "stream": "stdout",
       "text": [
        " \r",
        "0177   2.440883e+04   1.000000e-15   1.033376e+05"
       ]
      },
      {
       "output_type": "stream",
       "stream": "stdout",
       "text": [
        " \r",
        "0178   2.439167e+04   1.000000e-15   8.214803e+05"
       ]
      },
      {
       "output_type": "stream",
       "stream": "stdout",
       "text": [
        " \r",
        "0179   2.434636e+04   1.000000e-15   6.230416e+04"
       ]
      },
      {
       "output_type": "stream",
       "stream": "stdout",
       "text": [
        " \r",
        "0180   2.434049e+04   1.000000e-15   5.209195e+05"
       ]
      },
      {
       "output_type": "stream",
       "stream": "stdout",
       "text": [
        " \r",
        "0181   2.432921e+04   1.000000e-15   8.832676e+04"
       ]
      },
      {
       "output_type": "stream",
       "stream": "stdout",
       "text": [
        " \r",
        "0182   2.432787e+04   1.000000e-15   6.323417e+04"
       ]
      },
      {
       "output_type": "stream",
       "stream": "stdout",
       "text": [
        " \r",
        "0183   2.432179e+04   1.000000e-15   1.781858e+04"
       ]
      },
      {
       "output_type": "stream",
       "stream": "stdout",
       "text": [
        " \r",
        "0184   2.431924e+04   1.000000e-15   5.050122e+04"
       ]
      },
      {
       "output_type": "stream",
       "stream": "stdout",
       "text": [
        " \r",
        "0185   2.429220e+04   1.000000e-15   1.081948e+05"
       ]
      },
      {
       "output_type": "stream",
       "stream": "stdout",
       "text": [
        " \r",
        "0186   2.428728e+04   1.000000e-15   5.226438e+04"
       ]
      },
      {
       "output_type": "stream",
       "stream": "stdout",
       "text": [
        " \r",
        "0187   2.427569e+04   1.000000e-15   2.152655e+05"
       ]
      },
      {
       "output_type": "stream",
       "stream": "stdout",
       "text": [
        " \r",
        "0188   2.416719e+04   1.000000e-15   4.606291e+04"
       ]
      },
      {
       "output_type": "stream",
       "stream": "stdout",
       "text": [
        " \r",
        "0189   2.414265e+04   1.000000e-15   2.483115e+06"
       ]
      },
      {
       "output_type": "stream",
       "stream": "stdout",
       "text": [
        " \r",
        "0190   2.412600e+04   1.000000e-15   3.466945e+05"
       ]
      },
      {
       "output_type": "stream",
       "stream": "stdout",
       "text": [
        " \r",
        "0191   2.412203e+04   1.000000e-15   5.868673e+04"
       ]
      },
      {
       "output_type": "stream",
       "stream": "stdout",
       "text": [
        " \r",
        "0192   2.411636e+04   1.000000e-15   1.219267e+05"
       ]
      },
      {
       "output_type": "stream",
       "stream": "stdout",
       "text": [
        " \r",
        "0193   2.411406e+04   1.000000e-15   2.884765e+04"
       ]
      },
      {
       "output_type": "stream",
       "stream": "stdout",
       "text": [
        " \r",
        "0194   2.411101e+04   1.000000e-15   6.696165e+04"
       ]
      },
      {
       "output_type": "stream",
       "stream": "stdout",
       "text": [
        " \r",
        "0195   2.410934e+04   1.000000e-15   2.393115e+04"
       ]
      },
      {
       "output_type": "stream",
       "stream": "stdout",
       "text": [
        " \r",
        "0196   2.410776e+04   1.000000e-15   3.822264e+04"
       ]
      },
      {
       "output_type": "stream",
       "stream": "stdout",
       "text": [
        " \r",
        "0197   2.410653e+04   1.000000e-15   1.657196e+04"
       ]
      },
      {
       "output_type": "stream",
       "stream": "stdout",
       "text": [
        " \r",
        "0198   2.410518e+04   1.000000e-15   2.783946e+04"
       ]
      },
      {
       "output_type": "stream",
       "stream": "stdout",
       "text": [
        " \r",
        "0199   2.410337e+04   1.000000e-15   2.174493e+04"
       ]
      },
      {
       "output_type": "stream",
       "stream": "stdout",
       "text": [
        " \r",
        "0200   2.410163e+04   1.000000e-15   3.773063e+04"
       ]
      },
      {
       "output_type": "stream",
       "stream": "stdout",
       "text": [
        " \r",
        "0201   2.409968e+04   1.000000e-15   2.942905e+04"
       ]
      },
      {
       "output_type": "stream",
       "stream": "stdout",
       "text": [
        " \n",
        "\r"
       ]
      },
      {
       "output_type": "stream",
       "stream": "stdout",
       "text": [
        "0202   2.409830e+04   1.000000e-15   3.161552e+04"
       ]
      },
      {
       "output_type": "stream",
       "stream": "stdout",
       "text": [
        " \r",
        "0203   2.409640e+04   1.000000e-15   2.767870e+04"
       ]
      },
      {
       "output_type": "stream",
       "stream": "stdout",
       "text": [
        " \r",
        "0204   2.409476e+04   1.000000e-15   3.121646e+04"
       ]
      },
      {
       "output_type": "stream",
       "stream": "stdout",
       "text": [
        " \r",
        "0205   2.409198e+04   1.000000e-15   4.093768e+04"
       ]
      },
      {
       "output_type": "stream",
       "stream": "stdout",
       "text": [
        " \r",
        "0206   2.408975e+04   1.000000e-15   4.021688e+04"
       ]
      },
      {
       "output_type": "stream",
       "stream": "stdout",
       "text": [
        " \r",
        "0207   2.408655e+04   1.000000e-15   5.686193e+04"
       ]
      },
      {
       "output_type": "stream",
       "stream": "stdout",
       "text": [
        " \r",
        "0208   2.408384e+04   1.000000e-15   3.840690e+04"
       ]
      },
      {
       "output_type": "stream",
       "stream": "stdout",
       "text": [
        " \r",
        "0209   2.407872e+04   1.000000e-15   8.293059e+04"
       ]
      },
      {
       "output_type": "stream",
       "stream": "stdout",
       "text": [
        " \r",
        "0210   2.407148e+04   1.000000e-15   6.649704e+04"
       ]
      },
      {
       "output_type": "stream",
       "stream": "stdout",
       "text": [
        " \r",
        "0211   2.405893e+04   1.000000e-15   2.580358e+05"
       ]
      },
      {
       "output_type": "stream",
       "stream": "stdout",
       "text": [
        " \r",
        "0212   2.404370e+04   1.000000e-15   1.180310e+05"
       ]
      },
      {
       "output_type": "stream",
       "stream": "stdout",
       "text": [
        " \r",
        "0213   2.403395e+04   1.000000e-15   4.706652e+05"
       ]
      },
      {
       "output_type": "stream",
       "stream": "stdout",
       "text": [
        " \r",
        "0214   2.399827e+04   1.000000e-15   1.095692e+05"
       ]
      },
      {
       "output_type": "stream",
       "stream": "stdout",
       "text": [
        " \r",
        "0215   2.397693e+04   1.000000e-15   7.462442e+05"
       ]
      },
      {
       "output_type": "stream",
       "stream": "stdout",
       "text": [
        " \r",
        "0216   2.395797e+04   1.000000e-15   1.413928e+05"
       ]
      },
      {
       "output_type": "stream",
       "stream": "stdout",
       "text": [
        " \r",
        "0217   2.395495e+04   1.000000e-15   9.596407e+04"
       ]
      },
      {
       "output_type": "stream",
       "stream": "stdout",
       "text": [
        " \r",
        "0218   2.394944e+04   1.000000e-15   7.354987e+04"
       ]
      },
      {
       "output_type": "stream",
       "stream": "stdout",
       "text": [
        " \r",
        "0219   2.394725e+04   1.000000e-15   2.299209e+04"
       ]
      },
      {
       "output_type": "stream",
       "stream": "stdout",
       "text": [
        " \r",
        "0220   2.393816e+04   1.000000e-15   1.041342e+05"
       ]
      },
      {
       "output_type": "stream",
       "stream": "stdout",
       "text": [
        " \r",
        "0221   2.392606e+04   1.000000e-15   5.487603e+04"
       ]
      },
      {
       "output_type": "stream",
       "stream": "stdout",
       "text": [
        " \r",
        "0222   2.392120e+04   1.000000e-15   2.296901e+05"
       ]
      },
      {
       "output_type": "stream",
       "stream": "stdout",
       "text": [
        " \r",
        "0223   2.391798e+04   1.000000e-15   1.244654e+04"
       ]
      },
      {
       "output_type": "stream",
       "stream": "stdout",
       "text": [
        " \r",
        "0224   2.391678e+04   1.000000e-15   4.696956e+04"
       ]
      },
      {
       "output_type": "stream",
       "stream": "stdout",
       "text": [
        " \r",
        "0225   2.389891e+04   1.000000e-15   2.199803e+04"
       ]
      },
      {
       "output_type": "stream",
       "stream": "stdout",
       "text": [
        " \r",
        "0226   2.389707e+04   1.000000e-15   9.718105e+04"
       ]
      },
      {
       "output_type": "stream",
       "stream": "stdout",
       "text": [
        " \r",
        "0227   2.389048e+04   1.000000e-15   2.725691e+04"
       ]
      },
      {
       "output_type": "stream",
       "stream": "stdout",
       "text": [
        " \r",
        "0228   2.388858e+04   1.000000e-15   3.395452e+04"
       ]
      },
      {
       "output_type": "stream",
       "stream": "stdout",
       "text": [
        " \r",
        "0229   2.385800e+04   1.000000e-15   9.179645e+04"
       ]
      },
      {
       "output_type": "stream",
       "stream": "stdout",
       "text": [
        " \r",
        "0230   2.385365e+04   1.000000e-15   1.415199e+05"
       ]
      },
      {
       "output_type": "stream",
       "stream": "stdout",
       "text": [
        " \r",
        "0231   2.384089e+04   1.000000e-15   1.529088e+05"
       ]
      },
      {
       "output_type": "stream",
       "stream": "stdout",
       "text": [
        " \r",
        "0232   2.383822e+04   1.000000e-15   6.933157e+04"
       ]
      },
      {
       "output_type": "stream",
       "stream": "stdout",
       "text": [
        " \r",
        "0233   2.382807e+04   1.000000e-15   8.031927e+04"
       ]
      },
      {
       "output_type": "stream",
       "stream": "stdout",
       "text": [
        " \r",
        "0234   2.382031e+04   1.000000e-15   1.273670e+05"
       ]
      },
      {
       "output_type": "stream",
       "stream": "stdout",
       "text": [
        " \r",
        "0235   2.379663e+04   1.000000e-15   2.629995e+05"
       ]
      },
      {
       "output_type": "stream",
       "stream": "stdout",
       "text": [
        " \r",
        "0236   2.378995e+04   1.000000e-15   2.174573e+05"
       ]
      },
      {
       "output_type": "stream",
       "stream": "stdout",
       "text": [
        " \r",
        "0237   2.378236e+04   1.000000e-15   1.234904e+05"
       ]
      },
      {
       "output_type": "stream",
       "stream": "stdout",
       "text": [
        " \r",
        "0238   2.377894e+04   1.000000e-15   1.039646e+05"
       ]
      },
      {
       "output_type": "stream",
       "stream": "stdout",
       "text": [
        " \r",
        "0239   2.376980e+04   1.000000e-15   6.460768e+04"
       ]
      },
      {
       "output_type": "stream",
       "stream": "stdout",
       "text": [
        " \r",
        "0240   2.376050e+04   1.000000e-15   2.191132e+05"
       ]
      },
      {
       "output_type": "stream",
       "stream": "stdout",
       "text": [
        " \r",
        "0241   2.373216e+04   1.000000e-15   2.012801e+05"
       ]
      },
      {
       "output_type": "stream",
       "stream": "stdout",
       "text": [
        " \r",
        "0242   2.372100e+04   1.000000e-15   4.269443e+05"
       ]
      },
      {
       "output_type": "stream",
       "stream": "stdout",
       "text": [
        " \r",
        "0243   2.371005e+04   1.000000e-15   1.261267e+05"
       ]
      },
      {
       "output_type": "stream",
       "stream": "stdout",
       "text": [
        " \r",
        "0244   2.370731e+04   1.000000e-15   1.096484e+05"
       ]
      },
      {
       "output_type": "stream",
       "stream": "stdout",
       "text": [
        " \r",
        "0245   2.369834e+04   1.000000e-15   3.822285e+04"
       ]
      },
      {
       "output_type": "stream",
       "stream": "stdout",
       "text": [
        " \r",
        "0246   2.369164e+04   1.000000e-15   1.670522e+05"
       ]
      },
      {
       "output_type": "stream",
       "stream": "stdout",
       "text": [
        " \r",
        "0247   2.365154e+04   1.000000e-15   1.759822e+05"
       ]
      },
      {
       "output_type": "stream",
       "stream": "stdout",
       "text": [
        " \r",
        "0248   2.364199e+04   1.000000e-15   3.972116e+05"
       ]
      },
      {
       "output_type": "stream",
       "stream": "stdout",
       "text": [
        " \r",
        "0249   2.363211e+04   1.000000e-15   1.095522e+05"
       ]
      },
      {
       "output_type": "stream",
       "stream": "stdout",
       "text": [
        " \r",
        "0250   2.363020e+04   1.000000e-15   7.230796e+04"
       ]
      },
      {
       "output_type": "stream",
       "stream": "stdout",
       "text": [
        " \r",
        "0251   2.362013e+04   1.000000e-15   4.077588e+04"
       ]
      },
      {
       "output_type": "stream",
       "stream": "stdout",
       "text": [
        " \r",
        "0252   2.361374e+04   1.000000e-15   1.531436e+05"
       ]
      },
      {
       "output_type": "stream",
       "stream": "stdout",
       "text": [
        " \r",
        "0253   2.358240e+04   1.000000e-15   1.951722e+05"
       ]
      },
      {
       "output_type": "stream",
       "stream": "stdout",
       "text": [
        " \r",
        "0254   2.357593e+04   1.000000e-15   2.378451e+05"
       ]
      },
      {
       "output_type": "stream",
       "stream": "stdout",
       "text": [
        " \r",
        "0255   2.356588e+04   1.000000e-15   1.217042e+05"
       ]
      },
      {
       "output_type": "stream",
       "stream": "stdout",
       "text": [
        " \r",
        "0256   2.356385e+04   1.000000e-15   6.559777e+04"
       ]
      },
      {
       "output_type": "stream",
       "stream": "stdout",
       "text": [
        " \r",
        "0257   2.355727e+04   1.000000e-15   4.547251e+04"
       ]
      },
      {
       "output_type": "stream",
       "stream": "stdout",
       "text": [
        " \r",
        "0258   2.355278e+04   1.000000e-15   8.854868e+04"
       ]
      },
      {
       "output_type": "stream",
       "stream": "stdout",
       "text": [
        " \r",
        "0259   2.353467e+04   1.000000e-15   1.427271e+05"
       ]
      },
      {
       "output_type": "stream",
       "stream": "stdout",
       "text": [
        " \r",
        "0260   2.352928e+04   1.000000e-15   1.692978e+05"
       ]
      },
      {
       "output_type": "stream",
       "stream": "stdout",
       "text": [
        " \r",
        "0261   2.352214e+04   1.000000e-15   1.024464e+05"
       ]
      },
      {
       "output_type": "stream",
       "stream": "stdout",
       "text": [
        " \r",
        "0262   2.351975e+04   1.000000e-15   6.888032e+04"
       ]
      },
      {
       "output_type": "stream",
       "stream": "stdout",
       "text": [
        " \r",
        "0263   2.351309e+04   1.000000e-15   5.587024e+04"
       ]
      },
      {
       "output_type": "stream",
       "stream": "stdout",
       "text": [
        " \r",
        "0264   2.350753e+04   1.000000e-15   1.148640e+05"
       ]
      },
      {
       "output_type": "stream",
       "stream": "stdout",
       "text": [
        " \r",
        "0265   2.349146e+04   1.000000e-15   1.497553e+05"
       ]
      },
      {
       "output_type": "stream",
       "stream": "stdout",
       "text": [
        " \r",
        "0266   2.348414e+04   1.000000e-15   2.125366e+05"
       ]
      },
      {
       "output_type": "stream",
       "stream": "stdout",
       "text": [
        " \r",
        "0267   2.347547e+04   1.000000e-15   1.257397e+05"
       ]
      },
      {
       "output_type": "stream",
       "stream": "stdout",
       "text": [
        " \r",
        "0268   2.347261e+04   1.000000e-15   9.126391e+04"
       ]
      },
      {
       "output_type": "stream",
       "stream": "stdout",
       "text": [
        " \r",
        "0269   2.346846e+04   1.000000e-15   4.321703e+04"
       ]
      },
      {
       "output_type": "stream",
       "stream": "stdout",
       "text": [
        " \r",
        "0270   2.346510e+04   1.000000e-15   7.265081e+04"
       ]
      },
      {
       "output_type": "stream",
       "stream": "stdout",
       "text": [
        " \r",
        "0271   2.345244e+04   1.000000e-15   8.334143e+04"
       ]
      },
      {
       "output_type": "stream",
       "stream": "stdout",
       "text": [
        " \r",
        "0272   2.344225e+04   1.000000e-15   2.467987e+05"
       ]
      },
      {
       "output_type": "stream",
       "stream": "stdout",
       "text": [
        " \r",
        "0273   2.342794e+04   1.000000e-15   1.809629e+05"
       ]
      },
      {
       "output_type": "stream",
       "stream": "stdout",
       "text": [
        " \r",
        "0274   2.342401e+04   1.000000e-15   1.610303e+05"
       ]
      },
      {
       "output_type": "stream",
       "stream": "stdout",
       "text": [
        " \r",
        "0275   2.342009e+04   1.000000e-15   4.085940e+04"
       ]
      },
      {
       "output_type": "stream",
       "stream": "stdout",
       "text": [
        " \r",
        "0276   2.341813e+04   1.000000e-15   6.844786e+04"
       ]
      },
      {
       "output_type": "stream",
       "stream": "stdout",
       "text": [
        " \r",
        "0277   2.340832e+04   1.000000e-15   2.948543e+04"
       ]
      },
      {
       "output_type": "stream",
       "stream": "stdout",
       "text": [
        " \r",
        "0278   2.340080e+04   1.000000e-15   2.346504e+05"
       ]
      },
      {
       "output_type": "stream",
       "stream": "stdout",
       "text": [
        " \r",
        "0279   2.336941e+04   1.000000e-15   1.387617e+05"
       ]
      },
      {
       "output_type": "stream",
       "stream": "stdout",
       "text": [
        " \r",
        "0280   2.336383e+04   1.000000e-15   2.698548e+05"
       ]
      },
      {
       "output_type": "stream",
       "stream": "stdout",
       "text": [
        " \r",
        "0281   2.335638e+04   1.000000e-15   5.703436e+04"
       ]
      },
      {
       "output_type": "stream",
       "stream": "stdout",
       "text": [
        " \r",
        "0282   2.335501e+04   1.000000e-15   4.935434e+04"
       ]
      },
      {
       "output_type": "stream",
       "stream": "stdout",
       "text": [
        " \r",
        "0283   2.334160e+04   1.000000e-15   3.520404e+04"
       ]
      },
      {
       "output_type": "stream",
       "stream": "stdout",
       "text": [
        " \r",
        "0284   2.333628e+04   1.000000e-15   1.397377e+05"
       ]
      },
      {
       "output_type": "stream",
       "stream": "stdout",
       "text": [
        " \r",
        "0285   2.331573e+04   1.000000e-15   1.611569e+05"
       ]
      },
      {
       "output_type": "stream",
       "stream": "stdout",
       "text": [
        " \r",
        "0286   2.331398e+04   1.000000e-15   7.444202e+04"
       ]
      },
      {
       "output_type": "stream",
       "stream": "stdout",
       "text": [
        " \r",
        "0287   2.330905e+04   1.000000e-15   3.780817e+04"
       ]
      },
      {
       "output_type": "stream",
       "stream": "stdout",
       "text": [
        " \r",
        "0288   2.330712e+04   1.000000e-15   4.924064e+04"
       ]
      },
      {
       "output_type": "stream",
       "stream": "stdout",
       "text": [
        " \r",
        "0289   2.329378e+04   1.000000e-15   6.367771e+04"
       ]
      },
      {
       "output_type": "stream",
       "stream": "stdout",
       "text": [
        " \r",
        "0290   2.328860e+04   1.000000e-15   1.484731e+05"
       ]
      },
      {
       "output_type": "stream",
       "stream": "stdout",
       "text": [
        " \r",
        "0291   2.327680e+04   1.000000e-15   1.360526e+05"
       ]
      },
      {
       "output_type": "stream",
       "stream": "stdout",
       "text": [
        " \r",
        "0292   2.327484e+04   1.000000e-15   6.991117e+04"
       ]
      },
      {
       "output_type": "stream",
       "stream": "stdout",
       "text": [
        " \r",
        "0293   2.327170e+04   1.000000e-15   3.562052e+04"
       ]
      },
      {
       "output_type": "stream",
       "stream": "stdout",
       "text": [
        " \r",
        "0294   2.327012e+04   1.000000e-15   3.328288e+04"
       ]
      },
      {
       "output_type": "stream",
       "stream": "stdout",
       "text": [
        " \r",
        "0295   2.326245e+04   1.000000e-15   5.064450e+04"
       ]
      },
      {
       "output_type": "stream",
       "stream": "stdout",
       "text": [
        " \r",
        "0296   2.325691e+04   1.000000e-15   1.089670e+05"
       ]
      },
      {
       "output_type": "stream",
       "stream": "stdout",
       "text": [
        " \r",
        "0297   2.324589e+04   1.000000e-15   1.487075e+05"
       ]
      },
      {
       "output_type": "stream",
       "stream": "stdout",
       "text": [
        " \r",
        "0298   2.324330e+04   1.000000e-15   8.308432e+04"
       ]
      },
      {
       "output_type": "stream",
       "stream": "stdout",
       "text": [
        " \r",
        "0299   2.324028e+04   1.000000e-15   4.602723e+04"
       ]
      },
      {
       "output_type": "stream",
       "stream": "stdout",
       "text": [
        " \r",
        "0300   2.323873e+04   1.000000e-15   3.821440e+04"
       ]
      },
      {
       "output_type": "stream",
       "stream": "stdout",
       "text": [
        " \r",
        "0301   2.323459e+04   1.000000e-15   3.660137e+04"
       ]
      },
      {
       "output_type": "stream",
       "stream": "stdout",
       "text": [
        " \r",
        "0302   2.323072e+04   1.000000e-15   8.066619e+04"
       ]
      },
      {
       "output_type": "stream",
       "stream": "stdout",
       "text": [
        " \r",
        "0303   2.322238e+04   1.000000e-15   9.233729e+04"
       ]
      },
      {
       "output_type": "stream",
       "stream": "stdout",
       "text": [
        " \r",
        "0304   2.321844e+04   1.000000e-15   1.187718e+05"
       ]
      },
      {
       "output_type": "stream",
       "stream": "stdout",
       "text": [
        " \r",
        "0305   2.321439e+04   1.000000e-15   5.911793e+04"
       ]
      },
      {
       "output_type": "stream",
       "stream": "stdout",
       "text": [
        " \r",
        "0306   2.321248e+04   1.000000e-15   5.382378e+04"
       ]
      },
      {
       "output_type": "stream",
       "stream": "stdout",
       "text": [
        " \r",
        "0307   2.320795e+04   1.000000e-15   3.590463e+04"
       ]
      },
      {
       "output_type": "stream",
       "stream": "stdout",
       "text": [
        " \r",
        "0308   2.320337e+04   1.000000e-15   9.576397e+04"
       ]
      },
      {
       "output_type": "stream",
       "stream": "stdout",
       "text": [
        " \r",
        "0309   2.319102e+04   1.000000e-15   1.060061e+05"
       ]
      },
      {
       "output_type": "stream",
       "stream": "stdout",
       "text": [
        " \r",
        "0310   2.318576e+04   1.000000e-15   1.861646e+05"
       ]
      },
      {
       "output_type": "stream",
       "stream": "stdout",
       "text": [
        " \r",
        "0311   2.318043e+04   1.000000e-15   6.662374e+04"
       ]
      },
      {
       "output_type": "stream",
       "stream": "stdout",
       "text": [
        " \r",
        "0312   2.317851e+04   1.000000e-15   7.162519e+04"
       ]
      },
      {
       "output_type": "stream",
       "stream": "stdout",
       "text": [
        " \r",
        "0313   2.317286e+04   1.000000e-15   2.848595e+04"
       ]
      },
      {
       "output_type": "stream",
       "stream": "stdout",
       "text": [
        " \r",
        "0314   2.316878e+04   1.000000e-15   1.171240e+05"
       ]
      },
      {
       "output_type": "stream",
       "stream": "stdout",
       "text": [
        " \r",
        "0315   2.315274e+04   1.000000e-15   8.744178e+04"
       ]
      },
      {
       "output_type": "stream",
       "stream": "stdout",
       "text": [
        " \r",
        "0316   2.314875e+04   1.000000e-15   1.676156e+05"
       ]
      },
      {
       "output_type": "stream",
       "stream": "stdout",
       "text": [
        " \r",
        "0317   2.314299e+04   1.000000e-15   5.507304e+04"
       ]
      },
      {
       "output_type": "stream",
       "stream": "stdout",
       "text": [
        " \r",
        "0318   2.314167e+04   1.000000e-15   4.466187e+04"
       ]
      },
      {
       "output_type": "stream",
       "stream": "stdout",
       "text": [
        " \r",
        "0319   2.313358e+04   1.000000e-15   3.205010e+04"
       ]
      },
      {
       "output_type": "stream",
       "stream": "stdout",
       "text": [
        " \r",
        "0320   2.312882e+04   1.000000e-15   1.080831e+05"
       ]
      },
      {
       "output_type": "stream",
       "stream": "stdout",
       "text": [
        " \r",
        "0321   2.311006e+04   1.000000e-15   1.473908e+05"
       ]
      },
      {
       "output_type": "stream",
       "stream": "stdout",
       "text": [
        " \r",
        "0322   2.310729e+04   1.000000e-15   1.119679e+05"
       ]
      },
      {
       "output_type": "stream",
       "stream": "stdout",
       "text": [
        " \r",
        "0323   2.310257e+04   1.000000e-15   5.310396e+04"
       ]
      },
      {
       "output_type": "stream",
       "stream": "stdout",
       "text": [
        " \r",
        "0324   2.310111e+04   1.000000e-15   4.437318e+04"
       ]
      },
      {
       "output_type": "stream",
       "stream": "stdout",
       "text": [
        " \r",
        "0325   2.309433e+04   1.000000e-15   3.785516e+04"
       ]
      },
      {
       "output_type": "stream",
       "stream": "stdout",
       "text": [
        " \r",
        "0326   2.309023e+04   1.000000e-15   1.022466e+05"
       ]
      },
      {
       "output_type": "stream",
       "stream": "stdout",
       "text": [
        " \r",
        "0327   2.307767e+04   1.000000e-15   1.157858e+05"
       ]
      },
      {
       "output_type": "stream",
       "stream": "stdout",
       "text": [
        " \r",
        "0328   2.307429e+04   1.000000e-15   1.136532e+05"
       ]
      },
      {
       "output_type": "stream",
       "stream": "stdout",
       "text": [
        " \r",
        "0329   2.306925e+04   1.000000e-15   6.513323e+04"
       ]
      },
      {
       "output_type": "stream",
       "stream": "stdout",
       "text": [
        " \r",
        "0330   2.306731e+04   1.000000e-15   4.870573e+04"
       ]
      },
      {
       "output_type": "stream",
       "stream": "stdout",
       "text": [
        " \r",
        "0331   2.306027e+04   1.000000e-15   5.268353e+04"
       ]
      },
      {
       "output_type": "stream",
       "stream": "stdout",
       "text": [
        " \r",
        "0332   2.305463e+04   1.000000e-15   1.087037e+05"
       ]
      },
      {
       "output_type": "stream",
       "stream": "stdout",
       "text": [
        " \r",
        "0333   2.304195e+04   1.000000e-15   1.525129e+05"
       ]
      },
      {
       "output_type": "stream",
       "stream": "stdout",
       "text": [
        " \r",
        "0334   2.303831e+04   1.000000e-15   1.148234e+05"
       ]
      },
      {
       "output_type": "stream",
       "stream": "stdout",
       "text": [
        " \r",
        "0335   2.303453e+04   1.000000e-15   5.926134e+04"
       ]
      },
      {
       "output_type": "stream",
       "stream": "stdout",
       "text": [
        " \r",
        "0336   2.303275e+04   1.000000e-15   4.633779e+04"
       ]
      },
      {
       "output_type": "stream",
       "stream": "stdout",
       "text": [
        " \r",
        "0337   2.302812e+04   1.000000e-15   3.978224e+04"
       ]
      },
      {
       "output_type": "stream",
       "stream": "stdout",
       "text": [
        " \r",
        "0338   2.302346e+04   1.000000e-15   9.298695e+04"
       ]
      },
      {
       "output_type": "stream",
       "stream": "stdout",
       "text": [
        " \r",
        "0339   2.301186e+04   1.000000e-15   1.157859e+05"
       ]
      },
      {
       "output_type": "stream",
       "stream": "stdout",
       "text": [
        " \r",
        "0340   2.300594e+04   1.000000e-15   1.737884e+05"
       ]
      },
      {
       "output_type": "stream",
       "stream": "stdout",
       "text": [
        " \r",
        "0341   2.299984e+04   1.000000e-15   9.044092e+04"
       ]
      },
      {
       "output_type": "stream",
       "stream": "stdout",
       "text": [
        " \r",
        "0342   2.299748e+04   1.000000e-15   7.374449e+04"
       ]
      },
      {
       "output_type": "stream",
       "stream": "stdout",
       "text": [
        " \r",
        "0343   2.299334e+04   1.000000e-15   3.686565e+04"
       ]
      },
      {
       "output_type": "stream",
       "stream": "stdout",
       "text": [
        " \r",
        "0344   2.298952e+04   1.000000e-15   8.344161e+04"
       ]
      },
      {
       "output_type": "stream",
       "stream": "stdout",
       "text": [
        " \r",
        "0345   2.297749e+04   1.000000e-15   8.850517e+04"
       ]
      },
      {
       "output_type": "stream",
       "stream": "stdout",
       "text": [
        " \r",
        "0346   2.297128e+04   1.000000e-15   2.038785e+05"
       ]
      },
      {
       "output_type": "stream",
       "stream": "stdout",
       "text": [
        " \r",
        "0347   2.296434e+04   1.000000e-15   8.629266e+04"
       ]
      },
      {
       "output_type": "stream",
       "stream": "stdout",
       "text": [
        " \r",
        "0348   2.296221e+04   1.000000e-15   8.491280e+04"
       ]
      },
      {
       "output_type": "stream",
       "stream": "stdout",
       "text": [
        " \r",
        "0349   2.295690e+04   1.000000e-15   3.041442e+04"
       ]
      },
      {
       "output_type": "stream",
       "stream": "stdout",
       "text": [
        " \r",
        "0350   2.295344e+04   1.000000e-15   1.053685e+05"
       ]
      },
      {
       "output_type": "stream",
       "stream": "stdout",
       "text": [
        " \r",
        "0351   2.293699e+04   1.000000e-15   7.619188e+04"
       ]
      },
      {
       "output_type": "stream",
       "stream": "stdout",
       "text": [
        " \r",
        "0352   2.293291e+04   1.000000e-15   1.786757e+05"
       ]
      },
      {
       "output_type": "stream",
       "stream": "stdout",
       "text": [
        " \r",
        "0353   2.292540e+04   1.000000e-15   6.408913e+04"
       ]
      },
      {
       "output_type": "stream",
       "stream": "stdout",
       "text": [
        " \r",
        "0354   2.292374e+04   1.000000e-15   5.424194e+04"
       ]
      },
      {
       "output_type": "stream",
       "stream": "stdout",
       "text": [
        " \r",
        "0355   2.291086e+04   1.000000e-15   4.551866e+04"
       ]
      },
      {
       "output_type": "stream",
       "stream": "stdout",
       "text": [
        " \r",
        "0356   2.290531e+04   1.000000e-15   1.332690e+05"
       ]
      },
      {
       "output_type": "stream",
       "stream": "stdout",
       "text": [
        " \r",
        "0357   2.288959e+04   1.000000e-15   1.656383e+05"
       ]
      },
      {
       "output_type": "stream",
       "stream": "stdout",
       "text": [
        " \r",
        "0358   2.288755e+04   1.000000e-15   6.295457e+04"
       ]
      },
      {
       "output_type": "stream",
       "stream": "stdout",
       "text": [
        " \r",
        "0359   2.288237e+04   1.000000e-15   5.469549e+04"
       ]
      },
      {
       "output_type": "stream",
       "stream": "stdout",
       "text": [
        " \r",
        "0360   2.287944e+04   1.000000e-15   5.394403e+04"
       ]
      },
      {
       "output_type": "stream",
       "stream": "stdout",
       "text": [
        " \r",
        "0361   2.287066e+04   1.000000e-15   9.819596e+04"
       ]
      },
      {
       "output_type": "stream",
       "stream": "stdout",
       "text": [
        " \r",
        "0362   2.286672e+04   1.000000e-15   9.030347e+04"
       ]
      },
      {
       "output_type": "stream",
       "stream": "stdout",
       "text": [
        " \r",
        "0363   2.286191e+04   1.000000e-15   9.143387e+04"
       ]
      },
      {
       "output_type": "stream",
       "stream": "stdout",
       "text": [
        " \r",
        "0364   2.285993e+04   1.000000e-15   4.522842e+04"
       ]
      },
      {
       "output_type": "stream",
       "stream": "stdout",
       "text": [
        " \r",
        "0365   2.285686e+04   1.000000e-15   4.320083e+04"
       ]
      },
      {
       "output_type": "stream",
       "stream": "stdout",
       "text": [
        " \r",
        "0366   2.285301e+04   1.000000e-15   5.532364e+04"
       ]
      },
      {
       "output_type": "stream",
       "stream": "stdout",
       "text": [
        " \r",
        "0367   2.284518e+04   1.000000e-15   1.012826e+05"
       ]
      },
      {
       "output_type": "stream",
       "stream": "stdout",
       "text": [
        " \r",
        "0368   2.283920e+04   1.000000e-15   1.344832e+05"
       ]
      },
      {
       "output_type": "stream",
       "stream": "stdout",
       "text": [
        " \r",
        "0369   2.283496e+04   1.000000e-15   8.734071e+04"
       ]
      },
      {
       "output_type": "stream",
       "stream": "stdout",
       "text": [
        " \r",
        "0370   2.283274e+04   1.000000e-15   6.136851e+04"
       ]
      },
      {
       "output_type": "stream",
       "stream": "stdout",
       "text": [
        " \r",
        "0371   2.283023e+04   1.000000e-15   3.165209e+04"
       ]
      },
      {
       "output_type": "stream",
       "stream": "stdout",
       "text": [
        " \r",
        "0372   2.282703e+04   1.000000e-15   6.161198e+04"
       ]
      },
      {
       "output_type": "stream",
       "stream": "stdout",
       "text": [
        " \r",
        "0373   2.281918e+04   1.000000e-15   6.526190e+04"
       ]
      },
      {
       "output_type": "stream",
       "stream": "stdout",
       "text": [
        " \r",
        "0374   2.281279e+04   1.000000e-15   1.827738e+05"
       ]
      },
      {
       "output_type": "stream",
       "stream": "stdout",
       "text": [
        " \r",
        "0375   2.280622e+04   1.000000e-15   8.190304e+04"
       ]
      },
      {
       "output_type": "stream",
       "stream": "stdout",
       "text": [
        " \r",
        "0376   2.280412e+04   1.000000e-15   8.524184e+04"
       ]
      },
      {
       "output_type": "stream",
       "stream": "stdout",
       "text": [
        " \r",
        "0377   2.280131e+04   1.000000e-15   1.945623e+04"
       ]
      },
      {
       "output_type": "stream",
       "stream": "stdout",
       "text": [
        " \r",
        "0378   2.279925e+04   1.000000e-15   5.500618e+04"
       ]
      },
      {
       "output_type": "stream",
       "stream": "stdout",
       "text": [
        " \r",
        "0379   2.278805e+04   1.000000e-15   4.742735e+04"
       ]
      },
      {
       "output_type": "stream",
       "stream": "stdout",
       "text": [
        " \r",
        "0380   2.278419e+04   1.000000e-15   1.526768e+05"
       ]
      },
      {
       "output_type": "stream",
       "stream": "stdout",
       "text": [
        " \r",
        "0381   2.277859e+04   1.000000e-15   5.769893e+04"
       ]
      },
      {
       "output_type": "stream",
       "stream": "stdout",
       "text": [
        " \r",
        "0382   2.277748e+04   1.000000e-15   4.238437e+04"
       ]
      },
      {
       "output_type": "stream",
       "stream": "stdout",
       "text": [
        " \r",
        "0383   2.277210e+04   1.000000e-15   2.409757e+04"
       ]
      },
      {
       "output_type": "stream",
       "stream": "stdout",
       "text": [
        " \r",
        "0384   2.276920e+04   1.000000e-15   7.270664e+04"
       ]
      },
      {
       "output_type": "stream",
       "stream": "stdout",
       "text": [
        " \r",
        "0385   2.275832e+04   1.000000e-15   9.059266e+04"
       ]
      },
      {
       "output_type": "stream",
       "stream": "stdout",
       "text": [
        " \r",
        "0386   2.275640e+04   1.000000e-15   6.329369e+04"
       ]
      },
      {
       "output_type": "stream",
       "stream": "stdout",
       "text": [
        " \r",
        "0387   2.275342e+04   1.000000e-15   4.213553e+04"
       ]
      },
      {
       "output_type": "stream",
       "stream": "stdout",
       "text": [
        " \r",
        "0388   2.275223e+04   1.000000e-15   2.145692e+04"
       ]
      },
      {
       "output_type": "stream",
       "stream": "stdout",
       "text": [
        " \r",
        "0389   2.274740e+04   1.000000e-15   4.261013e+04"
       ]
      },
      {
       "output_type": "stream",
       "stream": "stdout",
       "text": [
        " \r",
        "0390   2.274319e+04   1.000000e-15   6.047360e+04"
       ]
      },
      {
       "output_type": "stream",
       "stream": "stdout",
       "text": [
        " \r",
        "0391   2.273689e+04   1.000000e-15   1.228432e+05"
       ]
      },
      {
       "output_type": "stream",
       "stream": "stdout",
       "text": [
        " \r",
        "0392   2.273493e+04   1.000000e-15   4.312841e+04"
       ]
      },
      {
       "output_type": "stream",
       "stream": "stdout",
       "text": [
        " \r",
        "0393   2.273311e+04   1.000000e-15   4.033409e+04"
       ]
      },
      {
       "output_type": "stream",
       "stream": "stdout",
       "text": [
        " \r",
        "0394   2.273132e+04   1.000000e-15   2.470261e+04"
       ]
      },
      {
       "output_type": "stream",
       "stream": "stdout",
       "text": [
        " \r",
        "0395   2.272864e+04   1.000000e-15   4.489490e+04"
       ]
      },
      {
       "output_type": "stream",
       "stream": "stdout",
       "text": [
        " \r",
        "0396   2.272485e+04   1.000000e-15   5.336621e+04"
       ]
      },
      {
       "output_type": "stream",
       "stream": "stdout",
       "text": [
        " \r",
        "0397   2.272179e+04   1.000000e-15   6.697371e+04"
       ]
      },
      {
       "output_type": "stream",
       "stream": "stdout",
       "text": [
        " \r",
        "0398   2.271918e+04   1.000000e-15   5.185378e+04"
       ]
      },
      {
       "output_type": "stream",
       "stream": "stdout",
       "text": [
        " \r",
        "0399   2.271733e+04   1.000000e-15   3.271613e+04"
       ]
      },
      {
       "output_type": "stream",
       "stream": "stdout",
       "text": [
        " \r",
        "0400   2.271451e+04   1.000000e-15   4.509014e+04"
       ]
      },
      {
       "output_type": "stream",
       "stream": "stdout",
       "text": [
        " \r",
        "0401   2.271106e+04   1.000000e-15   4.410216e+04"
       ]
      },
      {
       "output_type": "stream",
       "stream": "stdout",
       "text": [
        " \r",
        "0402   2.270779e+04   1.000000e-15   8.149738e+04"
       ]
      },
      {
       "output_type": "stream",
       "stream": "stdout",
       "text": [
        " \r",
        "0403   2.270603e+04   1.000000e-15   2.808140e+04"
       ]
      },
      {
       "output_type": "stream",
       "stream": "stdout",
       "text": [
        " \r",
        "0404   2.270494e+04   1.000000e-15   3.336145e+04"
       ]
      },
      {
       "output_type": "stream",
       "stream": "stdout",
       "text": [
        " \r",
        "0405   2.270302e+04   1.000000e-15   1.279515e+04"
       ]
      },
      {
       "output_type": "stream",
       "stream": "stdout",
       "text": [
        " \r",
        "0406   2.270087e+04   1.000000e-15   5.250394e+04"
       ]
      },
      {
       "output_type": "stream",
       "stream": "stdout",
       "text": [
        " \r",
        "0407   2.269425e+04   1.000000e-15   4.012127e+04"
       ]
      },
      {
       "output_type": "stream",
       "stream": "stdout",
       "text": [
        " \r",
        "0408   2.269200e+04   1.000000e-15   9.322249e+04"
       ]
      },
      {
       "output_type": "stream",
       "stream": "stdout",
       "text": [
        " \r",
        "0409   2.268945e+04   1.000000e-15   2.636446e+04"
       ]
      },
      {
       "output_type": "stream",
       "stream": "stdout",
       "text": [
        " \r",
        "0410   2.268876e+04   1.000000e-15   2.358844e+04"
       ]
      },
      {
       "output_type": "stream",
       "stream": "stdout",
       "text": [
        " \r",
        "0411   2.268483e+04   1.000000e-15   1.619731e+04"
       ]
      },
      {
       "output_type": "stream",
       "stream": "stdout",
       "text": [
        " \r",
        "0412   2.268290e+04   1.000000e-15   4.841506e+04"
       ]
      },
      {
       "output_type": "stream",
       "stream": "stdout",
       "text": [
        " \r",
        "0413   2.267826e+04   1.000000e-15   5.341268e+04"
       ]
      },
      {
       "output_type": "stream",
       "stream": "stdout",
       "text": [
        " \r",
        "0414   2.267764e+04   1.000000e-15   1.892584e+04"
       ]
      },
      {
       "output_type": "stream",
       "stream": "stdout",
       "text": [
        " \r",
        "0415   2.267632e+04   1.000000e-15   1.599982e+04"
       ]
      },
      {
       "output_type": "stream",
       "stream": "stdout",
       "text": [
        " \r",
        "0416   2.267528e+04   1.000000e-15   1.351797e+04"
       ]
      },
      {
       "output_type": "stream",
       "stream": "stdout",
       "text": [
        " \r",
        "0417   2.267158e+04   1.000000e-15   4.037127e+04"
       ]
      },
      {
       "output_type": "stream",
       "stream": "stdout",
       "text": [
        " \r",
        "0418   2.266909e+04   1.000000e-15   4.028211e+04"
       ]
      },
      {
       "output_type": "stream",
       "stream": "stdout",
       "text": [
        " \r",
        "0419   2.266674e+04   1.000000e-15   5.921208e+04"
       ]
      },
      {
       "output_type": "stream",
       "stream": "stdout",
       "text": [
        " \r",
        "0420   2.266585e+04   1.000000e-15   1.712498e+04"
       ]
      },
      {
       "output_type": "stream",
       "stream": "stdout",
       "text": [
        " \r",
        "0421   2.266505e+04   1.000000e-15   1.710277e+04"
       ]
      },
      {
       "output_type": "stream",
       "stream": "stdout",
       "text": [
        " \r",
        "0422   2.266367e+04   1.000000e-15   1.386625e+04"
       ]
      },
      {
       "output_type": "stream",
       "stream": "stdout",
       "text": [
        " \r",
        "0423   2.266157e+04   1.000000e-15   3.519956e+04"
       ]
      },
      {
       "output_type": "stream",
       "stream": "stdout",
       "text": [
        " \r",
        "0424   2.265858e+04   1.000000e-15   4.332468e+04"
       ]
      },
      {
       "output_type": "stream",
       "stream": "stdout",
       "text": [
        " \r",
        "0425   2.265709e+04   1.000000e-15   4.030512e+04"
       ]
      },
      {
       "output_type": "stream",
       "stream": "stdout",
       "text": [
        " \r",
        "0426   2.265602e+04   1.000000e-15   2.301480e+04"
       ]
      },
      {
       "output_type": "stream",
       "stream": "stdout",
       "text": [
        " \r",
        "0427   2.265538e+04   1.000000e-15   1.228642e+04"
       ]
      },
      {
       "output_type": "stream",
       "stream": "stdout",
       "text": [
        " \r",
        "0428   2.265426e+04   1.000000e-15   1.632849e+04"
       ]
      },
      {
       "output_type": "stream",
       "stream": "stdout",
       "text": [
        " \r",
        "0429   2.265264e+04   1.000000e-15   1.937910e+04"
       ]
      },
      {
       "output_type": "stream",
       "stream": "stdout",
       "text": [
        " \r",
        "0430   2.265053e+04   1.000000e-15   4.389277e+04"
       ]
      },
      {
       "output_type": "stream",
       "stream": "stdout",
       "text": [
        " \r",
        "0431   2.264900e+04   1.000000e-15   2.363992e+04"
       ]
      },
      {
       "output_type": "stream",
       "stream": "stdout",
       "text": [
        " \r",
        "0432   2.264801e+04   1.000000e-15   2.857613e+04"
       ]
      },
      {
       "output_type": "stream",
       "stream": "stdout",
       "text": [
        " \r",
        "0433   2.264674e+04   1.000000e-15   1.131674e+04"
       ]
      },
      {
       "output_type": "stream",
       "stream": "stdout",
       "text": [
        " \r",
        "0434   2.264550e+04   1.000000e-15   2.979983e+04"
       ]
      },
      {
       "output_type": "stream",
       "stream": "stdout",
       "text": [
        " \r",
        "0435   2.264325e+04   1.000000e-15   2.087803e+04"
       ]
      },
      {
       "output_type": "stream",
       "stream": "stdout",
       "text": [
        " \r",
        "0436   2.264235e+04   1.000000e-15   3.108084e+04"
       ]
      },
      {
       "output_type": "stream",
       "stream": "stdout",
       "text": [
        " \r",
        "0437   2.264106e+04   1.000000e-15   1.312093e+04"
       ]
      },
      {
       "output_type": "stream",
       "stream": "stdout",
       "text": [
        " \r",
        "0438   2.264032e+04   1.000000e-15   1.865245e+04"
       ]
      },
      {
       "output_type": "stream",
       "stream": "stdout",
       "text": [
        " \r",
        "0439   2.263759e+04   1.000000e-15   1.947229e+04"
       ]
      },
      {
       "output_type": "stream",
       "stream": "stdout",
       "text": [
        " \r",
        "0440   2.263630e+04   1.000000e-15   3.604943e+04"
       ]
      },
      {
       "output_type": "stream",
       "stream": "stdout",
       "text": [
        " \r",
        "0441   2.263448e+04   1.000000e-15   2.774702e+04"
       ]
      },
      {
       "output_type": "stream",
       "stream": "stdout",
       "text": [
        " \r",
        "0442   2.263404e+04   1.000000e-15   1.292004e+04"
       ]
      },
      {
       "output_type": "stream",
       "stream": "stdout",
       "text": [
        " \r",
        "0443   2.263323e+04   1.000000e-15   9.618643e+03"
       ]
      },
      {
       "output_type": "stream",
       "stream": "stdout",
       "text": [
        " \n",
        "\r"
       ]
      },
      {
       "output_type": "stream",
       "stream": "stdout",
       "text": [
        "0444   2.263242e+04   1.000000e-15   1.145129e+04"
       ]
      },
      {
       "output_type": "stream",
       "stream": "stdout",
       "text": [
        " \r",
        "0445   2.262969e+04   1.000000e-15   2.795680e+04"
       ]
      },
      {
       "output_type": "stream",
       "stream": "stdout",
       "text": [
        " \r",
        "0446   2.262789e+04   1.000000e-15   3.478472e+04"
       ]
      },
      {
       "output_type": "stream",
       "stream": "stdout",
       "text": [
        " \r",
        "0447   2.262627e+04   1.000000e-15   3.793078e+04"
       ]
      },
      {
       "output_type": "stream",
       "stream": "stdout",
       "text": [
        " \r",
        "0448   2.262568e+04   1.000000e-15   1.263799e+04"
       ]
      },
      {
       "output_type": "stream",
       "stream": "stdout",
       "text": [
        " \r",
        "0449   2.262503e+04   1.000000e-15   1.224611e+04"
       ]
      },
      {
       "output_type": "stream",
       "stream": "stdout",
       "text": [
        " \r",
        "0450   2.262406e+04   1.000000e-15   1.105474e+04"
       ]
      },
      {
       "output_type": "stream",
       "stream": "stdout",
       "text": [
        " \r",
        "0451   2.262251e+04   1.000000e-15   2.592383e+04"
       ]
      },
      {
       "output_type": "stream",
       "stream": "stdout",
       "text": [
        " \r",
        "0452   2.262083e+04   1.000000e-15   2.735459e+04"
       ]
      },
      {
       "output_type": "stream",
       "stream": "stdout",
       "text": [
        " \r",
        "0453   2.261990e+04   1.000000e-15   2.421660e+04"
       ]
      },
      {
       "output_type": "stream",
       "stream": "stdout",
       "text": [
        " \r",
        "0454   2.261928e+04   1.000000e-15   1.269489e+04"
       ]
      },
      {
       "output_type": "stream",
       "stream": "stdout",
       "text": [
        " \r",
        "0455   2.261879e+04   1.000000e-15   8.357275e+03"
       ]
      },
      {
       "output_type": "stream",
       "stream": "stdout",
       "text": [
        " \r",
        "0456   2.261779e+04   1.000000e-15   1.258665e+04"
       ]
      },
      {
       "output_type": "stream",
       "stream": "stdout",
       "text": [
        " \r",
        "0457   2.261624e+04   1.000000e-15   1.940125e+04"
       ]
      },
      {
       "output_type": "stream",
       "stream": "stdout",
       "text": [
        " \r",
        "0458   2.261435e+04   1.000000e-15   3.899087e+04"
       ]
      },
      {
       "output_type": "stream",
       "stream": "stdout",
       "text": [
        " \r",
        "0459   2.261333e+04   1.000000e-15   1.944534e+04"
       ]
      },
      {
       "output_type": "stream",
       "stream": "stdout",
       "text": [
        " \r",
        "0460   2.261271e+04   1.000000e-15   1.784527e+04"
       ]
      },
      {
       "output_type": "stream",
       "stream": "stdout",
       "text": [
        " \r",
        "0461   2.261207e+04   1.000000e-15   6.870656e+03"
       ]
      },
      {
       "output_type": "stream",
       "stream": "stdout",
       "text": [
        " \r",
        "0462   2.261130e+04   1.000000e-15   1.667150e+04"
       ]
      },
      {
       "output_type": "stream",
       "stream": "stdout",
       "text": [
        " \r",
        "0463   2.260952e+04   1.000000e-15   1.418466e+04"
       ]
      },
      {
       "output_type": "stream",
       "stream": "stdout",
       "text": [
        " \r",
        "0464   2.260851e+04   1.000000e-15   3.221036e+04"
       ]
      },
      {
       "output_type": "stream",
       "stream": "stdout",
       "text": [
        " \r",
        "0465   2.260737e+04   1.000000e-15   1.363892e+04"
       ]
      },
      {
       "output_type": "stream",
       "stream": "stdout",
       "text": [
        " \r",
        "0466   2.260688e+04   1.000000e-15   1.425093e+04"
       ]
      },
      {
       "output_type": "stream",
       "stream": "stdout",
       "text": [
        " \r",
        "0467   2.260541e+04   1.000000e-15   1.060336e+04"
       ]
      },
      {
       "output_type": "stream",
       "stream": "stdout",
       "text": [
        " \r",
        "0468   2.260456e+04   1.000000e-15   2.085594e+04"
       ]
      },
      {
       "output_type": "stream",
       "stream": "stdout",
       "text": [
        " \r",
        "0469   2.260306e+04   1.000000e-15   2.006368e+04"
       ]
      },
      {
       "output_type": "stream",
       "stream": "stdout",
       "text": [
        " \r",
        "0470   2.260263e+04   1.000000e-15   1.114672e+04"
       ]
      },
      {
       "output_type": "stream",
       "stream": "stdout",
       "text": [
        " \r",
        "0471   2.260179e+04   1.000000e-15   1.084540e+04"
       ]
      },
      {
       "output_type": "stream",
       "stream": "stdout",
       "text": [
        " \r",
        "0472   2.260103e+04   1.000000e-15   1.071574e+04"
       ]
      },
      {
       "output_type": "stream",
       "stream": "stdout",
       "text": [
        " \r",
        "0473   2.259933e+04   1.000000e-15   2.463971e+04"
       ]
      },
      {
       "output_type": "stream",
       "stream": "stdout",
       "text": [
        " \r",
        "0474   2.259833e+04   1.000000e-15   1.842055e+04"
       ]
      },
      {
       "output_type": "stream",
       "stream": "stdout",
       "text": [
        " \r",
        "0475   2.259754e+04   1.000000e-15   2.018834e+04"
       ]
      },
      {
       "output_type": "stream",
       "stream": "stdout",
       "text": [
        " \r",
        "0476   2.259708e+04   1.000000e-15   7.389940e+03"
       ]
      },
      {
       "output_type": "stream",
       "stream": "stdout",
       "text": [
        " \r",
        "0477   2.259651e+04   1.000000e-15   1.033004e+04"
       ]
      },
      {
       "output_type": "stream",
       "stream": "stdout",
       "text": [
        " \r",
        "0478   2.259529e+04   1.000000e-15   1.156411e+04"
       ]
      },
      {
       "output_type": "stream",
       "stream": "stdout",
       "text": [
        " \r",
        "0479   2.259389e+04   1.000000e-15   2.803146e+04"
       ]
      },
      {
       "output_type": "stream",
       "stream": "stdout",
       "text": [
        " \r",
        "0480   2.259258e+04   1.000000e-15   2.386309e+04"
       ]
      },
      {
       "output_type": "stream",
       "stream": "stdout",
       "text": [
        " \r",
        "0481   2.259205e+04   1.000000e-15   1.454307e+04"
       ]
      },
      {
       "output_type": "stream",
       "stream": "stdout",
       "text": [
        " \r",
        "0482   2.259154e+04   1.000000e-15   9.223052e+03"
       ]
      },
      {
       "output_type": "stream",
       "stream": "stdout",
       "text": [
        " \r",
        "0483   2.259105e+04   1.000000e-15   7.341223e+03"
       ]
      },
      {
       "output_type": "stream",
       "stream": "stdout",
       "text": [
        " \r",
        "0484   2.258994e+04   1.000000e-15   1.455464e+04"
       ]
      },
      {
       "output_type": "stream",
       "stream": "stdout",
       "text": [
        " \r",
        "0485   2.258867e+04   1.000000e-15   1.826819e+04"
       ]
      },
      {
       "output_type": "stream",
       "stream": "stdout",
       "text": [
        " \r",
        "0486   2.258753e+04   1.000000e-15   2.845807e+04"
       ]
      },
      {
       "output_type": "stream",
       "stream": "stdout",
       "text": [
        " \r",
        "0487   2.258696e+04   1.000000e-15   9.982155e+03"
       ]
      },
      {
       "output_type": "stream",
       "stream": "stdout",
       "text": [
        " \r",
        "0488   2.258654e+04   1.000000e-15   1.076590e+04"
       ]
      },
      {
       "output_type": "stream",
       "stream": "stdout",
       "text": [
        " \r",
        "0489   2.258572e+04   1.000000e-15   6.199313e+03"
       ]
      },
      {
       "output_type": "stream",
       "stream": "stdout",
       "text": [
        " \r",
        "0490   2.258460e+04   1.000000e-15   2.266207e+04"
       ]
      },
      {
       "output_type": "stream",
       "stream": "stdout",
       "text": [
        " \r",
        "0491   2.258256e+04   1.000000e-15   2.039941e+04"
       ]
      },
      {
       "output_type": "stream",
       "stream": "stdout",
       "text": [
        " \r",
        "0492   2.258178e+04   1.000000e-15   2.871896e+04"
       ]
      },
      {
       "output_type": "stream",
       "stream": "stdout",
       "text": [
        " \r",
        "0493   2.258117e+04   1.000000e-15   8.276645e+03"
       ]
      },
      {
       "output_type": "stream",
       "stream": "stdout",
       "text": [
        " \r",
        "0494   2.258091e+04   1.000000e-15   8.006914e+03"
       ]
      },
      {
       "output_type": "stream",
       "stream": "stdout",
       "text": [
        " \r",
        "0495   2.257991e+04   1.000000e-15   5.499235e+03"
       ]
      },
      {
       "output_type": "stream",
       "stream": "stdout",
       "text": [
        " \r",
        "0496   2.257913e+04   1.000000e-15   1.852012e+04"
       ]
      },
      {
       "output_type": "stream",
       "stream": "stdout",
       "text": [
        " \r",
        "0497   2.257715e+04   1.000000e-15   2.007124e+04"
       ]
      },
      {
       "output_type": "stream",
       "stream": "stdout",
       "text": [
        " \r",
        "0498   2.257666e+04   1.000000e-15   1.576573e+04"
       ]
      },
      {
       "output_type": "stream",
       "stream": "stdout",
       "text": [
        " \r",
        "0499   2.257596e+04   1.000000e-15   9.779353e+03"
       ]
      },
      {
       "output_type": "stream",
       "stream": "stdout",
       "text": [
        " \r",
        "0500   2.257558e+04   1.000000e-15   6.792333e+03"
       ]
      },
      {
       "output_type": "stream",
       "stream": "stdout",
       "text": [
        " \r",
        "0501   2.257447e+04   1.000000e-15   1.250494e+04"
       ]
      },
      {
       "output_type": "stream",
       "stream": "stdout",
       "text": [
        " \r",
        "0502   2.257378e+04   1.000000e-15   1.203991e+04"
       ]
      },
      {
       "output_type": "stream",
       "stream": "stdout",
       "text": [
        " \r",
        "0503   2.257302e+04   1.000000e-15   1.684701e+04"
       ]
      },
      {
       "output_type": "stream",
       "stream": "stdout",
       "text": [
        " \r",
        "0504   2.257260e+04   1.000000e-15   6.362327e+03"
       ]
      },
      {
       "output_type": "stream",
       "stream": "stdout",
       "text": [
        " \r",
        "0505   2.257203e+04   1.000000e-15   1.119105e+04"
       ]
      },
      {
       "output_type": "stream",
       "stream": "stdout",
       "text": [
        " \r",
        "0506   2.257111e+04   1.000000e-15   9.115165e+03"
       ]
      },
      {
       "output_type": "stream",
       "stream": "stdout",
       "text": [
        " \r",
        "0507   2.257034e+04   1.000000e-15   1.983116e+04"
       ]
      },
      {
       "output_type": "stream",
       "stream": "stdout",
       "text": [
        " \r",
        "0508   2.256968e+04   1.000000e-15   1.039883e+04"
       ]
      },
      {
       "output_type": "stream",
       "stream": "stdout",
       "text": [
        " \r",
        "0509   2.256938e+04   1.000000e-15   8.205930e+03"
       ]
      },
      {
       "output_type": "stream",
       "stream": "stdout",
       "text": [
        " \r",
        "0510   2.256886e+04   1.000000e-15   5.821827e+03"
       ]
      },
      {
       "output_type": "stream",
       "stream": "stdout",
       "text": [
        " \r",
        "0511   2.256831e+04   1.000000e-15   9.000985e+03"
       ]
      },
      {
       "output_type": "stream",
       "stream": "stdout",
       "text": [
        " \r",
        "0512   2.256711e+04   1.000000e-15   1.580068e+04"
       ]
      },
      {
       "output_type": "stream",
       "stream": "stdout",
       "text": [
        " \r",
        "0513   2.256654e+04   1.000000e-15   1.248709e+04"
       ]
      },
      {
       "output_type": "stream",
       "stream": "stdout",
       "text": [
        " \r",
        "0514   2.256604e+04   1.000000e-15   1.183888e+04"
       ]
      },
      {
       "output_type": "stream",
       "stream": "stdout",
       "text": [
        " \r",
        "0515   2.256572e+04   1.000000e-15   4.351866e+03"
       ]
      },
      {
       "output_type": "stream",
       "stream": "stdout",
       "text": [
        " \r",
        "0516   2.256519e+04   1.000000e-15   9.566742e+03"
       ]
      },
      {
       "output_type": "stream",
       "stream": "stdout",
       "text": [
        " \r",
        "0517   2.256411e+04   1.000000e-15   8.498554e+03"
       ]
      },
      {
       "output_type": "stream",
       "stream": "stdout",
       "text": [
        " \r",
        "0518   2.256322e+04   1.000000e-15   2.583483e+04"
       ]
      },
      {
       "output_type": "stream",
       "stream": "stdout",
       "text": [
        " \r",
        "0519   2.256254e+04   1.000000e-15   8.973843e+03"
       ]
      },
      {
       "output_type": "stream",
       "stream": "stdout",
       "text": [
        " \r",
        "0520   2.256228e+04   1.000000e-15   8.962439e+03"
       ]
      },
      {
       "output_type": "stream",
       "stream": "stdout",
       "text": [
        " \r",
        "0521   2.256167e+04   1.000000e-15   3.844569e+03"
       ]
      },
      {
       "output_type": "stream",
       "stream": "stdout",
       "text": [
        " \r",
        "0522   2.256116e+04   1.000000e-15   1.185411e+04"
       ]
      },
      {
       "output_type": "stream",
       "stream": "stdout",
       "text": [
        " \r",
        "0523   2.255957e+04   1.000000e-15   1.296425e+04"
       ]
      },
      {
       "output_type": "stream",
       "stream": "stdout",
       "text": [
        " \r",
        "0524   2.255916e+04   1.000000e-15   1.425485e+04"
       ]
      },
      {
       "output_type": "stream",
       "stream": "stdout",
       "text": [
        " \r",
        "0525   2.255866e+04   1.000000e-15   7.234518e+03"
       ]
      },
      {
       "output_type": "stream",
       "stream": "stdout",
       "text": [
        " \r",
        "0526   2.255846e+04   1.000000e-15   4.308549e+03"
       ]
      },
      {
       "output_type": "stream",
       "stream": "stdout",
       "text": [
        " \r",
        "0527   2.255767e+04   1.000000e-15   6.380447e+03"
       ]
      },
      {
       "output_type": "stream",
       "stream": "stdout",
       "text": [
        " \r",
        "0528   2.255689e+04   1.000000e-15   1.155022e+04"
       ]
      },
      {
       "output_type": "stream",
       "stream": "stdout",
       "text": [
        " \r",
        "0529   2.255548e+04   1.000000e-15   2.406076e+04"
       ]
      },
      {
       "output_type": "stream",
       "stream": "stdout",
       "text": [
        " \r",
        "0530   2.255503e+04   1.000000e-15   9.974170e+03"
       ]
      },
      {
       "output_type": "stream",
       "stream": "stdout",
       "text": [
        " \r",
        "0531   2.255464e+04   1.000000e-15   9.214477e+03"
       ]
      },
      {
       "output_type": "stream",
       "stream": "stdout",
       "text": [
        " \r",
        "0532   2.255432e+04   1.000000e-15   3.898845e+03"
       ]
      },
      {
       "output_type": "stream",
       "stream": "stdout",
       "text": [
        " \r",
        "0533   2.255377e+04   1.000000e-15   9.259977e+03"
       ]
      },
      {
       "output_type": "stream",
       "stream": "stdout",
       "text": [
        " \r",
        "0534   2.255282e+04   1.000000e-15   9.955739e+03"
       ]
      },
      {
       "output_type": "stream",
       "stream": "stdout",
       "text": [
        " \r",
        "0535   2.255212e+04   1.000000e-15   1.866571e+04"
       ]
      },
      {
       "output_type": "stream",
       "stream": "stdout",
       "text": [
        " \r",
        "0536   2.255160e+04   1.000000e-15   8.786604e+03"
       ]
      },
      {
       "output_type": "stream",
       "stream": "stdout",
       "text": [
        " \r",
        "0537   2.255132e+04   1.000000e-15   6.894398e+03"
       ]
      },
      {
       "output_type": "stream",
       "stream": "stdout",
       "text": [
        " \r",
        "0538   2.255074e+04   1.000000e-15   6.265161e+03"
       ]
      },
      {
       "output_type": "stream",
       "stream": "stdout",
       "text": [
        " \r",
        "0539   2.255014e+04   1.000000e-15   1.030772e+04"
       ]
      },
      {
       "output_type": "stream",
       "stream": "stdout",
       "text": [
        " \r",
        "0540   2.254915e+04   1.000000e-15   1.571860e+04"
       ]
      },
      {
       "output_type": "stream",
       "stream": "stdout",
       "text": [
        " \r",
        "0541   2.254869e+04   1.000000e-15   9.932719e+03"
       ]
      },
      {
       "output_type": "stream",
       "stream": "stdout",
       "text": [
        " \r",
        "0542   2.254827e+04   1.000000e-15   9.474767e+03"
       ]
      },
      {
       "output_type": "stream",
       "stream": "stdout",
       "text": [
        " \r",
        "0543   2.254790e+04   1.000000e-15   4.386403e+03"
       ]
      },
      {
       "output_type": "stream",
       "stream": "stdout",
       "text": [
        " \r",
        "0544   2.254730e+04   1.000000e-15   1.080416e+04"
       ]
      },
      {
       "output_type": "stream",
       "stream": "stdout",
       "text": [
        " \r",
        "0545   2.254639e+04   1.000000e-15   9.147923e+03"
       ]
      },
      {
       "output_type": "stream",
       "stream": "stdout",
       "text": [
        " \r",
        "0546   2.254578e+04   1.000000e-15   1.873351e+04"
       ]
      },
      {
       "output_type": "stream",
       "stream": "stdout",
       "text": [
        " \r",
        "0547   2.254527e+04   1.000000e-15   6.155057e+03"
       ]
      },
      {
       "output_type": "stream",
       "stream": "stdout",
       "text": [
        " \r",
        "0548   2.254497e+04   1.000000e-15   8.832335e+03"
       ]
      },
      {
       "output_type": "stream",
       "stream": "stdout",
       "text": [
        " \r",
        "0549   2.254403e+04   1.000000e-15   5.958541e+03"
       ]
      },
      {
       "output_type": "stream",
       "stream": "stdout",
       "text": [
        " \r",
        "0550   2.254347e+04   1.000000e-15   1.592903e+04"
       ]
      },
      {
       "output_type": "stream",
       "stream": "stdout",
       "text": [
        " \r",
        "0551   2.254252e+04   1.000000e-15   1.095821e+04"
       ]
      },
      {
       "output_type": "stream",
       "stream": "stdout",
       "text": [
        " \r",
        "0552   2.254224e+04   1.000000e-15   8.190177e+03"
       ]
      },
      {
       "output_type": "stream",
       "stream": "stdout",
       "text": [
        " \r",
        "0553   2.254151e+04   1.000000e-15   6.869932e+03"
       ]
      },
      {
       "output_type": "stream",
       "stream": "stdout",
       "text": [
        " \r",
        "0554   2.254095e+04   1.000000e-15   9.253158e+03"
       ]
      },
      {
       "output_type": "stream",
       "stream": "stdout",
       "text": [
        " \r",
        "0555   2.253959e+04   1.000000e-15   1.814049e+04"
       ]
      },
      {
       "output_type": "stream",
       "stream": "stdout",
       "text": [
        " \r",
        "0556   2.253914e+04   1.000000e-15   1.018254e+04"
       ]
      },
      {
       "output_type": "stream",
       "stream": "stdout",
       "text": [
        " \r",
        "0557   2.253871e+04   1.000000e-15   9.707251e+03"
       ]
      },
      {
       "output_type": "stream",
       "stream": "stdout",
       "text": [
        " \r",
        "0558   2.253840e+04   1.000000e-15   4.020033e+03"
       ]
      },
      {
       "output_type": "stream",
       "stream": "stdout",
       "text": [
        " \r",
        "0559   2.253781e+04   1.000000e-15   9.374742e+03"
       ]
      },
      {
       "output_type": "stream",
       "stream": "stdout",
       "text": [
        " \r",
        "0560   2.253676e+04   1.000000e-15   1.032817e+04"
       ]
      },
      {
       "output_type": "stream",
       "stream": "stdout",
       "text": [
        " \r",
        "0561   2.253584e+04   1.000000e-15   2.395697e+04"
       ]
      },
      {
       "output_type": "stream",
       "stream": "stdout",
       "text": [
        " \r",
        "0562   2.253521e+04   1.000000e-15   1.075499e+04"
       ]
      },
      {
       "output_type": "stream",
       "stream": "stdout",
       "text": [
        " \r",
        "0563   2.253494e+04   1.000000e-15   7.821714e+03"
       ]
      },
      {
       "output_type": "stream",
       "stream": "stdout",
       "text": [
        " \r",
        "0564   2.253451e+04   1.000000e-15   4.760842e+03"
       ]
      },
      {
       "output_type": "stream",
       "stream": "stdout",
       "text": [
        " \r",
        "0565   2.253401e+04   1.000000e-15   8.132489e+03"
       ]
      },
      {
       "output_type": "stream",
       "stream": "stdout",
       "text": [
        " \r",
        "0566   2.253268e+04   1.000000e-15   1.458809e+04"
       ]
      },
      {
       "output_type": "stream",
       "stream": "stdout",
       "text": [
        " \r",
        "0567   2.253192e+04   1.000000e-15   1.678326e+04"
       ]
      },
      {
       "output_type": "stream",
       "stream": "stdout",
       "text": [
        " \r",
        "0568   2.253130e+04   1.000000e-15   1.480108e+04"
       ]
      },
      {
       "output_type": "stream",
       "stream": "stdout",
       "text": [
        " \r",
        "0569   2.253105e+04   1.000000e-15   4.472212e+03"
       ]
      },
      {
       "output_type": "stream",
       "stream": "stdout",
       "text": [
        " \r",
        "0570   2.253067e+04   1.000000e-15   6.888352e+03"
       ]
      },
      {
       "output_type": "stream",
       "stream": "stdout",
       "text": [
        " \r",
        "0571   2.252989e+04   1.000000e-15   5.670211e+03"
       ]
      },
      {
       "output_type": "stream",
       "stream": "stdout",
       "text": [
        " \r",
        "0572   2.252890e+04   1.000000e-15   2.339566e+04"
       ]
      },
      {
       "output_type": "stream",
       "stream": "stdout",
       "text": [
        " \r",
        "0573   2.252797e+04   1.000000e-15   1.137510e+04"
       ]
      },
      {
       "output_type": "stream",
       "stream": "stdout",
       "text": [
        " \r",
        "0574   2.252763e+04   1.000000e-15   1.273177e+04"
       ]
      },
      {
       "output_type": "stream",
       "stream": "stdout",
       "text": [
        " \r",
        "0575   2.252715e+04   1.000000e-15   3.796279e+03"
       ]
      },
      {
       "output_type": "stream",
       "stream": "stdout",
       "text": [
        " \r",
        "0576   2.252678e+04   1.000000e-15   8.775867e+03"
       ]
      },
      {
       "output_type": "stream",
       "stream": "stdout",
       "text": [
        " \r",
        "0577   2.252523e+04   1.000000e-15   9.566981e+03"
       ]
      },
      {
       "output_type": "stream",
       "stream": "stdout",
       "text": [
        " \r",
        "0578   2.252469e+04   1.000000e-15   1.732847e+04"
       ]
      },
      {
       "output_type": "stream",
       "stream": "stdout",
       "text": [
        " \r",
        "0579   2.252402e+04   1.000000e-15   1.006706e+04"
       ]
      },
      {
       "output_type": "stream",
       "stream": "stdout",
       "text": [
        " \r",
        "0580   2.252383e+04   1.000000e-15   4.710079e+03"
       ]
      },
      {
       "output_type": "stream",
       "stream": "stdout",
       "text": [
        " \r",
        "0581   2.252322e+04   1.000000e-15   5.759907e+03"
       ]
      },
      {
       "output_type": "stream",
       "stream": "stdout",
       "text": [
        " \r",
        "0582   2.252265e+04   1.000000e-15   8.079022e+03"
       ]
      },
      {
       "output_type": "stream",
       "stream": "stdout",
       "text": [
        " \r",
        "0583   2.252158e+04   1.000000e-15   1.834070e+04"
       ]
      },
      {
       "output_type": "stream",
       "stream": "stdout",
       "text": [
        " \r",
        "0584   2.252114e+04   1.000000e-15   8.146864e+03"
       ]
      },
      {
       "output_type": "stream",
       "stream": "stdout",
       "text": [
        " \r",
        "0585   2.252074e+04   1.000000e-15   9.597544e+03"
       ]
      },
      {
       "output_type": "stream",
       "stream": "stdout",
       "text": [
        " \r",
        "0586   2.252032e+04   1.000000e-15   4.484365e+03"
       ]
      },
      {
       "output_type": "stream",
       "stream": "stdout",
       "text": [
        " \r",
        "0587   2.251980e+04   1.000000e-15   1.091369e+04"
       ]
      },
      {
       "output_type": "stream",
       "stream": "stdout",
       "text": [
        " \r",
        "0588   2.251912e+04   1.000000e-15   8.318618e+03"
       ]
      },
      {
       "output_type": "stream",
       "stream": "stdout",
       "text": [
        " \r",
        "0589   2.251878e+04   1.000000e-15   1.016041e+04"
       ]
      },
      {
       "output_type": "stream",
       "stream": "stdout",
       "text": [
        " \r",
        "0590   2.251837e+04   1.000000e-15   5.292059e+03"
       ]
      },
      {
       "output_type": "stream",
       "stream": "stdout",
       "text": [
        " \r",
        "0591   2.251805e+04   1.000000e-15   6.415103e+03"
       ]
      },
      {
       "output_type": "stream",
       "stream": "stdout",
       "text": [
        " \r",
        "0592   2.251722e+04   1.000000e-15   8.812548e+03"
       ]
      },
      {
       "output_type": "stream",
       "stream": "stdout",
       "text": [
        " \r",
        "0593   2.251671e+04   1.000000e-15   1.084778e+04"
       ]
      },
      {
       "output_type": "stream",
       "stream": "stdout",
       "text": [
        " \r",
        "0594   2.251618e+04   1.000000e-15   1.119683e+04"
       ]
      },
      {
       "output_type": "stream",
       "stream": "stdout",
       "text": [
        " \r",
        "0595   2.251596e+04   1.000000e-15   4.008237e+03"
       ]
      },
      {
       "output_type": "stream",
       "stream": "stdout",
       "text": [
        " \r",
        "0596   2.251563e+04   1.000000e-15   5.948418e+03"
       ]
      },
      {
       "output_type": "stream",
       "stream": "stdout",
       "text": [
        " \r",
        "0597   2.251503e+04   1.000000e-15   4.764230e+03"
       ]
      },
      {
       "output_type": "stream",
       "stream": "stdout",
       "text": [
        " \r",
        "0598   2.251424e+04   1.000000e-15   1.780423e+04"
       ]
      },
      {
       "output_type": "stream",
       "stream": "stdout",
       "text": [
        " \r",
        "0599   2.251359e+04   1.000000e-15   8.634944e+03"
       ]
      },
      {
       "output_type": "stream",
       "stream": "stdout",
       "text": [
        " \r",
        "0600   2.251332e+04   1.000000e-15   9.651344e+03"
       ]
      },
      {
       "output_type": "stream",
       "stream": "stdout",
       "text": [
        " \r",
        "0601   2.251293e+04   1.000000e-15   3.103815e+03"
       ]
      },
      {
       "output_type": "stream",
       "stream": "stdout",
       "text": [
        " \r",
        "0602   2.251262e+04   1.000000e-15   7.839484e+03"
       ]
      },
      {
       "output_type": "stream",
       "stream": "stdout",
       "text": [
        " \r",
        "0603   2.251154e+04   1.000000e-15   7.348227e+03"
       ]
      },
      {
       "output_type": "stream",
       "stream": "stdout",
       "text": [
        " \r",
        "0604   2.251120e+04   1.000000e-15   1.173107e+04"
       ]
      },
      {
       "output_type": "stream",
       "stream": "stdout",
       "text": [
        " \r",
        "0605   2.251075e+04   1.000000e-15   6.106895e+03"
       ]
      },
      {
       "output_type": "stream",
       "stream": "stdout",
       "text": [
        " \r",
        "0606   2.251060e+04   1.000000e-15   3.485418e+03"
       ]
      },
      {
       "output_type": "stream",
       "stream": "stdout",
       "text": [
        " \r",
        "0607   2.251002e+04   1.000000e-15   4.731722e+03"
       ]
      },
      {
       "output_type": "stream",
       "stream": "stdout",
       "text": [
        " \r",
        "0608   2.250950e+04   1.000000e-15   7.692884e+03"
       ]
      },
      {
       "output_type": "stream",
       "stream": "stdout",
       "text": [
        " \r",
        "0609   2.250861e+04   1.000000e-15   1.606133e+04"
       ]
      },
      {
       "output_type": "stream",
       "stream": "stdout",
       "text": [
        " \r",
        "0610   2.250837e+04   1.000000e-15   5.055825e+03"
       ]
      },
      {
       "output_type": "stream",
       "stream": "stdout",
       "text": [
        " \r",
        "0611   2.250816e+04   1.000000e-15   5.096776e+03"
       ]
      },
      {
       "output_type": "stream",
       "stream": "stdout",
       "text": [
        " \r",
        "0612   2.250791e+04   1.000000e-15   2.363828e+03"
       ]
      },
      {
       "output_type": "stream",
       "stream": "stdout",
       "text": [
        " \r",
        "0613   2.250748e+04   1.000000e-15   7.646959e+03"
       ]
      },
      {
       "output_type": "stream",
       "stream": "stdout",
       "text": [
        " \r",
        "0614   2.250668e+04   1.000000e-15   7.794188e+03"
       ]
      },
      {
       "output_type": "stream",
       "stream": "stdout",
       "text": [
        " \r",
        "0615   2.250624e+04   1.000000e-15   1.379931e+04"
       ]
      },
      {
       "output_type": "stream",
       "stream": "stdout",
       "text": [
        " \r",
        "0616   2.250592e+04   1.000000e-15   5.359154e+03"
       ]
      },
      {
       "output_type": "stream",
       "stream": "stdout",
       "text": [
        " \r",
        "0617   2.250577e+04   1.000000e-15   3.684231e+03"
       ]
      },
      {
       "output_type": "stream",
       "stream": "stdout",
       "text": [
        " \r",
        "0618   2.250543e+04   1.000000e-15   3.240372e+03"
       ]
      },
      {
       "output_type": "stream",
       "stream": "stdout",
       "text": [
        " \r",
        "0619   2.250506e+04   1.000000e-15   5.894923e+03"
       ]
      },
      {
       "output_type": "stream",
       "stream": "stdout",
       "text": [
        " \r",
        "0620   2.250433e+04   1.000000e-15   1.067092e+04"
       ]
      },
      {
       "output_type": "stream",
       "stream": "stdout",
       "text": [
        " \r",
        "0621   2.250405e+04   1.000000e-15   6.248380e+03"
       ]
      },
      {
       "output_type": "stream",
       "stream": "stdout",
       "text": [
        " \r",
        "0622   2.250379e+04   1.000000e-15   6.136131e+03"
       ]
      },
      {
       "output_type": "stream",
       "stream": "stdout",
       "text": [
        " \r",
        "0623   2.250356e+04   1.000000e-15   2.493087e+03"
       ]
      },
      {
       "output_type": "stream",
       "stream": "stdout",
       "text": [
        " \r",
        "0624   2.250321e+04   1.000000e-15   6.902678e+03"
       ]
      },
      {
       "output_type": "stream",
       "stream": "stdout",
       "text": [
        " \r",
        "0625   2.250267e+04   1.000000e-15   5.099803e+03"
       ]
      },
      {
       "output_type": "stream",
       "stream": "stdout",
       "text": [
        " \r",
        "0626   2.250236e+04   1.000000e-15   1.007861e+04"
       ]
      },
      {
       "output_type": "stream",
       "stream": "stdout",
       "text": [
        " \r",
        "0627   2.250201e+04   1.000000e-15   3.589784e+03"
       ]
      },
      {
       "output_type": "stream",
       "stream": "stdout",
       "text": [
        " \r",
        "0628   2.250180e+04   1.000000e-15   5.586917e+03"
       ]
      },
      {
       "output_type": "stream",
       "stream": "stdout",
       "text": [
        " \r",
        "0629   2.250113e+04   1.000000e-15   4.769634e+03"
       ]
      },
      {
       "output_type": "stream",
       "stream": "stdout",
       "text": [
        " \r",
        "0630   2.250084e+04   1.000000e-15   8.479665e+03"
       ]
      },
      {
       "output_type": "stream",
       "stream": "stdout",
       "text": [
        " \r",
        "0631   2.250043e+04   1.000000e-15   6.000831e+03"
       ]
      },
      {
       "output_type": "stream",
       "stream": "stdout",
       "text": [
        " \r",
        "0632   2.250029e+04   1.000000e-15   3.154667e+03"
       ]
      },
      {
       "output_type": "stream",
       "stream": "stdout",
       "text": [
        " \r",
        "0633   2.249992e+04   1.000000e-15   4.084659e+03"
       ]
      },
      {
       "output_type": "stream",
       "stream": "stdout",
       "text": [
        " \r",
        "0634   2.249956e+04   1.000000e-15   4.957399e+03"
       ]
      },
      {
       "output_type": "stream",
       "stream": "stdout",
       "text": [
        " \r",
        "0635   2.249902e+04   1.000000e-15   1.053577e+04"
       ]
      },
      {
       "output_type": "stream",
       "stream": "stdout",
       "text": [
        " \r",
        "0636   2.249878e+04   1.000000e-15   4.325174e+03"
       ]
      },
      {
       "output_type": "stream",
       "stream": "stdout",
       "text": [
        " \r",
        "0637   2.249859e+04   1.000000e-15   4.860172e+03"
       ]
      },
      {
       "output_type": "stream",
       "stream": "stdout",
       "text": [
        " \r",
        "0638   2.249832e+04   1.000000e-15   2.538206e+03"
       ]
      },
      {
       "output_type": "stream",
       "stream": "stdout",
       "text": [
        " \r",
        "0639   2.249795e+04   1.000000e-15   7.117649e+03"
       ]
      },
      {
       "output_type": "stream",
       "stream": "stdout",
       "text": [
        " \r",
        "0640   2.249737e+04   1.000000e-15   6.766992e+03"
       ]
      },
      {
       "output_type": "stream",
       "stream": "stdout",
       "text": [
        " \r",
        "0641   2.249711e+04   1.000000e-15   8.050267e+03"
       ]
      },
      {
       "output_type": "stream",
       "stream": "stdout",
       "text": [
        " \r",
        "0642   2.249690e+04   1.000000e-15   3.548252e+03"
       ]
      },
      {
       "output_type": "stream",
       "stream": "stdout",
       "text": [
        " \r",
        "0643   2.249678e+04   1.000000e-15   2.590930e+03"
       ]
      },
      {
       "output_type": "stream",
       "stream": "stdout",
       "text": [
        " \r",
        "0644   2.249646e+04   1.000000e-15   3.235176e+03"
       ]
      },
      {
       "output_type": "stream",
       "stream": "stdout",
       "text": [
        " \r",
        "0645   2.249613e+04   1.000000e-15   5.238754e+03"
       ]
      },
      {
       "output_type": "stream",
       "stream": "stdout",
       "text": [
        " \r",
        "0646   2.249569e+04   1.000000e-15   8.477731e+03"
       ]
      },
      {
       "output_type": "stream",
       "stream": "stdout",
       "text": [
        " \r",
        "0647   2.249549e+04   1.000000e-15   3.784644e+03"
       ]
      },
      {
       "output_type": "stream",
       "stream": "stdout",
       "text": [
        " \r",
        "0648   2.249529e+04   1.000000e-15   4.448463e+03"
       ]
      },
      {
       "output_type": "stream",
       "stream": "stdout",
       "text": [
        " \r",
        "0649   2.249499e+04   1.000000e-15   2.574462e+03"
       ]
      },
      {
       "output_type": "stream",
       "stream": "stdout",
       "text": [
        " \r",
        "0650   2.249457e+04   1.000000e-15   8.816676e+03"
       ]
      },
      {
       "output_type": "stream",
       "stream": "stdout",
       "text": [
        " \r",
        "0651   2.249406e+04   1.000000e-15   5.948279e+03"
       ]
      },
      {
       "output_type": "stream",
       "stream": "stdout",
       "text": [
        " \r",
        "0652   2.249387e+04   1.000000e-15   7.063982e+03"
       ]
      },
      {
       "output_type": "stream",
       "stream": "stdout",
       "text": [
        " \r",
        "0653   2.249368e+04   1.000000e-15   2.128972e+03"
       ]
      },
      {
       "output_type": "stream",
       "stream": "stdout",
       "text": [
        " \r",
        "0654   2.249354e+04   1.000000e-15   3.228701e+03"
       ]
      },
      {
       "output_type": "stream",
       "stream": "stdout",
       "text": [
        " \r",
        "0655   2.249299e+04   1.000000e-15   3.400460e+03"
       ]
      },
      {
       "output_type": "stream",
       "stream": "stdout",
       "text": [
        " \r",
        "0656   2.249269e+04   1.000000e-15   8.054323e+03"
       ]
      },
      {
       "output_type": "stream",
       "stream": "stdout",
       "text": [
        " \r",
        "0657   2.249228e+04   1.000000e-15   6.315628e+03"
       ]
      },
      {
       "output_type": "stream",
       "stream": "stdout",
       "text": [
        " \r",
        "0658   2.249218e+04   1.000000e-15   2.669090e+03"
       ]
      },
      {
       "output_type": "stream",
       "stream": "stdout",
       "text": [
        " \r",
        "0659   2.249198e+04   1.000000e-15   2.527298e+03"
       ]
      },
      {
       "output_type": "stream",
       "stream": "stdout",
       "text": [
        " \r",
        "0660   2.249175e+04   1.000000e-15   2.705094e+03"
       ]
      },
      {
       "output_type": "stream",
       "stream": "stdout",
       "text": [
        " \r",
        "0661   2.249127e+04   1.000000e-15   7.523267e+03"
       ]
      },
      {
       "output_type": "stream",
       "stream": "stdout",
       "text": [
        " \r",
        "0662   2.249102e+04   1.000000e-15   4.470468e+03"
       ]
      },
      {
       "output_type": "stream",
       "stream": "stdout",
       "text": [
        " \r",
        "0663   2.249085e+04   1.000000e-15   4.880639e+03"
       ]
      },
      {
       "output_type": "stream",
       "stream": "stdout",
       "text": [
        " \r",
        "0664   2.249070e+04   1.000000e-15   1.717817e+03"
       ]
      },
      {
       "output_type": "stream",
       "stream": "stdout",
       "text": [
        " \r",
        "0665   2.249051e+04   1.000000e-15   3.722315e+03"
       ]
      },
      {
       "output_type": "stream",
       "stream": "stdout",
       "text": [
        " \r",
        "0666   2.249009e+04   1.000000e-15   3.687900e+03"
       ]
      },
      {
       "output_type": "stream",
       "stream": "stdout",
       "text": [
        " \r",
        "0667   2.248984e+04   1.000000e-15   7.220385e+03"
       ]
      },
      {
       "output_type": "stream",
       "stream": "stdout",
       "text": [
        " \r",
        "0668   2.248960e+04   1.000000e-15   3.841400e+03"
       ]
      },
      {
       "output_type": "stream",
       "stream": "stdout",
       "text": [
        " \r",
        "0669   2.248951e+04   1.000000e-15   2.369161e+03"
       ]
      },
      {
       "output_type": "stream",
       "stream": "stdout",
       "text": [
        " \r",
        "0670   2.248931e+04   1.000000e-15   2.271190e+03"
       ]
      },
      {
       "output_type": "stream",
       "stream": "stdout",
       "text": [
        " \r",
        "0671   2.248912e+04   1.000000e-15   2.889186e+03"
       ]
      },
      {
       "output_type": "stream",
       "stream": "stdout",
       "text": [
        " \r",
        "0672   2.248883e+04   1.000000e-15   5.267847e+03"
       ]
      },
      {
       "output_type": "stream",
       "stream": "stdout",
       "text": [
        " \r",
        "0673   2.248868e+04   1.000000e-15   2.524659e+03"
       ]
      },
      {
       "output_type": "stream",
       "stream": "stdout",
       "text": [
        " \r",
        "0674   2.248853e+04   1.000000e-15   3.506886e+03"
       ]
      },
      {
       "output_type": "stream",
       "stream": "stdout",
       "text": [
        " \r",
        "0675   2.248829e+04   1.000000e-15   1.968341e+03"
       ]
      },
      {
       "output_type": "stream",
       "stream": "stdout",
       "text": [
        " \r",
        "0676   2.248805e+04   1.000000e-15   6.117660e+03"
       ]
      },
      {
       "output_type": "stream",
       "stream": "stdout",
       "text": [
        " \r",
        "0677   2.248777e+04   1.000000e-15   3.312195e+03"
       ]
      },
      {
       "output_type": "stream",
       "stream": "stdout",
       "text": [
        " \r",
        "0678   2.248766e+04   1.000000e-15   3.607851e+03"
       ]
      },
      {
       "output_type": "stream",
       "stream": "stdout",
       "text": [
        " \r",
        "0679   2.248749e+04   1.000000e-15   1.527001e+03"
       ]
      },
      {
       "output_type": "stream",
       "stream": "stdout",
       "text": [
        " \r",
        "0680   2.248736e+04   1.000000e-15   2.770932e+03"
       ]
      },
      {
       "output_type": "stream",
       "stream": "stdout",
       "text": [
        " \r",
        "0681   2.248693e+04   1.000000e-15   3.726328e+03"
       ]
      },
      {
       "output_type": "stream",
       "stream": "stdout",
       "text": [
        " \r",
        "0682   2.248678e+04   1.000000e-15   4.033834e+03"
       ]
      },
      {
       "output_type": "stream",
       "stream": "stdout",
       "text": [
        " \r",
        "0683   2.248661e+04   1.000000e-15   3.147945e+03"
       ]
      },
      {
       "output_type": "stream",
       "stream": "stdout",
       "text": [
        " \r",
        "0684   2.248653e+04   1.000000e-15   1.334765e+03"
       ]
      },
      {
       "output_type": "stream",
       "stream": "stdout",
       "text": [
        " \r",
        "0685   2.248634e+04   1.000000e-15   2.531686e+03"
       ]
      },
      {
       "output_type": "stream",
       "stream": "stdout",
       "text": [
        " \r",
        "0686   2.248610e+04   1.000000e-15   2.707128e+03"
       ]
      },
      {
       "output_type": "stream",
       "stream": "stdout",
       "text": [
        " \r",
        "0687   2.248585e+04   1.000000e-15   6.262485e+03"
       ]
      },
      {
       "output_type": "stream",
       "stream": "stdout",
       "text": [
        " \r",
        "0688   2.248571e+04   1.000000e-15   2.180061e+03"
       ]
      },
      {
       "output_type": "stream",
       "stream": "stdout",
       "text": [
        " \r",
        "0689   2.248562e+04   1.000000e-15   2.413274e+03"
       ]
      },
      {
       "output_type": "stream",
       "stream": "stdout",
       "text": [
        " \r",
        "0690   2.248544e+04   1.000000e-15   1.471094e+03"
       ]
      },
      {
       "output_type": "stream",
       "stream": "stdout",
       "text": [
        " \r",
        "0691   2.248526e+04   1.000000e-15   3.884444e+03"
       ]
      },
      {
       "output_type": "stream",
       "stream": "stdout",
       "text": [
        " \r",
        "0692   2.248498e+04   1.000000e-15   3.690716e+03"
       ]
      },
      {
       "output_type": "stream",
       "stream": "stdout",
       "text": [
        " \r",
        "0693   2.248489e+04   1.000000e-15   2.703293e+03"
       ]
      },
      {
       "output_type": "stream",
       "stream": "stdout",
       "text": [
        " \r",
        "0694   2.248478e+04   1.000000e-15   1.727763e+03"
       ]
      },
      {
       "output_type": "stream",
       "stream": "stdout",
       "text": [
        " \r",
        "0695   2.248469e+04   1.000000e-15   1.358290e+03"
       ]
      },
      {
       "output_type": "stream",
       "stream": "stdout",
       "text": [
        " \r",
        "0696   2.248444e+04   1.000000e-15   2.992218e+03"
       ]
      },
      {
       "output_type": "stream",
       "stream": "stdout",
       "text": [
        " \r",
        "0697   2.248423e+04   1.000000e-15   3.214723e+03"
       ]
      },
      {
       "output_type": "stream",
       "stream": "stdout",
       "text": [
        " \r",
        "0698   2.248405e+04   1.000000e-15   4.823882e+03"
       ]
      },
      {
       "output_type": "stream",
       "stream": "stdout",
       "text": [
        " \r",
        "0699   2.248395e+04   1.000000e-15   1.389958e+03"
       ]
      },
      {
       "output_type": "stream",
       "stream": "stdout",
       "text": [
        " \r",
        "0700   2.248386e+04   1.000000e-15   2.225353e+03"
       ]
      },
      {
       "output_type": "stream",
       "stream": "stdout",
       "text": [
        " \r",
        "0701   2.248361e+04   1.000000e-15   1.654839e+03"
       ]
      },
      {
       "output_type": "stream",
       "stream": "stdout",
       "text": [
        " \r",
        "0702   2.248341e+04   1.000000e-15   5.473000e+03"
       ]
      },
      {
       "output_type": "stream",
       "stream": "stdout",
       "text": [
        " \r",
        "0703   2.248319e+04   1.000000e-15   2.918280e+03"
       ]
      },
      {
       "output_type": "stream",
       "stream": "stdout",
       "text": [
        " \r",
        "0704   2.248313e+04   1.000000e-15   2.067205e+03"
       ]
      },
      {
       "output_type": "stream",
       "stream": "stdout",
       "text": [
        " \r",
        "0705   2.248301e+04   1.000000e-15   1.150330e+03"
       ]
      },
      {
       "output_type": "stream",
       "stream": "stdout",
       "text": [
        " \r",
        "0706   2.248290e+04   1.000000e-15   1.939631e+03"
       ]
      },
      {
       "output_type": "stream",
       "stream": "stdout",
       "text": [
        " \r",
        "0707   2.248258e+04   1.000000e-15   3.379275e+03"
       ]
      },
      {
       "output_type": "stream",
       "stream": "stdout",
       "text": [
        " \r",
        "0708   2.248245e+04   1.000000e-15   3.044658e+03"
       ]
      },
      {
       "output_type": "stream",
       "stream": "stdout",
       "text": [
        " \r",
        "0709   2.248233e+04   1.000000e-15   2.674414e+03"
       ]
      },
      {
       "output_type": "stream",
       "stream": "stdout",
       "text": [
        " \r",
        "0710   2.248227e+04   1.000000e-15   9.640829e+02"
       ]
      },
      {
       "output_type": "stream",
       "stream": "stdout",
       "text": [
        " \n",
        "\r"
       ]
      },
      {
       "output_type": "stream",
       "stream": "stdout",
       "text": [
        "0711   2.248215e+04   1.000000e-15   1.836135e+03"
       ]
      },
      {
       "output_type": "stream",
       "stream": "stdout",
       "text": [
        " \r",
        "0712   2.248196e+04   1.000000e-15   1.867241e+03"
       ]
      },
      {
       "output_type": "stream",
       "stream": "stdout",
       "text": [
        " \r",
        "0713   2.248179e+04   1.000000e-15   4.417011e+03"
       ]
      },
      {
       "output_type": "stream",
       "stream": "stdout",
       "text": [
        " \r",
        "0714   2.248169e+04   1.000000e-15   1.721264e+03"
       ]
      },
      {
       "output_type": "stream",
       "stream": "stdout",
       "text": [
        " \r",
        "0715   2.248163e+04   1.000000e-15   1.593003e+03"
       ]
      },
      {
       "output_type": "stream",
       "stream": "stdout",
       "text": [
        " \r",
        "0716   2.248152e+04   1.000000e-15   1.041384e+03"
       ]
      },
      {
       "output_type": "stream",
       "stream": "stdout",
       "text": [
        " \r",
        "0717   2.248141e+04   1.000000e-15   2.186854e+03"
       ]
      },
      {
       "output_type": "stream",
       "stream": "stdout",
       "text": [
        " \r",
        "0718   2.248122e+04   1.000000e-15   2.518702e+03"
       ]
      },
      {
       "output_type": "stream",
       "stream": "stdout",
       "text": [
        " \r",
        "0719   2.248114e+04   1.000000e-15   1.900935e+03"
       ]
      },
      {
       "output_type": "stream",
       "stream": "stdout",
       "text": [
        " \r",
        "0720   2.248105e+04   1.000000e-15   1.624802e+03"
       ]
      },
      {
       "output_type": "stream",
       "stream": "stdout",
       "text": [
        " \r",
        "0721   2.248096e+04   1.000000e-15   1.155212e+03"
       ]
      },
      {
       "output_type": "stream",
       "stream": "stdout",
       "text": [
        " \r",
        "0722   2.248081e+04   1.000000e-15   2.600794e+03"
       ]
      },
      {
       "output_type": "stream",
       "stream": "stdout",
       "text": [
        " \r",
        "0723   2.248068e+04   1.000000e-15   1.852117e+03"
       ]
      },
      {
       "output_type": "stream",
       "stream": "stdout",
       "text": [
        " \r",
        "0724   2.248060e+04   1.000000e-15   2.453802e+03"
       ]
      },
      {
       "output_type": "stream",
       "stream": "stdout",
       "text": [
        " \r",
        "0725   2.248051e+04   1.000000e-15   8.946167e+02"
       ]
      },
      {
       "output_type": "stream",
       "stream": "stdout",
       "text": [
        " \r",
        "0726   2.248043e+04   1.000000e-15   1.925597e+03"
       ]
      },
      {
       "output_type": "stream",
       "stream": "stdout",
       "text": [
        " \r",
        "0727   2.248023e+04   1.000000e-15   1.664752e+03"
       ]
      },
      {
       "output_type": "stream",
       "stream": "stdout",
       "text": [
        " \r",
        "0728   2.248014e+04   1.000000e-15   2.851622e+03"
       ]
      },
      {
       "output_type": "stream",
       "stream": "stdout",
       "text": [
        " \r",
        "0729   2.248005e+04   1.000000e-15   1.355863e+03"
       ]
      },
      {
       "output_type": "stream",
       "stream": "stdout",
       "text": [
        " \r",
        "0730   2.248001e+04   1.000000e-15   9.404181e+02"
       ]
      },
      {
       "output_type": "stream",
       "stream": "stdout",
       "text": [
        " \r",
        "0731   2.247988e+04   1.000000e-15   1.085754e+03"
       ]
      },
      {
       "output_type": "stream",
       "stream": "stdout",
       "text": [
        " \r",
        "0732   2.247976e+04   1.000000e-15   1.921557e+03"
       ]
      },
      {
       "output_type": "stream",
       "stream": "stdout",
       "text": [
        " \r",
        "0733   2.247957e+04   1.000000e-15   3.408399e+03"
       ]
      },
      {
       "output_type": "stream",
       "stream": "stdout",
       "text": [
        " \r",
        "0734   2.247951e+04   1.000000e-15   1.361590e+03"
       ]
      },
      {
       "output_type": "stream",
       "stream": "stdout",
       "text": [
        " \r",
        "0735   2.247944e+04   1.000000e-15   1.363152e+03"
       ]
      },
      {
       "output_type": "stream",
       "stream": "stdout",
       "text": [
        " \r",
        "0736   2.247937e+04   1.000000e-15   7.276223e+02"
       ]
      },
      {
       "output_type": "stream",
       "stream": "stdout",
       "text": [
        " \r",
        "0737   2.247926e+04   1.000000e-15   2.137841e+03"
       ]
      },
      {
       "output_type": "stream",
       "stream": "stdout",
       "text": [
        " \r",
        "0738   2.247912e+04   1.000000e-15   1.704879e+03"
       ]
      },
      {
       "output_type": "stream",
       "stream": "stdout",
       "text": [
        " \r",
        "0739   2.247905e+04   1.000000e-15   2.152633e+03"
       ]
      },
      {
       "output_type": "stream",
       "stream": "stdout",
       "text": [
        " \r",
        "0740   2.247898e+04   1.000000e-15   9.114322e+02"
       ]
      },
      {
       "output_type": "stream",
       "stream": "stdout",
       "text": [
        " \r",
        "0741   2.247893e+04   1.000000e-15   1.112667e+03"
       ]
      },
      {
       "output_type": "stream",
       "stream": "stdout",
       "text": [
        " \r",
        "0742   2.247877e+04   1.000000e-15   1.443196e+03"
       ]
      },
      {
       "output_type": "stream",
       "stream": "stdout",
       "text": [
        " \r",
        "0743   2.247868e+04   1.000000e-15   2.139096e+03"
       ]
      },
      {
       "output_type": "stream",
       "stream": "stdout",
       "text": [
        " \r",
        "0744   2.247857e+04   1.000000e-15   2.094707e+03"
       ]
      },
      {
       "output_type": "stream",
       "stream": "stdout",
       "text": [
        " \r",
        "0745   2.247853e+04   1.000000e-15   8.221121e+02"
       ]
      },
      {
       "output_type": "stream",
       "stream": "stdout",
       "text": [
        " \r",
        "0746   2.247845e+04   1.000000e-15   1.242505e+03"
       ]
      },
      {
       "output_type": "stream",
       "stream": "stdout",
       "text": [
        " \r",
        "0747   2.247832e+04   1.000000e-15   1.168064e+03"
       ]
      },
      {
       "output_type": "stream",
       "stream": "stdout",
       "text": [
        " \r",
        "0748   2.247817e+04   1.000000e-15   3.528547e+03"
       ]
      },
      {
       "output_type": "stream",
       "stream": "stdout",
       "text": [
        " \r",
        "0749   2.247807e+04   1.000000e-15   1.535472e+03"
       ]
      },
      {
       "output_type": "stream",
       "stream": "stdout",
       "text": [
        " \r",
        "0750   2.247802e+04   1.000000e-15   1.530701e+03"
       ]
      },
      {
       "output_type": "stream",
       "stream": "stdout",
       "text": [
        " \r",
        "0751   2.247794e+04   1.000000e-15   6.765985e+02"
       ]
      },
      {
       "output_type": "stream",
       "stream": "stdout",
       "text": [
        " \r",
        "0752   2.247785e+04   1.000000e-15   1.793102e+03"
       ]
      },
      {
       "output_type": "stream",
       "stream": "stdout",
       "text": [
        " \r",
        "0753   2.247761e+04   1.000000e-15   2.143264e+03"
       ]
      },
      {
       "output_type": "stream",
       "stream": "stdout",
       "text": [
        " \r",
        "0754   2.247753e+04   1.000000e-15   2.498374e+03"
       ]
      },
      {
       "output_type": "stream",
       "stream": "stdout",
       "text": [
        " \r",
        "0755   2.247745e+04   1.000000e-15   1.431592e+03"
       ]
      },
      {
       "output_type": "stream",
       "stream": "stdout",
       "text": [
        " \r",
        "0756   2.247741e+04   1.000000e-15   7.615304e+02"
       ]
      },
      {
       "output_type": "stream",
       "stream": "stdout",
       "text": [
        " \r",
        "0757   2.247730e+04   1.000000e-15   1.206978e+03"
       ]
      },
      {
       "output_type": "stream",
       "stream": "stdout",
       "text": [
        " \r",
        "0758   2.247718e+04   1.000000e-15   1.618459e+03"
       ]
      },
      {
       "output_type": "stream",
       "stream": "stdout",
       "text": [
        " \r",
        "0759   2.247703e+04   1.000000e-15   3.242197e+03"
       ]
      },
      {
       "output_type": "stream",
       "stream": "stdout",
       "text": [
        " \r",
        "0760   2.247695e+04   1.000000e-15   1.305504e+03"
       ]
      },
      {
       "output_type": "stream",
       "stream": "stdout",
       "text": [
        " \r",
        "0761   2.247688e+04   1.000000e-15   1.681933e+03"
       ]
      },
      {
       "output_type": "stream",
       "stream": "stdout",
       "text": [
        " \r",
        "0762   2.247675e+04   1.000000e-15   1.152015e+03"
       ]
      },
      {
       "output_type": "stream",
       "stream": "stdout",
       "text": [
        " \r",
        "0763   2.247662e+04   1.000000e-15   2.925133e+03"
       ]
      },
      {
       "output_type": "stream",
       "stream": "stdout",
       "text": [
        " \r",
        "0764   2.247648e+04   1.000000e-15   2.052166e+03"
       ]
      },
      {
       "output_type": "stream",
       "stream": "stdout",
       "text": [
        " \r",
        "0765   2.247642e+04   1.000000e-15   1.634659e+03"
       ]
      },
      {
       "output_type": "stream",
       "stream": "stdout",
       "text": [
        " \r",
        "0766   2.247633e+04   1.000000e-15   1.093226e+03"
       ]
      },
      {
       "output_type": "stream",
       "stream": "stdout",
       "text": [
        " \r",
        "0767   2.247625e+04   1.000000e-15   1.364869e+03"
       ]
      },
      {
       "output_type": "stream",
       "stream": "stdout",
       "text": [
        " \r",
        "0768   2.247608e+04   1.000000e-15   2.346113e+03"
       ]
      },
      {
       "output_type": "stream",
       "stream": "stdout",
       "text": [
        " \r",
        "0769   2.247599e+04   1.000000e-15   1.851961e+03"
       ]
      },
      {
       "output_type": "stream",
       "stream": "stdout",
       "text": [
        " \r",
        "0770   2.247590e+04   1.000000e-15   2.001086e+03"
       ]
      },
      {
       "output_type": "stream",
       "stream": "stdout",
       "text": [
        " \r",
        "0771   2.247582e+04   1.000000e-15   9.217483e+02"
       ]
      },
      {
       "output_type": "stream",
       "stream": "stdout",
       "text": [
        " \r",
        "0772   2.247570e+04   1.000000e-15   2.288468e+03"
       ]
      },
      {
       "output_type": "stream",
       "stream": "stdout",
       "text": [
        " \r",
        "0773   2.247551e+04   1.000000e-15   1.984797e+03"
       ]
      },
      {
       "output_type": "stream",
       "stream": "stdout",
       "text": [
        " \r",
        "0774   2.247541e+04   1.000000e-15   3.281827e+03"
       ]
      },
      {
       "output_type": "stream",
       "stream": "stdout",
       "text": [
        " \r",
        "0775   2.247533e+04   1.000000e-15   1.116611e+03"
       ]
      },
      {
       "output_type": "stream",
       "stream": "stdout",
       "text": [
        " \r",
        "0776   2.247528e+04   1.000000e-15   1.198607e+03"
       ]
      },
      {
       "output_type": "stream",
       "stream": "stdout",
       "text": [
        " \r",
        "0777   2.247512e+04   1.000000e-15   1.109103e+03"
       ]
      },
      {
       "output_type": "stream",
       "stream": "stdout",
       "text": [
        " \r",
        "0778   2.247500e+04   1.000000e-15   2.666077e+03"
       ]
      },
      {
       "output_type": "stream",
       "stream": "stdout",
       "text": [
        " \r",
        "0779   2.247482e+04   1.000000e-15   2.776577e+03"
       ]
      },
      {
       "output_type": "stream",
       "stream": "stdout",
       "text": [
        " \r",
        "0780   2.247476e+04   1.000000e-15   1.411872e+03"
       ]
      },
      {
       "output_type": "stream",
       "stream": "stdout",
       "text": [
        " \r",
        "0781   2.247468e+04   1.000000e-15   1.302104e+03"
       ]
      },
      {
       "output_type": "stream",
       "stream": "stdout",
       "text": [
        " \r",
        "0782   2.247458e+04   1.000000e-15   1.153431e+03"
       ]
      },
      {
       "output_type": "stream",
       "stream": "stdout",
       "text": [
        " \r",
        "0783   2.247439e+04   1.000000e-15   3.091557e+03"
       ]
      },
      {
       "output_type": "stream",
       "stream": "stdout",
       "text": [
        " \r",
        "0784   2.247427e+04   1.000000e-15   2.090263e+03"
       ]
      },
      {
       "output_type": "stream",
       "stream": "stdout",
       "text": [
        " \r",
        "0785   2.247418e+04   1.000000e-15   2.389774e+03"
       ]
      },
      {
       "output_type": "stream",
       "stream": "stdout",
       "text": [
        " \r",
        "0786   2.247409e+04   1.000000e-15   1.015615e+03"
       ]
      },
      {
       "output_type": "stream",
       "stream": "stdout",
       "text": [
        " \r",
        "0787   2.247399e+04   1.000000e-15   2.023202e+03"
       ]
      },
      {
       "output_type": "stream",
       "stream": "stdout",
       "text": [
        " \r",
        "0788   2.247379e+04   1.000000e-15   2.087924e+03"
       ]
      },
      {
       "output_type": "stream",
       "stream": "stdout",
       "text": [
        " \r",
        "0789   2.247369e+04   1.000000e-15   2.867345e+03"
       ]
      },
      {
       "output_type": "stream",
       "stream": "stdout",
       "text": [
        " \r",
        "0790   2.247358e+04   1.000000e-15   1.729952e+03"
       ]
      },
      {
       "output_type": "stream",
       "stream": "stdout",
       "text": [
        " \r",
        "0791   2.247352e+04   1.000000e-15   1.151560e+03"
       ]
      },
      {
       "output_type": "stream",
       "stream": "stdout",
       "text": [
        " \r",
        "0792   2.247337e+04   1.000000e-15   1.756865e+03"
       ]
      },
      {
       "output_type": "stream",
       "stream": "stdout",
       "text": [
        " \r",
        "0793   2.247320e+04   1.000000e-15   2.408206e+03"
       ]
      },
      {
       "output_type": "stream",
       "stream": "stdout",
       "text": [
        " \r",
        "0794   2.247300e+04   1.000000e-15   4.405082e+03"
       ]
      },
      {
       "output_type": "stream",
       "stream": "stdout",
       "text": [
        " \r",
        "0795   2.247292e+04   1.000000e-15   1.486255e+03"
       ]
      },
      {
       "output_type": "stream",
       "stream": "stdout",
       "text": [
        " \r",
        "0796   2.247285e+04   1.000000e-15   1.764146e+03"
       ]
      },
      {
       "output_type": "stream",
       "stream": "stdout",
       "text": [
        " \r",
        "0797   2.247270e+04   1.000000e-15   1.032579e+03"
       ]
      },
      {
       "output_type": "stream",
       "stream": "stdout",
       "text": [
        " \r",
        "0798   2.247255e+04   1.000000e-15   3.671161e+03"
       ]
      },
      {
       "output_type": "stream",
       "stream": "stdout",
       "text": [
        " \r",
        "0799   2.247231e+04   1.000000e-15   2.704414e+03"
       ]
      },
      {
       "output_type": "stream",
       "stream": "stdout",
       "text": [
        " \r",
        "0800   2.247223e+04   1.000000e-15   2.665189e+03"
       ]
      },
      {
       "output_type": "stream",
       "stream": "stdout",
       "text": [
        " \r",
        "0801   2.247210e+04   1.000000e-15   1.369856e+03"
       ]
      },
      {
       "output_type": "stream",
       "stream": "stdout",
       "text": [
        " \r",
        "0802   2.247200e+04   1.000000e-15   1.782791e+03"
       ]
      },
      {
       "output_type": "stream",
       "stream": "stdout",
       "text": [
        " \r",
        "0803   2.247171e+04   1.000000e-15   3.044905e+03"
       ]
      },
      {
       "output_type": "stream",
       "stream": "stdout",
       "text": [
        " \r",
        "0804   2.247157e+04   1.000000e-15   3.048120e+03"
       ]
      },
      {
       "output_type": "stream",
       "stream": "stdout",
       "text": [
        " \r",
        "0805   2.247142e+04   1.000000e-15   3.171636e+03"
       ]
      },
      {
       "output_type": "stream",
       "stream": "stdout",
       "text": [
        " \r",
        "0806   2.247132e+04   1.000000e-15   1.323402e+03"
       ]
      },
      {
       "output_type": "stream",
       "stream": "stdout",
       "text": [
        " \r",
        "0807   2.247116e+04   1.000000e-15   2.795294e+03"
       ]
      },
      {
       "output_type": "stream",
       "stream": "stdout",
       "text": [
        " \r",
        "0808   2.247094e+04   1.000000e-15   2.416425e+03"
       ]
      },
      {
       "output_type": "stream",
       "stream": "stdout",
       "text": [
        " \r",
        "0809   2.247079e+04   1.000000e-15   4.436547e+03"
       ]
      },
      {
       "output_type": "stream",
       "stream": "stdout",
       "text": [
        " \r",
        "0810   2.247064e+04   1.000000e-15   1.880370e+03"
       ]
      },
      {
       "output_type": "stream",
       "stream": "stdout",
       "text": [
        " \r",
        "0811   2.247055e+04   1.000000e-15   2.275481e+03"
       ]
      },
      {
       "output_type": "stream",
       "stream": "stdout",
       "text": [
        " \r",
        "0812   2.247027e+04   1.000000e-15   2.384272e+03"
       ]
      },
      {
       "output_type": "stream",
       "stream": "stdout",
       "text": [
        " \r",
        "0813   2.247007e+04   1.000000e-15   4.348540e+03"
       ]
      },
      {
       "output_type": "stream",
       "stream": "stdout",
       "text": [
        " \r",
        "0814   2.246983e+04   1.000000e-15   4.408649e+03"
       ]
      },
      {
       "output_type": "stream",
       "stream": "stdout",
       "text": [
        " \r",
        "0815   2.246974e+04   1.000000e-15   1.855724e+03"
       ]
      },
      {
       "output_type": "stream",
       "stream": "stdout",
       "text": [
        " \r",
        "0816   2.246960e+04   1.000000e-15   2.332179e+03"
       ]
      },
      {
       "output_type": "stream",
       "stream": "stdout",
       "text": [
        " \r",
        "0817   2.246938e+04   1.000000e-15   2.039192e+03"
       ]
      },
      {
       "output_type": "stream",
       "stream": "stdout",
       "text": [
        " \r",
        "0818   2.246908e+04   1.000000e-15   6.518538e+03"
       ]
      },
      {
       "output_type": "stream",
       "stream": "stdout",
       "text": [
        " \r",
        "0819   2.246884e+04   1.000000e-15   3.268633e+03"
       ]
      },
      {
       "output_type": "stream",
       "stream": "stdout",
       "text": [
        " \r",
        "0820   2.246873e+04   1.000000e-15   3.733610e+03"
       ]
      },
      {
       "output_type": "stream",
       "stream": "stdout",
       "text": [
        " \r",
        "0821   2.246852e+04   1.000000e-15   1.602211e+03"
       ]
      },
      {
       "output_type": "stream",
       "stream": "stdout",
       "text": [
        " \r",
        "0822   2.246834e+04   1.000000e-15   4.053481e+03"
       ]
      },
      {
       "output_type": "stream",
       "stream": "stdout",
       "text": [
        " \r",
        "0823   2.246792e+04   1.000000e-15   4.182121e+03"
       ]
      },
      {
       "output_type": "stream",
       "stream": "stdout",
       "text": [
        " \r",
        "0824   2.246779e+04   1.000000e-15   3.923028e+03"
       ]
      },
      {
       "output_type": "stream",
       "stream": "stdout",
       "text": [
        " \r",
        "0825   2.246761e+04   1.000000e-15   2.576046e+03"
       ]
      },
      {
       "output_type": "stream",
       "stream": "stdout",
       "text": [
        " \r",
        "0826   2.246749e+04   1.000000e-15   1.983052e+03"
       ]
      },
      {
       "output_type": "stream",
       "stream": "stdout",
       "text": [
        " \r",
        "0827   2.246714e+04   1.000000e-15   4.138562e+03"
       ]
      },
      {
       "output_type": "stream",
       "stream": "stdout",
       "text": [
        " \r",
        "0828   2.246689e+04   1.000000e-15   4.042292e+03"
       ]
      },
      {
       "output_type": "stream",
       "stream": "stdout",
       "text": [
        " \r",
        "0829   2.246666e+04   1.000000e-15   5.819525e+03"
       ]
      },
      {
       "output_type": "stream",
       "stream": "stdout",
       "text": [
        " \r",
        "0830   2.246649e+04   1.000000e-15   2.269372e+03"
       ]
      },
      {
       "output_type": "stream",
       "stream": "stdout",
       "text": [
        " \r",
        "0831   2.246629e+04   1.000000e-15   4.121674e+03"
       ]
      },
      {
       "output_type": "stream",
       "stream": "stdout",
       "text": [
        " \r",
        "0832   2.246591e+04   1.000000e-15   3.688940e+03"
       ]
      },
      {
       "output_type": "stream",
       "stream": "stdout",
       "text": [
        " \r",
        "0833   2.246569e+04   1.000000e-15   6.234171e+03"
       ]
      },
      {
       "output_type": "stream",
       "stream": "stdout",
       "text": [
        " \r",
        "0834   2.246549e+04   1.000000e-15   3.265520e+03"
       ]
      },
      {
       "output_type": "stream",
       "stream": "stdout",
       "text": [
        " \r",
        "0835   2.246538e+04   1.000000e-15   2.380863e+03"
       ]
      },
      {
       "output_type": "stream",
       "stream": "stdout",
       "text": [
        " \r",
        "0836   2.246510e+04   1.000000e-15   2.889093e+03"
       ]
      },
      {
       "output_type": "stream",
       "stream": "stdout",
       "text": [
        " \r",
        "0837   2.246480e+04   1.000000e-15   4.590530e+03"
       ]
      },
      {
       "output_type": "stream",
       "stream": "stdout",
       "text": [
        " \r",
        "0838   2.246439e+04   1.000000e-15   8.168465e+03"
       ]
      },
      {
       "output_type": "stream",
       "stream": "stdout",
       "text": [
        " \r",
        "0839   2.246419e+04   1.000000e-15   3.559170e+03"
       ]
      },
      {
       "output_type": "stream",
       "stream": "stdout",
       "text": [
        " \r",
        "0840   2.246402e+04   1.000000e-15   4.181203e+03"
       ]
      },
      {
       "output_type": "stream",
       "stream": "stdout",
       "text": [
        " \r",
        "0841   2.246375e+04   1.000000e-15   2.240710e+03"
       ]
      },
      {
       "output_type": "stream",
       "stream": "stdout",
       "text": [
        " \r",
        "0842   2.246346e+04   1.000000e-15   6.900177e+03"
       ]
      },
      {
       "output_type": "stream",
       "stream": "stdout",
       "text": [
        " \r",
        "0843   2.246310e+04   1.000000e-15   4.318097e+03"
       ]
      },
      {
       "output_type": "stream",
       "stream": "stdout",
       "text": [
        " \r",
        "0844   2.246297e+04   1.000000e-15   4.467941e+03"
       ]
      },
      {
       "output_type": "stream",
       "stream": "stdout",
       "text": [
        " \r",
        "0845   2.246271e+04   1.000000e-15   2.394041e+03"
       ]
      },
      {
       "output_type": "stream",
       "stream": "stdout",
       "text": [
        " \r",
        "0846   2.246253e+04   1.000000e-15   3.922574e+03"
       ]
      },
      {
       "output_type": "stream",
       "stream": "stdout",
       "text": [
        " \r",
        "0847   2.246210e+04   1.000000e-15   5.032651e+03"
       ]
      },
      {
       "output_type": "stream",
       "stream": "stdout",
       "text": [
        " \r",
        "0848   2.246194e+04   1.000000e-15   3.754563e+03"
       ]
      },
      {
       "output_type": "stream",
       "stream": "stdout",
       "text": [
        " \r",
        "0849   2.246174e+04   1.000000e-15   3.539939e+03"
       ]
      },
      {
       "output_type": "stream",
       "stream": "stdout",
       "text": [
        " \r",
        "0850   2.246156e+04   1.000000e-15   2.198584e+03"
       ]
      },
      {
       "output_type": "stream",
       "stream": "stdout",
       "text": [
        " \r",
        "0851   2.246117e+04   1.000000e-15   6.040448e+03"
       ]
      },
      {
       "output_type": "stream",
       "stream": "stdout",
       "text": [
        " \r",
        "0852   2.246080e+04   1.000000e-15   5.151051e+03"
       ]
      },
      {
       "output_type": "stream",
       "stream": "stdout",
       "text": [
        " \r",
        "0853   2.246057e+04   1.000000e-15   6.843682e+03"
       ]
      },
      {
       "output_type": "stream",
       "stream": "stdout",
       "text": [
        " \r",
        "0854   2.246039e+04   1.000000e-15   2.356870e+03"
       ]
      },
      {
       "output_type": "stream",
       "stream": "stdout",
       "text": [
        " \r",
        "0855   2.246024e+04   1.000000e-15   3.484481e+03"
       ]
      },
      {
       "output_type": "stream",
       "stream": "stdout",
       "text": [
        " \r",
        "0856   2.245974e+04   1.000000e-15   3.812317e+03"
       ]
      },
      {
       "output_type": "stream",
       "stream": "stdout",
       "text": [
        " \r",
        "0857   2.245940e+04   1.000000e-15   8.261112e+03"
       ]
      },
      {
       "output_type": "stream",
       "stream": "stdout",
       "text": [
        " \r",
        "0858   2.245899e+04   1.000000e-15   7.009789e+03"
       ]
      },
      {
       "output_type": "stream",
       "stream": "stdout",
       "text": [
        " \r",
        "0859   2.245883e+04   1.000000e-15   3.403339e+03"
       ]
      },
      {
       "output_type": "stream",
       "stream": "stdout",
       "text": [
        " \r",
        "0860   2.245855e+04   1.000000e-15   4.025798e+03"
       ]
      },
      {
       "output_type": "stream",
       "stream": "stdout",
       "text": [
        " \r",
        "0861   2.245819e+04   1.000000e-15   4.010535e+03"
       ]
      },
      {
       "output_type": "stream",
       "stream": "stdout",
       "text": [
        " \r",
        "0862   2.245770e+04   1.000000e-15   1.058080e+04"
       ]
      },
      {
       "output_type": "stream",
       "stream": "stdout",
       "text": [
        " \r",
        "0863   2.245736e+04   1.000000e-15   4.622047e+03"
       ]
      },
      {
       "output_type": "stream",
       "stream": "stdout",
       "text": [
        " \r",
        "0864   2.245712e+04   1.000000e-15   6.807716e+03"
       ]
      },
      {
       "output_type": "stream",
       "stream": "stdout",
       "text": [
        " \r",
        "0865   2.245654e+04   1.000000e-15   3.886106e+03"
       ]
      },
      {
       "output_type": "stream",
       "stream": "stdout",
       "text": [
        " \r",
        "0866   2.245614e+04   1.000000e-15   1.143048e+04"
       ]
      },
      {
       "output_type": "stream",
       "stream": "stdout",
       "text": [
        " \r",
        "0867   2.245550e+04   1.000000e-15   7.417441e+03"
       ]
      },
      {
       "output_type": "stream",
       "stream": "stdout",
       "text": [
        " \r",
        "0868   2.245533e+04   1.000000e-15   5.228805e+03"
       ]
      },
      {
       "output_type": "stream",
       "stream": "stdout",
       "text": [
        " \r",
        "0869   2.245488e+04   1.000000e-15   4.124078e+03"
       ]
      },
      {
       "output_type": "stream",
       "stream": "stdout",
       "text": [
        " \r",
        "0870   2.245446e+04   1.000000e-15   6.087528e+03"
       ]
      },
      {
       "output_type": "stream",
       "stream": "stdout",
       "text": [
        " \r",
        "0871   2.245348e+04   1.000000e-15   1.441138e+04"
       ]
      },
      {
       "output_type": "stream",
       "stream": "stdout",
       "text": [
        " \r",
        "0872   2.245309e+04   1.000000e-15   7.373269e+03"
       ]
      },
      {
       "output_type": "stream",
       "stream": "stdout",
       "text": [
        " \r",
        "0873   2.245270e+04   1.000000e-15   9.303565e+03"
       ]
      },
      {
       "output_type": "stream",
       "stream": "stdout",
       "text": [
        " \r",
        "0874   2.245214e+04   1.000000e-15   5.223927e+03"
       ]
      },
      {
       "output_type": "stream",
       "stream": "stdout",
       "text": [
        " \r",
        "0875   2.245149e+04   1.000000e-15   1.452217e+04"
       ]
      },
      {
       "output_type": "stream",
       "stream": "stdout",
       "text": [
        " \r",
        "0876   2.245065e+04   1.000000e-15   1.074614e+04"
       ]
      },
      {
       "output_type": "stream",
       "stream": "stdout",
       "text": [
        " \r",
        "0877   2.245032e+04   1.000000e-15   1.027252e+04"
       ]
      },
      {
       "output_type": "stream",
       "stream": "stdout",
       "text": [
        " \r",
        "0878   2.244984e+04   1.000000e-15   6.007963e+03"
       ]
      },
      {
       "output_type": "stream",
       "stream": "stdout",
       "text": [
        " \r",
        "0879   2.244940e+04   1.000000e-15   6.885696e+03"
       ]
      },
      {
       "output_type": "stream",
       "stream": "stdout",
       "text": [
        " \r",
        "0880   2.244830e+04   1.000000e-15   1.403344e+04"
       ]
      },
      {
       "output_type": "stream",
       "stream": "stdout",
       "text": [
        " \r",
        "0881   2.244773e+04   1.000000e-15   1.098892e+04"
       ]
      },
      {
       "output_type": "stream",
       "stream": "stdout",
       "text": [
        " \r",
        "0882   2.244727e+04   1.000000e-15   1.258131e+04"
       ]
      },
      {
       "output_type": "stream",
       "stream": "stdout",
       "text": [
        " \r",
        "0883   2.244685e+04   1.000000e-15   4.212473e+03"
       ]
      },
      {
       "output_type": "stream",
       "stream": "stdout",
       "text": [
        " \r",
        "0884   2.244636e+04   1.000000e-15   1.159709e+04"
       ]
      },
      {
       "output_type": "stream",
       "stream": "stdout",
       "text": [
        " \r",
        "0885   2.244535e+04   1.000000e-15   7.739662e+03"
       ]
      },
      {
       "output_type": "stream",
       "stream": "stdout",
       "text": [
        " \r",
        "0886   2.244492e+04   1.000000e-15   1.473305e+04"
       ]
      },
      {
       "output_type": "stream",
       "stream": "stdout",
       "text": [
        " \r",
        "0887   2.244414e+04   1.000000e-15   6.792499e+03"
       ]
      },
      {
       "output_type": "stream",
       "stream": "stdout",
       "text": [
        " \r",
        "0888   2.244371e+04   1.000000e-15   9.727922e+03"
       ]
      },
      {
       "output_type": "stream",
       "stream": "stdout",
       "text": [
        " \r",
        "0889   2.244263e+04   1.000000e-15   1.206684e+04"
       ]
      },
      {
       "output_type": "stream",
       "stream": "stdout",
       "text": [
        " \r",
        "0890   2.244233e+04   1.000000e-15   7.445152e+03"
       ]
      },
      {
       "output_type": "stream",
       "stream": "stdout",
       "text": [
        " \r",
        "0891   2.244187e+04   1.000000e-15   7.495268e+03"
       ]
      },
      {
       "output_type": "stream",
       "stream": "stdout",
       "text": [
        " \r",
        "0892   2.244141e+04   1.000000e-15   5.215562e+03"
       ]
      },
      {
       "output_type": "stream",
       "stream": "stdout",
       "text": [
        " \r",
        "0893   2.244046e+04   1.000000e-15   1.563686e+04"
       ]
      },
      {
       "output_type": "stream",
       "stream": "stdout",
       "text": [
        " \r",
        "0894   2.243969e+04   1.000000e-15   1.119029e+04"
       ]
      },
      {
       "output_type": "stream",
       "stream": "stdout",
       "text": [
        " \r",
        "0895   2.243922e+04   1.000000e-15   1.404868e+04"
       ]
      },
      {
       "output_type": "stream",
       "stream": "stdout",
       "text": [
        " \r",
        "0896   2.243878e+04   1.000000e-15   5.429752e+03"
       ]
      },
      {
       "output_type": "stream",
       "stream": "stdout",
       "text": [
        " \r",
        "0897   2.243840e+04   1.000000e-15   8.169766e+03"
       ]
      },
      {
       "output_type": "stream",
       "stream": "stdout",
       "text": [
        " \r",
        "0898   2.243760e+04   1.000000e-15   8.777963e+03"
       ]
      },
      {
       "output_type": "stream",
       "stream": "stdout",
       "text": [
        " \r",
        "0899   2.243717e+04   1.000000e-15   1.042302e+04"
       ]
      },
      {
       "output_type": "stream",
       "stream": "stdout",
       "text": [
        " \r",
        "0900   2.243660e+04   1.000000e-15   9.240578e+03"
       ]
      },
      {
       "output_type": "stream",
       "stream": "stdout",
       "text": [
        " \r",
        "0901   2.243617e+04   1.000000e-15   6.872869e+03"
       ]
      },
      {
       "output_type": "stream",
       "stream": "stdout",
       "text": [
        " \r",
        "0902   2.243550e+04   1.000000e-15   1.210968e+04"
       ]
      },
      {
       "output_type": "stream",
       "stream": "stdout",
       "text": [
        " \r",
        "0903   2.243505e+04   1.000000e-15   7.141354e+03"
       ]
      },
      {
       "output_type": "stream",
       "stream": "stdout",
       "text": [
        " \r",
        "0904   2.243470e+04   1.000000e-15   9.463619e+03"
       ]
      },
      {
       "output_type": "stream",
       "stream": "stdout",
       "text": [
        " \r",
        "0905   2.243422e+04   1.000000e-15   4.188791e+03"
       ]
      },
      {
       "output_type": "stream",
       "stream": "stdout",
       "text": [
        " \r",
        "0906   2.243367e+04   1.000000e-15   1.205673e+04"
       ]
      },
      {
       "output_type": "stream",
       "stream": "stdout",
       "text": [
        " \r",
        "0907   2.243271e+04   1.000000e-15   9.805009e+03"
       ]
      },
      {
       "output_type": "stream",
       "stream": "stdout",
       "text": [
        " \r",
        "0908   2.243237e+04   1.000000e-15   1.209395e+04"
       ]
      },
      {
       "output_type": "stream",
       "stream": "stdout",
       "text": [
        " \r",
        "0909   2.243195e+04   1.000000e-15   4.786026e+03"
       ]
      },
      {
       "output_type": "stream",
       "stream": "stdout",
       "text": [
        " \r",
        "0910   2.243168e+04   1.000000e-15   6.248348e+03"
       ]
      },
      {
       "output_type": "stream",
       "stream": "stdout",
       "text": [
        " \r",
        "0911   2.243068e+04   1.000000e-15   7.893096e+03"
       ]
      },
      {
       "output_type": "stream",
       "stream": "stdout",
       "text": [
        " \r",
        "0912   2.243021e+04   1.000000e-15   1.183406e+04"
       ]
      },
      {
       "output_type": "stream",
       "stream": "stdout",
       "text": [
        " \r",
        "0913   2.242962e+04   1.000000e-15   1.027051e+04"
       ]
      },
      {
       "output_type": "stream",
       "stream": "stdout",
       "text": [
        " \r",
        "0914   2.242936e+04   1.000000e-15   4.797203e+03"
       ]
      },
      {
       "output_type": "stream",
       "stream": "stdout",
       "text": [
        " \r",
        "0915   2.242874e+04   1.000000e-15   8.051231e+03"
       ]
      },
      {
       "output_type": "stream",
       "stream": "stdout",
       "text": [
        " \r",
        "0916   2.242811e+04   1.000000e-15   8.496134e+03"
       ]
      },
      {
       "output_type": "stream",
       "stream": "stdout",
       "text": [
        " \r",
        "0917   2.242751e+04   1.000000e-15   1.505403e+04"
       ]
      },
      {
       "output_type": "stream",
       "stream": "stdout",
       "text": [
        " \r",
        "0918   2.242711e+04   1.000000e-15   5.702836e+03"
       ]
      },
      {
       "output_type": "stream",
       "stream": "stdout",
       "text": [
        " \r",
        "0919   2.242674e+04   1.000000e-15   8.579284e+03"
       ]
      },
      {
       "output_type": "stream",
       "stream": "stdout",
       "text": [
        " \r",
        "0920   2.242600e+04   1.000000e-15   6.963214e+03"
       ]
      },
      {
       "output_type": "stream",
       "stream": "stdout",
       "text": [
        " \r",
        "0921   2.242552e+04   1.000000e-15   1.290598e+04"
       ]
      },
      {
       "output_type": "stream",
       "stream": "stdout",
       "text": [
        " \r",
        "0922   2.242498e+04   1.000000e-15   8.170269e+03"
       ]
      },
      {
       "output_type": "stream",
       "stream": "stdout",
       "text": [
        " \r",
        "0923   2.242470e+04   1.000000e-15   6.086481e+03"
       ]
      },
      {
       "output_type": "stream",
       "stream": "stdout",
       "text": [
        " \r",
        "0924   2.242404e+04   1.000000e-15   7.480096e+03"
       ]
      },
      {
       "output_type": "stream",
       "stream": "stdout",
       "text": [
        " \r",
        "0925   2.242349e+04   1.000000e-15   9.100244e+03"
       ]
      },
      {
       "output_type": "stream",
       "stream": "stdout",
       "text": [
        " \r",
        "0926   2.242289e+04   1.000000e-15   1.366026e+04"
       ]
      },
      {
       "output_type": "stream",
       "stream": "stdout",
       "text": [
        " \r",
        "0927   2.242256e+04   1.000000e-15   4.770912e+03"
       ]
      },
      {
       "output_type": "stream",
       "stream": "stdout",
       "text": [
        " \r",
        "0928   2.242215e+04   1.000000e-15   8.711843e+03"
       ]
      },
      {
       "output_type": "stream",
       "stream": "stdout",
       "text": [
        " \r",
        "0929   2.242127e+04   1.000000e-15   6.391820e+03"
       ]
      },
      {
       "output_type": "stream",
       "stream": "stdout",
       "text": [
        " \r",
        "0930   2.242065e+04   1.000000e-15   1.932929e+04"
       ]
      },
      {
       "output_type": "stream",
       "stream": "stdout",
       "text": [
        " \r",
        "0931   2.242008e+04   1.000000e-15   6.988969e+03"
       ]
      },
      {
       "output_type": "stream",
       "stream": "stdout",
       "text": [
        " \r",
        "0932   2.241986e+04   1.000000e-15   6.880486e+03"
       ]
      },
      {
       "output_type": "stream",
       "stream": "stdout",
       "text": [
        " \r",
        "0933   2.241907e+04   1.000000e-15   4.844045e+03"
       ]
      },
      {
       "output_type": "stream",
       "stream": "stdout",
       "text": [
        " \r",
        "0934   2.241861e+04   1.000000e-15   1.130858e+04"
       ]
      },
      {
       "output_type": "stream",
       "stream": "stdout",
       "text": [
        " \r",
        "0935   2.241781e+04   1.000000e-15   1.111845e+04"
       ]
      },
      {
       "output_type": "stream",
       "stream": "stdout",
       "text": [
        " \r",
        "0936   2.241755e+04   1.000000e-15   5.689424e+03"
       ]
      },
      {
       "output_type": "stream",
       "stream": "stdout",
       "text": [
        " \r",
        "0937   2.241690e+04   1.000000e-15   8.047968e+03"
       ]
      },
      {
       "output_type": "stream",
       "stream": "stdout",
       "text": [
        " \r",
        "0938   2.241634e+04   1.000000e-15   7.786553e+03"
       ]
      },
      {
       "output_type": "stream",
       "stream": "stdout",
       "text": [
        " \r",
        "0939   2.241570e+04   1.000000e-15   1.489986e+04"
       ]
      },
      {
       "output_type": "stream",
       "stream": "stdout",
       "text": [
        " \r",
        "0940   2.241537e+04   1.000000e-15   5.144451e+03"
       ]
      },
      {
       "output_type": "stream",
       "stream": "stdout",
       "text": [
        " \r",
        "0941   2.241503e+04   1.000000e-15   7.389979e+03"
       ]
      },
      {
       "output_type": "stream",
       "stream": "stdout",
       "text": [
        " \r",
        "0942   2.241435e+04   1.000000e-15   5.802722e+03"
       ]
      },
      {
       "output_type": "stream",
       "stream": "stdout",
       "text": [
        " \r",
        "0943   2.241377e+04   1.000000e-15   1.467255e+04"
       ]
      },
      {
       "output_type": "stream",
       "stream": "stdout",
       "text": [
        " \r",
        "0944   2.241323e+04   1.000000e-15   8.476797e+03"
       ]
      },
      {
       "output_type": "stream",
       "stream": "stdout",
       "text": [
        " \r",
        "0945   2.241301e+04   1.000000e-15   6.045431e+03"
       ]
      },
      {
       "output_type": "stream",
       "stream": "stdout",
       "text": [
        " \r",
        "0946   2.241253e+04   1.000000e-15   5.074192e+03"
       ]
      },
      {
       "output_type": "stream",
       "stream": "stdout",
       "text": [
        " \r",
        "0947   2.241208e+04   1.000000e-15   7.873398e+03"
       ]
      },
      {
       "output_type": "stream",
       "stream": "stdout",
       "text": [
        " \r",
        "0948   2.241139e+04   1.000000e-15   1.193825e+04"
       ]
      },
      {
       "output_type": "stream",
       "stream": "stdout",
       "text": [
        " \r",
        "0949   2.241112e+04   1.000000e-15   5.816342e+03"
       ]
      },
      {
       "output_type": "stream",
       "stream": "stdout",
       "text": [
        " \r",
        "0950   2.241081e+04   1.000000e-15   6.201352e+03"
       ]
      },
      {
       "output_type": "stream",
       "stream": "stdout",
       "text": [
        " \r",
        "0951   2.241035e+04   1.000000e-15   4.084159e+03"
       ]
      },
      {
       "output_type": "stream",
       "stream": "stdout",
       "text": [
        " \r",
        "0952   2.240962e+04   1.000000e-15   1.428322e+04"
       ]
      },
      {
       "output_type": "stream",
       "stream": "stdout",
       "text": [
        " \r",
        "0953   2.240901e+04   1.000000e-15   8.599227e+03"
       ]
      },
      {
       "output_type": "stream",
       "stream": "stdout",
       "text": [
        " \r",
        "0954   2.240875e+04   1.000000e-15   9.297809e+03"
       ]
      },
      {
       "output_type": "stream",
       "stream": "stdout",
       "text": [
        " \r",
        "0955   2.240840e+04   1.000000e-15   3.003599e+03"
       ]
      },
      {
       "output_type": "stream",
       "stream": "stdout",
       "text": [
        " \r",
        "0956   2.240808e+04   1.000000e-15   7.722142e+03"
       ]
      },
      {
       "output_type": "stream",
       "stream": "stdout",
       "text": [
        " \r",
        "0957   2.240719e+04   1.000000e-15   7.064944e+03"
       ]
      },
      {
       "output_type": "stream",
       "stream": "stdout",
       "text": [
        " \r",
        "0958   2.240689e+04   1.000000e-15   1.011900e+04"
       ]
      },
      {
       "output_type": "stream",
       "stream": "stdout",
       "text": [
        " \r",
        "0959   2.240641e+04   1.000000e-15   5.444168e+03"
       ]
      },
      {
       "output_type": "stream",
       "stream": "stdout",
       "text": [
        " \r",
        "0960   2.240615e+04   1.000000e-15   5.402100e+03"
       ]
      },
      {
       "output_type": "stream",
       "stream": "stdout",
       "text": [
        " \r",
        "0961   2.240545e+04   1.000000e-15   7.825199e+03"
       ]
      },
      {
       "output_type": "stream",
       "stream": "stdout",
       "text": [
        " \r",
        "0962   2.240519e+04   1.000000e-15   5.856638e+03"
       ]
      },
      {
       "output_type": "stream",
       "stream": "stdout",
       "text": [
        " \r",
        "0963   2.240484e+04   1.000000e-15   6.390252e+03"
       ]
      },
      {
       "output_type": "stream",
       "stream": "stdout",
       "text": [
        " \r",
        "0964   2.240454e+04   1.000000e-15   3.629162e+03"
       ]
      },
      {
       "output_type": "stream",
       "stream": "stdout",
       "text": [
        " \r",
        "0965   2.240402e+04   1.000000e-15   9.675735e+03"
       ]
      },
      {
       "output_type": "stream",
       "stream": "stdout",
       "text": [
        " \r",
        "0966   2.240362e+04   1.000000e-15   5.989485e+03"
       ]
      },
      {
       "output_type": "stream",
       "stream": "stdout",
       "text": [
        " \r",
        "0967   2.240338e+04   1.000000e-15   7.114937e+03"
       ]
      },
      {
       "output_type": "stream",
       "stream": "stdout",
       "text": [
        " \r",
        "0968   2.240309e+04   1.000000e-15   3.005787e+03"
       ]
      },
      {
       "output_type": "stream",
       "stream": "stdout",
       "text": [
        " \r",
        "0969   2.240280e+04   1.000000e-15   6.108698e+03"
       ]
      },
      {
       "output_type": "stream",
       "stream": "stdout",
       "text": [
        " \r",
        "0970   2.240220e+04   1.000000e-15   6.627863e+03"
       ]
      },
      {
       "output_type": "stream",
       "stream": "stdout",
       "text": [
        " \r",
        "0971   2.240197e+04   1.000000e-15   6.999708e+03"
       ]
      },
      {
       "output_type": "stream",
       "stream": "stdout",
       "text": [
        " \r",
        "0972   2.240171e+04   1.000000e-15   4.111711e+03"
       ]
      },
      {
       "output_type": "stream",
       "stream": "stdout",
       "text": [
        " \r",
        "0973   2.240153e+04   1.000000e-15   3.103221e+03"
       ]
      },
      {
       "output_type": "stream",
       "stream": "stdout",
       "text": [
        " \r",
        "0974   2.240102e+04   1.000000e-15   5.814249e+03"
       ]
      },
      {
       "output_type": "stream",
       "stream": "stdout",
       "text": [
        " \r",
        "0975   2.240063e+04   1.000000e-15   6.725729e+03"
       ]
      },
      {
       "output_type": "stream",
       "stream": "stdout",
       "text": [
        " \r",
        "0976   2.240027e+04   1.000000e-15   8.905175e+03"
       ]
      },
      {
       "output_type": "stream",
       "stream": "stdout",
       "text": [
        " \r",
        "0977   2.240005e+04   1.000000e-15   2.914095e+03"
       ]
      },
      {
       "output_type": "stream",
       "stream": "stdout",
       "text": [
        " \r",
        "0978   2.239976e+04   1.000000e-15   5.863369e+03"
       ]
      },
      {
       "output_type": "stream",
       "stream": "stdout",
       "text": [
        " \r",
        "0979   2.239922e+04   1.000000e-15   4.699561e+03"
       ]
      },
      {
       "output_type": "stream",
       "stream": "stdout",
       "text": [
        " \r",
        "0980   2.239887e+04   1.000000e-15   1.083803e+04"
       ]
      },
      {
       "output_type": "stream",
       "stream": "stdout",
       "text": [
        " \r",
        "0981   2.239857e+04   1.000000e-15   3.621160e+03"
       ]
      },
      {
       "output_type": "stream",
       "stream": "stdout",
       "text": [
        " \r",
        "0982   2.239837e+04   1.000000e-15   5.151781e+03"
       ]
      },
      {
       "output_type": "stream",
       "stream": "stdout",
       "text": [
        " \r",
        "0983   2.239765e+04   1.000000e-15   4.584153e+03"
       ]
      },
      {
       "output_type": "stream",
       "stream": "stdout",
       "text": [
        " \r",
        "0984   2.239730e+04   1.000000e-15   1.047300e+04"
       ]
      },
      {
       "output_type": "stream",
       "stream": "stdout",
       "text": [
        " \r",
        "0985   2.239686e+04   1.000000e-15   6.472556e+03"
       ]
      },
      {
       "output_type": "stream",
       "stream": "stdout",
       "text": [
        " \r",
        "0986   2.239672e+04   1.000000e-15   3.509945e+03"
       ]
      },
      {
       "output_type": "stream",
       "stream": "stdout",
       "text": [
        " \r",
        "0987   2.239626e+04   1.000000e-15   4.081916e+03"
       ]
      },
      {
       "output_type": "stream",
       "stream": "stdout",
       "text": [
        " \r",
        "0988   2.239587e+04   1.000000e-15   6.292478e+03"
       ]
      },
      {
       "output_type": "stream",
       "stream": "stdout",
       "text": [
        " \r",
        "0989   2.239528e+04   1.000000e-15   1.098694e+04"
       ]
      },
      {
       "output_type": "stream",
       "stream": "stdout",
       "text": [
        " \r",
        "0990   2.239507e+04   1.000000e-15   4.050324e+03"
       ]
      },
      {
       "output_type": "stream",
       "stream": "stdout",
       "text": [
        " \r",
        "0991   2.239478e+04   1.000000e-15   5.514141e+03"
       ]
      },
      {
       "output_type": "stream",
       "stream": "stdout",
       "text": [
        " \r",
        "0992   2.239438e+04   1.000000e-15   4.061614e+03"
       ]
      },
      {
       "output_type": "stream",
       "stream": "stdout",
       "text": [
        " \r",
        "0993   2.239397e+04   1.000000e-15   9.998861e+03"
       ]
      },
      {
       "output_type": "stream",
       "stream": "stdout",
       "text": [
        " \r",
        "0994   2.239365e+04   1.000000e-15   4.689016e+03"
       ]
      },
      {
       "output_type": "stream",
       "stream": "stdout",
       "text": [
        " \r",
        "0995   2.239345e+04   1.000000e-15   5.236310e+03"
       ]
      },
      {
       "output_type": "stream",
       "stream": "stdout",
       "text": [
        " \r",
        "0996   2.239303e+04   1.000000e-15   3.862444e+03"
       ]
      },
      {
       "output_type": "stream",
       "stream": "stdout",
       "text": [
        " \r",
        "0997   2.239273e+04   1.000000e-15   7.173135e+03"
       ]
      },
      {
       "output_type": "stream",
       "stream": "stdout",
       "text": [
        " \r",
        "0998   2.239235e+04   1.000000e-15   6.149968e+03"
       ]
      },
      {
       "output_type": "stream",
       "stream": "stdout",
       "text": [
        " \r",
        "0999   2.239218e+04   1.000000e-15   3.676992e+03"
       ]
      },
      {
       "output_type": "stream",
       "stream": "stdout",
       "text": [
        " \r",
        "1000   2.239184e+04   1.000000e-15   4.391156e+03"
       ]
      },
      {
       "output_type": "stream",
       "stream": "stdout",
       "text": [
        " \r",
        "1000   2.239184e+04   1.000000e-15   5.204208e+03"
       ]
      },
      {
       "output_type": "stream",
       "stream": "stdout",
       "text": [
        " \n",
        "maxiter exceeded\n"
       ]
      }
     ],
     "prompt_number": 39
    },
    {
     "cell_type": "code",
     "collapsed": false,
     "input": [
      "def plot_model(m, which_dims, labels):\n",
      "    fig = plt.figure(); ax = fig.add_subplot(111)\n",
      "    X = m.X[:,which_dims]\n",
      "    ulabs = []\n",
      "    for lab in labels:\n",
      "        if not lab in ulabs:\n",
      "            ulabs.append(lab)\n",
      "            pass\n",
      "        pass\n",
      "    for i, lab in enumerate(ulabs):\n",
      "        ax.scatter(*X.mean[labels==lab].T,marker='o',color=colors[i],label=lab)\n",
      "        pass\n",
      "    pass\n"
     ],
     "language": "python",
     "metadata": {},
     "outputs": [],
     "prompt_number": 69
    },
    {
     "cell_type": "code",
     "collapsed": false,
     "input": [
      "# Plotting the model\n",
      "plot_model(model, model.rbf.lengthscale.argsort()[:2], labels.flatten())\n",
      "plt.legend()\n",
      "model.kern.plot_ARD()\n",
      "# Saving the model:\n",
      "model.pickle('bgplvm_rbf.pickle')"
     ],
     "language": "python",
     "metadata": {},
     "outputs": [
      {
       "metadata": {},
       "output_type": "display_data",
       "png": "[encoded data removed]",
       "text": [
        "<matplotlib.figure.Figure at 0x111103950>"
       ]
      },
      {
       "metadata": {},
       "output_type": "display_data",
       "png": "[encoded data removed]",
       "text": [
        "<matplotlib.figure.Figure at 0x110a8cd10>"
       ]
      }
     ],
     "prompt_number": 70
    },
    {
     "cell_type": "markdown",
     "metadata": {},
     "source": [
      "Because we are now also considering the uncertainty in the model, this optimization can take some time. However, you are free to interrupt the optimization at any point selecting `Kernel->Interupt` from the notepad menu. This will leave you with the model, `m` in the current state and you can plot and look into the model parameters. "
     ]
    },
    {
     "cell_type": "markdown",
     "metadata": {},
     "source": [
      "### Exercise 3\n",
      "\n",
      "How does the Bayesian GP-LVM compare with the standard model?"
     ]
    },
    {
     "cell_type": "raw",
     "metadata": {},
     "source": [
      "# Exercise 3 answer "
     ]
    },
    {
     "cell_type": "markdown",
     "metadata": {},
     "source": [
      "### Preoptimized Model\n",
      "\n",
      "A good way of working with latent variable models is to interact with the latent dimensions, generating data. This is a little bit tricky in the notebook, so below in section 6 we provide code for setting up an interactive demo in the standard IPython shell. If you are working on your own machine you can try this now. Otherwise continue with section 5.\n",
      "\n",
      "## Multiview Learning: Manifold Relevance Determination\n",
      "\n",
      "In Manifold Relevance Determination we try to find one latent space, common for $K$ observed output sets (modalities) $\\{\\mathbf{Y}_{k}\\}_{k=1}^{K}$. Each modality is associated with a separate set of ARD parameters so that it switches off different parts of the whole latent space and, therefore, $\\mathbf{X}$ is softly segmented into parts that are private to some, or shared for all modalities. Can you explain what happens in the following example?\n",
      "\n",
      "Again, you can stop the optimizer at any point and explore the result obtained with the so far training:"
     ]
    },
    {
     "cell_type": "code",
     "collapsed": false,
     "input": [
      "model = GPy.examples.dimensionality_reduction.mrd_simulation(optimize = False)\n",
      "model.optimize(messages = True, max_iters=1000, optimizer = 'bfgs')"
     ],
     "language": "python",
     "metadata": {},
     "outputs": []
    },
    {
     "cell_type": "code",
     "collapsed": false,
     "input": [
      "model.plot_scales()\n",
      "model.plot_X_1d()"
     ],
     "language": "python",
     "metadata": {},
     "outputs": []
    },
    {
     "cell_type": "markdown",
     "metadata": {},
     "source": [
      "### Exercise 4\n",
      "\n",
      "The simulated data set is a sinusoid and a double frequency sinusoid function as input signals.\n",
      "\n",
      "Which signal is shared across the three datasets? Which are private? Are there signals shared only between two of the three datasets?"
     ]
    },
    {
     "cell_type": "raw",
     "metadata": {},
     "source": [
      "# Exercise 4"
     ]
    },
    {
     "cell_type": "markdown",
     "metadata": {},
     "source": [
      "## Interactive Demo: For Use Outside the Notepad\n",
      "\n",
      "The module below loads a pre-optimized Bayesian GPLVM model (like the one you just trained) and allows you to interact with the latent space. \n",
      "Three interactive figures pop up: the latent space, the ARD scales and a sample in the output space (corresponding to the current selected latent point of the other figure). \n",
      "You can sample with the mouse from the latent space and obtain samples in the output space. \n",
      "You can select different latent dimensions to vary by clicking on the corresponding scales with the left and right mouse buttons.\n",
      "This will also cause the latent space to be projected on the selected latent dimensions in the other figure."
     ]
    },
    {
     "cell_type": "code",
     "collapsed": false,
     "input": [
      "run load_bgplvm_dimension_select.py"
     ],
     "language": "python",
     "metadata": {},
     "outputs": []
    },
    {
     "cell_type": "code",
     "collapsed": false,
     "input": [
      "import cPickle as pickle\n",
      "with open('./digit_bgplvm_demo.pickle', 'rb') as f:\n",
      "    model = pickle.load(f)"
     ],
     "language": "python",
     "metadata": {},
     "outputs": []
    },
    {
     "cell_type": "markdown",
     "metadata": {},
     "source": [
      "Prepare for plotting of this model. If you run on a webserver the interactive plotting will not work. Thus, you can skip to the next codeblock and run it on your own machine, later."
     ]
    },
    {
     "cell_type": "code",
     "collapsed": false,
     "input": [
      "fig = pb.figure('Latent Space & Scales', figsize=(16,6))\n",
      "ax_latent = fig.add_subplot(121)\n",
      "ax_scales = fig.add_subplot(122)\n",
      "\n",
      "fig_out = pb.figure('Output', figsize=(1,1))\n",
      "ax_image  = fig_out.add_subplot(111)\n",
      "fig_out.tight_layout(pad=0)\n",
      "\n",
      "data_show = GPy.util.visualize.image_show(model.likelihood.Y[0:1, :], \n",
      "                                          dimensions=(16, 16), \n",
      "                                          transpose=0, invert=0, \n",
      "                                          scale=False, axes=ax_image)\n",
      "\n",
      "lvm_visualizer = GPy.util.visualize.lvm_dimselect(model.X.copy(), model, \n",
      "                                                  data_show, ax_latent, \n",
      "                                                  ax_scales, labels=labels.flatten())"
     ],
     "language": "python",
     "metadata": {},
     "outputs": []
    },
    {
     "cell_type": "markdown",
     "metadata": {},
     "source": [
      "**Observations**\n",
      "\n",
      "Confirm the following observations by interacting with the demo:\n",
      "\n",
      "* We tend to obtain more \"strange\" outputs when sampling from latent space areas away from the training inputs.\n",
      "* When sampling from the two dominant latent dimensions (the ones corresponding to large scales) we differentiate between all digits. Also note that projecting the latent space into the two dominant dimensions better separates the classes.\n",
      "* When sampling from less dominant latent dimensions the outputs vary in a more subtle way.\n",
      "\n",
      "You can also run the dimensionality reduction example"
     ]
    },
    {
     "cell_type": "code",
     "collapsed": false,
     "input": [
      "GPy.examples.dimensionality_reduction.bgplvm_simulation()"
     ],
     "language": "python",
     "metadata": {},
     "outputs": []
    },
    {
     "cell_type": "markdown",
     "metadata": {},
     "source": [
      "**Questions**\n",
      "\n",
      "* Can you see a difference in the ARD parameters to the non Bayesian GPLVM?\n",
      "* How does the Bayesian GPLVM allow the ARD parameters of the RBF kernel magnify the two first dimensions?\n",
      "* Is Bayesian GPLVM better in differentiating between different kinds of digits?\n",
      "* Why does the starting noise variance have to be lower then the variance of the observed values?\n",
      "* How come we use the lowest variance when using a linear kernel, but the highest lengtscale when using an RBF kernel?"
     ]
    },
    {
     "cell_type": "heading",
     "level": 2,
     "metadata": {},
     "source": [
      "References"
     ]
    },
    {
     "cell_type": "markdown",
     "metadata": {},
     "source": [
      "C. M. Bishop. Pattern recognition and machine learning, volume 1. springer New York, 2006.\n",
      "\n",
      "T. de Campos, B. R. Babu, and M. Varma. Character recognition in natural images. VISAPP 2009.\n",
      "\n",
      "N. D. Lawrence. Probabilistic non-linear principal component analysis with Gaussian process latent variable models. In Journal of Machine Learning Research 6, pp 1783--1816, 2005"
     ]
    }
   ],
   "metadata": {}
  }
 ]
}